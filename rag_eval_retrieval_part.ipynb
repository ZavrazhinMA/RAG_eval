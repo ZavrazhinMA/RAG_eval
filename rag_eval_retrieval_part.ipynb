{
 "cells": [
  {
   "cell_type": "code",
   "execution_count": 1,
   "id": "c3851caa",
   "metadata": {
    "ExecuteTime": {
     "end_time": "2024-09-04T19:32:40.794134Z",
     "start_time": "2024-09-04T19:32:40.791878Z"
    }
   },
   "outputs": [],
   "source": [
    "# !pip install datasets\n",
    "# !pip install urllib3\n",
    "# !pip uninstall urllib3\n",
    "# !pip install --upgrade botocore\n",
    "# !pip install --upgrade datasets\n",
    "# !pip install -U datasets\n",
    "# !pip install python-terrier"
   ]
  },
  {
   "cell_type": "code",
   "execution_count": 2,
   "id": "0d281760",
   "metadata": {
    "ExecuteTime": {
     "end_time": "2024-09-04T19:32:40.810762Z",
     "start_time": "2024-09-04T19:32:40.795134Z"
    }
   },
   "outputs": [
    {
     "name": "stdout",
     "output_type": "stream",
     "text": [
      "Python 3.11.5\n"
     ]
    }
   ],
   "source": [
    "!python --version"
   ]
  },
  {
   "cell_type": "code",
   "execution_count": 3,
   "id": "d4c74cf7",
   "metadata": {
    "ExecuteTime": {
     "end_time": "2024-09-04T19:32:40.813964Z",
     "start_time": "2024-09-04T19:32:40.811765Z"
    }
   },
   "outputs": [],
   "source": [
    "# !python -m venv rag_eval"
   ]
  },
  {
   "cell_type": "markdown",
   "id": "541a0b10",
   "metadata": {},
   "source": [
    "# IMPORTS"
   ]
  },
  {
   "cell_type": "code",
   "execution_count": 4,
   "id": "9805e41e",
   "metadata": {
    "ExecuteTime": {
     "end_time": "2024-09-04T19:32:42.145428Z",
     "start_time": "2024-09-04T19:32:40.814963Z"
    }
   },
   "outputs": [],
   "source": [
    "from datasets import load_dataset\n",
    "from tqdm.auto import tqdm\n",
    "from utils.metrics_utils import *\n",
    "import numpy as np"
   ]
  },
  {
   "cell_type": "code",
   "execution_count": 5,
   "id": "399fc3db",
   "metadata": {
    "ExecuteTime": {
     "end_time": "2024-09-04T19:32:42.149149Z",
     "start_time": "2024-09-04T19:32:42.146432Z"
    }
   },
   "outputs": [],
   "source": [
    "tqdm.pandas()"
   ]
  },
  {
   "cell_type": "markdown",
   "id": "738a50b4",
   "metadata": {},
   "source": [
    "# Dowload dataset"
   ]
  },
  {
   "cell_type": "code",
   "execution_count": 6,
   "id": "ee7afd18",
   "metadata": {
    "ExecuteTime": {
     "end_time": "2024-09-04T19:32:56.539939Z",
     "start_time": "2024-09-04T19:32:42.150148Z"
    }
   },
   "outputs": [],
   "source": [
    "# Загрузка конфигурации question-answer-passages\n",
    "qa_dataset = load_dataset(\"enelpol/rag-mini-bioasq\", \"question-answer-passages\")\n",
    "\n",
    "# Загрузка конфигурации text-corpus\n",
    "text_dataset = load_dataset(\"enelpol/rag-mini-bioasq\", \"text-corpus\")"
   ]
  },
  {
   "cell_type": "code",
   "execution_count": 7,
   "id": "b13b1410",
   "metadata": {
    "ExecuteTime": {
     "end_time": "2024-09-04T19:32:56.551419Z",
     "start_time": "2024-09-04T19:32:56.540938Z"
    }
   },
   "outputs": [],
   "source": [
    "df_rag = qa_dataset[\"train\"].to_pandas()"
   ]
  },
  {
   "cell_type": "code",
   "execution_count": 8,
   "id": "902dbdd4",
   "metadata": {
    "ExecuteTime": {
     "end_time": "2024-09-04T19:32:56.614294Z",
     "start_time": "2024-09-04T19:32:56.552421Z"
    }
   },
   "outputs": [],
   "source": [
    "indexed_passages = text_dataset[\"test\"].to_pandas()"
   ]
  },
  {
   "cell_type": "code",
   "execution_count": 9,
   "id": "9ed7bc5e",
   "metadata": {
    "ExecuteTime": {
     "end_time": "2024-09-04T19:32:56.627365Z",
     "start_time": "2024-09-04T19:32:56.616291Z"
    }
   },
   "outputs": [
    {
     "data": {
      "text/html": [
       "<div>\n",
       "<style scoped>\n",
       "    .dataframe tbody tr th:only-of-type {\n",
       "        vertical-align: middle;\n",
       "    }\n",
       "\n",
       "    .dataframe tbody tr th {\n",
       "        vertical-align: top;\n",
       "    }\n",
       "\n",
       "    .dataframe thead th {\n",
       "        text-align: right;\n",
       "    }\n",
       "</style>\n",
       "<table border=\"1\" class=\"dataframe\">\n",
       "  <thead>\n",
       "    <tr style=\"text-align: right;\">\n",
       "      <th></th>\n",
       "      <th>question</th>\n",
       "      <th>answer</th>\n",
       "      <th>id</th>\n",
       "      <th>relevant_passage_ids</th>\n",
       "    </tr>\n",
       "  </thead>\n",
       "  <tbody>\n",
       "    <tr>\n",
       "      <th>0</th>\n",
       "      <td>What is the implication of histone lysine meth...</td>\n",
       "      <td>Aberrant patterns of H3K4, H3K9, and H3K27 his...</td>\n",
       "      <td>1682</td>\n",
       "      <td>[23179372, 19270706, 23184418]</td>\n",
       "    </tr>\n",
       "    <tr>\n",
       "      <th>1</th>\n",
       "      <td>What is the role of STAG1/STAG2 proteins in di...</td>\n",
       "      <td>STAG1/STAG2 proteins are tumour suppressor pro...</td>\n",
       "      <td>3722</td>\n",
       "      <td>[26997282, 21589869, 19822671, 29867216, 15361...</td>\n",
       "    </tr>\n",
       "  </tbody>\n",
       "</table>\n",
       "</div>"
      ],
      "text/plain": [
       "                                            question  \\\n",
       "0  What is the implication of histone lysine meth...   \n",
       "1  What is the role of STAG1/STAG2 proteins in di...   \n",
       "\n",
       "                                              answer    id  \\\n",
       "0  Aberrant patterns of H3K4, H3K9, and H3K27 his...  1682   \n",
       "1  STAG1/STAG2 proteins are tumour suppressor pro...  3722   \n",
       "\n",
       "                                relevant_passage_ids  \n",
       "0                     [23179372, 19270706, 23184418]  \n",
       "1  [26997282, 21589869, 19822671, 29867216, 15361...  "
      ]
     },
     "metadata": {},
     "output_type": "display_data"
    },
    {
     "data": {
      "text/html": [
       "<div>\n",
       "<style scoped>\n",
       "    .dataframe tbody tr th:only-of-type {\n",
       "        vertical-align: middle;\n",
       "    }\n",
       "\n",
       "    .dataframe tbody tr th {\n",
       "        vertical-align: top;\n",
       "    }\n",
       "\n",
       "    .dataframe thead th {\n",
       "        text-align: right;\n",
       "    }\n",
       "</style>\n",
       "<table border=\"1\" class=\"dataframe\">\n",
       "  <thead>\n",
       "    <tr style=\"text-align: right;\">\n",
       "      <th></th>\n",
       "      <th>passage</th>\n",
       "      <th>id</th>\n",
       "    </tr>\n",
       "  </thead>\n",
       "  <tbody>\n",
       "    <tr>\n",
       "      <th>0</th>\n",
       "      <td>New data on viruses isolated from patients wit...</td>\n",
       "      <td>9797</td>\n",
       "    </tr>\n",
       "    <tr>\n",
       "      <th>1</th>\n",
       "      <td>We describe an improved method for detecting d...</td>\n",
       "      <td>11906</td>\n",
       "    </tr>\n",
       "  </tbody>\n",
       "</table>\n",
       "</div>"
      ],
      "text/plain": [
       "                                             passage     id\n",
       "0  New data on viruses isolated from patients wit...   9797\n",
       "1  We describe an improved method for detecting d...  11906"
      ]
     },
     "metadata": {},
     "output_type": "display_data"
    }
   ],
   "source": [
    "display(df_rag.head(2), indexed_passages.head(2))"
   ]
  },
  {
   "cell_type": "code",
   "execution_count": 10,
   "id": "0c499762",
   "metadata": {
    "ExecuteTime": {
     "end_time": "2024-09-04T19:32:56.632217Z",
     "start_time": "2024-09-04T19:32:56.628366Z"
    }
   },
   "outputs": [],
   "source": [
    "def generate_from_retriever(row, indexed_passages, prob=0.85, top_k=20):\n",
    "    \"\"\"\n",
    "    Создает столбец 'from_retriever', имитируя поиск и ранжирование.\n",
    "    \n",
    "    Параметры:\n",
    "    row - строка из DataFrame с колонками 'question', 'answer', 'id', 'relevant_passage_ids'.\n",
    "    indexed_passages - DataFrame с проиндексированными пассажами.\n",
    "    prob - вероятность добавления релевантного пассажа.\n",
    "    top_k - количество возвращаемых пассажей (топ-K).\n",
    "    \n",
    "    Возвращает:\n",
    "    Список из top_k документов (ID), который содержит релевантные документы с вероятностью 'prob' и остальные документы.\n",
    "    \"\"\"\n",
    "    relevant_passage_ids = row['relevant_passage_ids']\n",
    "    from_retriever = []\n",
    "\n",
    "    for passage_id in relevant_passage_ids:\n",
    "        if np.random.rand() <= prob:\n",
    "            from_retriever.append(passage_id)\n",
    "\n",
    "    if len(from_retriever) < top_k:\n",
    "        available_ids = set(indexed_passages['id']) - set(from_retriever)\n",
    "        additional_passages = list(np.random.choice(list(available_ids), size=(top_k - len(from_retriever)), replace=False))\n",
    "        from_retriever.extend(additional_passages)\n",
    "    \n",
    "    np.random.shuffle(from_retriever)\n",
    "\n",
    "    return from_retriever"
   ]
  },
  {
   "cell_type": "code",
   "execution_count": 11,
   "id": "190741c3",
   "metadata": {
    "ExecuteTime": {
     "end_time": "2024-09-04T19:33:29.932464Z",
     "start_time": "2024-09-04T19:32:56.633221Z"
    }
   },
   "outputs": [
    {
     "data": {
      "application/vnd.jupyter.widget-view+json": {
       "model_id": "e72c9272dcc248c3b25921a4325f5818",
       "version_major": 2,
       "version_minor": 0
      },
      "text/plain": [
       "  0%|          | 0/4012 [00:00<?, ?it/s]"
      ]
     },
     "metadata": {},
     "output_type": "display_data"
    }
   ],
   "source": [
    "df_rag['from_retriever'] = df_rag.progress_apply(generate_from_retriever, args=(indexed_passages,), axis=1)"
   ]
  },
  {
   "cell_type": "code",
   "execution_count": 12,
   "id": "d94fcf6d",
   "metadata": {
    "ExecuteTime": {
     "end_time": "2024-09-04T19:33:29.940421Z",
     "start_time": "2024-09-04T19:33:29.933465Z"
    }
   },
   "outputs": [
    {
     "data": {
      "text/html": [
       "<div>\n",
       "<style scoped>\n",
       "    .dataframe tbody tr th:only-of-type {\n",
       "        vertical-align: middle;\n",
       "    }\n",
       "\n",
       "    .dataframe tbody tr th {\n",
       "        vertical-align: top;\n",
       "    }\n",
       "\n",
       "    .dataframe thead th {\n",
       "        text-align: right;\n",
       "    }\n",
       "</style>\n",
       "<table border=\"1\" class=\"dataframe\">\n",
       "  <thead>\n",
       "    <tr style=\"text-align: right;\">\n",
       "      <th></th>\n",
       "      <th>question</th>\n",
       "      <th>answer</th>\n",
       "      <th>id</th>\n",
       "      <th>relevant_passage_ids</th>\n",
       "      <th>from_retriever</th>\n",
       "    </tr>\n",
       "  </thead>\n",
       "  <tbody>\n",
       "    <tr>\n",
       "      <th>0</th>\n",
       "      <td>What is the implication of histone lysine meth...</td>\n",
       "      <td>Aberrant patterns of H3K4, H3K9, and H3K27 his...</td>\n",
       "      <td>1682</td>\n",
       "      <td>[23179372, 19270706, 23184418]</td>\n",
       "      <td>[24495750, 23179372, 25736164, 10848505, 16428...</td>\n",
       "    </tr>\n",
       "    <tr>\n",
       "      <th>1</th>\n",
       "      <td>What is the role of STAG1/STAG2 proteins in di...</td>\n",
       "      <td>STAG1/STAG2 proteins are tumour suppressor pro...</td>\n",
       "      <td>3722</td>\n",
       "      <td>[26997282, 21589869, 19822671, 29867216, 15361...</td>\n",
       "      <td>[24055171, 1574115, 11424143, 27865001, 318147...</td>\n",
       "    </tr>\n",
       "  </tbody>\n",
       "</table>\n",
       "</div>"
      ],
      "text/plain": [
       "                                            question  \\\n",
       "0  What is the implication of histone lysine meth...   \n",
       "1  What is the role of STAG1/STAG2 proteins in di...   \n",
       "\n",
       "                                              answer    id  \\\n",
       "0  Aberrant patterns of H3K4, H3K9, and H3K27 his...  1682   \n",
       "1  STAG1/STAG2 proteins are tumour suppressor pro...  3722   \n",
       "\n",
       "                                relevant_passage_ids  \\\n",
       "0                     [23179372, 19270706, 23184418]   \n",
       "1  [26997282, 21589869, 19822671, 29867216, 15361...   \n",
       "\n",
       "                                      from_retriever  \n",
       "0  [24495750, 23179372, 25736164, 10848505, 16428...  \n",
       "1  [24055171, 1574115, 11424143, 27865001, 318147...  "
      ]
     },
     "execution_count": 12,
     "metadata": {},
     "output_type": "execute_result"
    }
   ],
   "source": [
    "df_rag.head(2)"
   ]
  },
  {
   "cell_type": "code",
   "execution_count": 13,
   "id": "e5b12df4",
   "metadata": {
    "ExecuteTime": {
     "end_time": "2024-09-04T19:33:29.945857Z",
     "start_time": "2024-09-04T19:33:29.941864Z"
    }
   },
   "outputs": [],
   "source": [
    "def generate_from_ranker(row, prob=0.8):\n",
    "    \"\"\"\n",
    "    Создает столбец 'from_ranker', имитируя ранжирование результатов поиска.\n",
    "    \n",
    "    Параметры:\n",
    "    row - строка из DataFrame с колонками 'from_retriever' и 'relevant_passage_ids'.\n",
    "    prob - базовая вероятность поднятия релевантного документа в топ списка.\n",
    "    \n",
    "    Возвращает:\n",
    "    Список документов (ID) с ранжированием, где релевантные документы поднимаются выше с увеличенной вероятностью.\n",
    "    \"\"\"\n",
    "    from_retriever = row['from_retriever']\n",
    "    relevant_passage_ids = set(row['relevant_passage_ids'])\n",
    "    from_ranker = from_retriever.copy()\n",
    "\n",
    "    for i in range(len(from_ranker) - 1, -1, -1):\n",
    "        if from_ranker[i] in relevant_passage_ids:\n",
    "            if np.random.rand() <= prob:\n",
    "                weights = np.array([1 / (j + 1) for j in range(i + 1)])  # Инвертированное линейное распределение\n",
    "                weights = weights / weights.sum()  # Нормализация весов для получения вероятностей\n",
    "                new_position = np.random.choice(range(i + 1), p=weights)\n",
    "                from_ranker.insert(new_position, from_ranker.pop(i))\n",
    "    \n",
    "    return from_ranker"
   ]
  },
  {
   "cell_type": "code",
   "execution_count": 14,
   "id": "0e7d9610",
   "metadata": {
    "ExecuteTime": {
     "end_time": "2024-09-04T19:33:30.870991Z",
     "start_time": "2024-09-04T19:33:29.946855Z"
    }
   },
   "outputs": [
    {
     "data": {
      "application/vnd.jupyter.widget-view+json": {
       "model_id": "98bc0459fdac4bdf8b337f6a67fd5916",
       "version_major": 2,
       "version_minor": 0
      },
      "text/plain": [
       "  0%|          | 0/4012 [00:00<?, ?it/s]"
      ]
     },
     "metadata": {},
     "output_type": "display_data"
    }
   ],
   "source": [
    "df_rag['from_ranker'] = df_rag.progress_apply(generate_from_ranker, axis=1)"
   ]
  },
  {
   "cell_type": "code",
   "execution_count": 15,
   "id": "afc3774b",
   "metadata": {
    "ExecuteTime": {
     "end_time": "2024-09-04T19:33:30.878907Z",
     "start_time": "2024-09-04T19:33:30.871990Z"
    }
   },
   "outputs": [
    {
     "data": {
      "text/html": [
       "<div>\n",
       "<style scoped>\n",
       "    .dataframe tbody tr th:only-of-type {\n",
       "        vertical-align: middle;\n",
       "    }\n",
       "\n",
       "    .dataframe tbody tr th {\n",
       "        vertical-align: top;\n",
       "    }\n",
       "\n",
       "    .dataframe thead th {\n",
       "        text-align: right;\n",
       "    }\n",
       "</style>\n",
       "<table border=\"1\" class=\"dataframe\">\n",
       "  <thead>\n",
       "    <tr style=\"text-align: right;\">\n",
       "      <th></th>\n",
       "      <th>question</th>\n",
       "      <th>answer</th>\n",
       "      <th>id</th>\n",
       "      <th>relevant_passage_ids</th>\n",
       "      <th>from_retriever</th>\n",
       "      <th>from_ranker</th>\n",
       "    </tr>\n",
       "  </thead>\n",
       "  <tbody>\n",
       "    <tr>\n",
       "      <th>0</th>\n",
       "      <td>What is the implication of histone lysine meth...</td>\n",
       "      <td>Aberrant patterns of H3K4, H3K9, and H3K27 his...</td>\n",
       "      <td>1682</td>\n",
       "      <td>[23179372, 19270706, 23184418]</td>\n",
       "      <td>[24495750, 23179372, 25736164, 10848505, 16428...</td>\n",
       "      <td>[23179372, 24495750, 25736164, 10848505, 16428...</td>\n",
       "    </tr>\n",
       "    <tr>\n",
       "      <th>1</th>\n",
       "      <td>What is the role of STAG1/STAG2 proteins in di...</td>\n",
       "      <td>STAG1/STAG2 proteins are tumour suppressor pro...</td>\n",
       "      <td>3722</td>\n",
       "      <td>[26997282, 21589869, 19822671, 29867216, 15361...</td>\n",
       "      <td>[24055171, 1574115, 11424143, 27865001, 318147...</td>\n",
       "      <td>[18276799, 26997282, 27298259, 15361841, 24055...</td>\n",
       "    </tr>\n",
       "  </tbody>\n",
       "</table>\n",
       "</div>"
      ],
      "text/plain": [
       "                                            question  \\\n",
       "0  What is the implication of histone lysine meth...   \n",
       "1  What is the role of STAG1/STAG2 proteins in di...   \n",
       "\n",
       "                                              answer    id  \\\n",
       "0  Aberrant patterns of H3K4, H3K9, and H3K27 his...  1682   \n",
       "1  STAG1/STAG2 proteins are tumour suppressor pro...  3722   \n",
       "\n",
       "                                relevant_passage_ids  \\\n",
       "0                     [23179372, 19270706, 23184418]   \n",
       "1  [26997282, 21589869, 19822671, 29867216, 15361...   \n",
       "\n",
       "                                      from_retriever  \\\n",
       "0  [24495750, 23179372, 25736164, 10848505, 16428...   \n",
       "1  [24055171, 1574115, 11424143, 27865001, 318147...   \n",
       "\n",
       "                                         from_ranker  \n",
       "0  [23179372, 24495750, 25736164, 10848505, 16428...  \n",
       "1  [18276799, 26997282, 27298259, 15361841, 24055...  "
      ]
     },
     "execution_count": 15,
     "metadata": {},
     "output_type": "execute_result"
    }
   ],
   "source": [
    "df_rag.head(2)"
   ]
  },
  {
   "cell_type": "markdown",
   "id": "a0e159f7",
   "metadata": {
    "ExecuteTime": {
     "end_time": "2024-08-28T14:23:49.217141Z",
     "start_time": "2024-08-28T14:23:49.213277Z"
    }
   },
   "source": [
    "============================================================================================================="
   ]
  },
  {
   "cell_type": "markdown",
   "id": "38bbe610",
   "metadata": {},
   "source": [
    "# МЕТРИКИ БЕЗ УЧЕТА РАНЖИРОВАНИЯ"
   ]
  },
  {
   "cell_type": "markdown",
   "id": "ffffa3ac",
   "metadata": {},
   "source": [
    "## PRECISION@K"
   ]
  },
  {
   "cell_type": "code",
   "execution_count": 16,
   "id": "c1ef0dea",
   "metadata": {
    "ExecuteTime": {
     "end_time": "2024-09-04T19:33:30.940915Z",
     "start_time": "2024-09-04T19:33:30.879915Z"
    }
   },
   "outputs": [
    {
     "data": {
      "application/vnd.jupyter.widget-view+json": {
       "model_id": "55fad21091d849a7b72ecc38ddefe649",
       "version_major": 2,
       "version_minor": 0
      },
      "text/plain": [
       "  0%|          | 0/4012 [00:00<?, ?it/s]"
      ]
     },
     "metadata": {},
     "output_type": "display_data"
    },
    {
     "data": {
      "text/html": [
       "<div>\n",
       "<style scoped>\n",
       "    .dataframe tbody tr th:only-of-type {\n",
       "        vertical-align: middle;\n",
       "    }\n",
       "\n",
       "    .dataframe tbody tr th {\n",
       "        vertical-align: top;\n",
       "    }\n",
       "\n",
       "    .dataframe thead th {\n",
       "        text-align: right;\n",
       "    }\n",
       "</style>\n",
       "<table border=\"1\" class=\"dataframe\">\n",
       "  <thead>\n",
       "    <tr style=\"text-align: right;\">\n",
       "      <th></th>\n",
       "      <th>question</th>\n",
       "      <th>answer</th>\n",
       "      <th>id</th>\n",
       "      <th>relevant_passage_ids</th>\n",
       "      <th>from_retriever</th>\n",
       "      <th>from_ranker</th>\n",
       "      <th>Precision</th>\n",
       "    </tr>\n",
       "  </thead>\n",
       "  <tbody>\n",
       "    <tr>\n",
       "      <th>0</th>\n",
       "      <td>What is the implication of histone lysine meth...</td>\n",
       "      <td>Aberrant patterns of H3K4, H3K9, and H3K27 his...</td>\n",
       "      <td>1682</td>\n",
       "      <td>[23179372, 19270706, 23184418]</td>\n",
       "      <td>[24495750, 23179372, 25736164, 10848505, 16428...</td>\n",
       "      <td>[23179372, 24495750, 25736164, 10848505, 16428...</td>\n",
       "      <td>0.15</td>\n",
       "    </tr>\n",
       "    <tr>\n",
       "      <th>1</th>\n",
       "      <td>What is the role of STAG1/STAG2 proteins in di...</td>\n",
       "      <td>STAG1/STAG2 proteins are tumour suppressor pro...</td>\n",
       "      <td>3722</td>\n",
       "      <td>[26997282, 21589869, 19822671, 29867216, 15361...</td>\n",
       "      <td>[24055171, 1574115, 11424143, 27865001, 318147...</td>\n",
       "      <td>[18276799, 26997282, 27298259, 15361841, 24055...</td>\n",
       "      <td>0.40</td>\n",
       "    </tr>\n",
       "  </tbody>\n",
       "</table>\n",
       "</div>"
      ],
      "text/plain": [
       "                                            question  \\\n",
       "0  What is the implication of histone lysine meth...   \n",
       "1  What is the role of STAG1/STAG2 proteins in di...   \n",
       "\n",
       "                                              answer    id  \\\n",
       "0  Aberrant patterns of H3K4, H3K9, and H3K27 his...  1682   \n",
       "1  STAG1/STAG2 proteins are tumour suppressor pro...  3722   \n",
       "\n",
       "                                relevant_passage_ids  \\\n",
       "0                     [23179372, 19270706, 23184418]   \n",
       "1  [26997282, 21589869, 19822671, 29867216, 15361...   \n",
       "\n",
       "                                      from_retriever  \\\n",
       "0  [24495750, 23179372, 25736164, 10848505, 16428...   \n",
       "1  [24055171, 1574115, 11424143, 27865001, 318147...   \n",
       "\n",
       "                                         from_ranker  Precision  \n",
       "0  [23179372, 24495750, 25736164, 10848505, 16428...       0.15  \n",
       "1  [18276799, 26997282, 27298259, 15361841, 24055...       0.40  "
      ]
     },
     "execution_count": 16,
     "metadata": {},
     "output_type": "execute_result"
    }
   ],
   "source": [
    "df_rag = calculate_precision(df_rag, \"from_retriever\", \"relevant_passage_ids\", output_col='Precision', k=None)\n",
    "df_rag.head(2)"
   ]
  },
  {
   "cell_type": "code",
   "execution_count": 17,
   "id": "9c8c48b8",
   "metadata": {
    "ExecuteTime": {
     "end_time": "2024-09-04T19:33:35.405723Z",
     "start_time": "2024-09-04T19:33:30.941974Z"
    }
   },
   "outputs": [
    {
     "data": {
      "application/vnd.jupyter.widget-view+json": {
       "model_id": "3ddbbd90415d42beba0f28f024a3e9e5",
       "version_major": 2,
       "version_minor": 0
      },
      "text/plain": [
       "  0%|          | 0/4012 [00:00<?, ?it/s]"
      ]
     },
     "metadata": {},
     "output_type": "display_data"
    },
    {
     "data": {
      "text/html": [
       "<div>\n",
       "<style scoped>\n",
       "    .dataframe tbody tr th:only-of-type {\n",
       "        vertical-align: middle;\n",
       "    }\n",
       "\n",
       "    .dataframe tbody tr th {\n",
       "        vertical-align: top;\n",
       "    }\n",
       "\n",
       "    .dataframe thead th {\n",
       "        text-align: right;\n",
       "    }\n",
       "</style>\n",
       "<table border=\"1\" class=\"dataframe\">\n",
       "  <thead>\n",
       "    <tr style=\"text-align: right;\">\n",
       "      <th></th>\n",
       "      <th>question</th>\n",
       "      <th>answer</th>\n",
       "      <th>id</th>\n",
       "      <th>relevant_passage_ids</th>\n",
       "      <th>from_retriever</th>\n",
       "      <th>from_ranker</th>\n",
       "      <th>Precision</th>\n",
       "      <th>Precision_sk</th>\n",
       "    </tr>\n",
       "  </thead>\n",
       "  <tbody>\n",
       "    <tr>\n",
       "      <th>0</th>\n",
       "      <td>What is the implication of histone lysine meth...</td>\n",
       "      <td>Aberrant patterns of H3K4, H3K9, and H3K27 his...</td>\n",
       "      <td>1682</td>\n",
       "      <td>[23179372, 19270706, 23184418]</td>\n",
       "      <td>[24495750, 23179372, 25736164, 10848505, 16428...</td>\n",
       "      <td>[23179372, 24495750, 25736164, 10848505, 16428...</td>\n",
       "      <td>0.15</td>\n",
       "      <td>0.15</td>\n",
       "    </tr>\n",
       "    <tr>\n",
       "      <th>1</th>\n",
       "      <td>What is the role of STAG1/STAG2 proteins in di...</td>\n",
       "      <td>STAG1/STAG2 proteins are tumour suppressor pro...</td>\n",
       "      <td>3722</td>\n",
       "      <td>[26997282, 21589869, 19822671, 29867216, 15361...</td>\n",
       "      <td>[24055171, 1574115, 11424143, 27865001, 318147...</td>\n",
       "      <td>[18276799, 26997282, 27298259, 15361841, 24055...</td>\n",
       "      <td>0.40</td>\n",
       "      <td>0.40</td>\n",
       "    </tr>\n",
       "  </tbody>\n",
       "</table>\n",
       "</div>"
      ],
      "text/plain": [
       "                                            question  \\\n",
       "0  What is the implication of histone lysine meth...   \n",
       "1  What is the role of STAG1/STAG2 proteins in di...   \n",
       "\n",
       "                                              answer    id  \\\n",
       "0  Aberrant patterns of H3K4, H3K9, and H3K27 his...  1682   \n",
       "1  STAG1/STAG2 proteins are tumour suppressor pro...  3722   \n",
       "\n",
       "                                relevant_passage_ids  \\\n",
       "0                     [23179372, 19270706, 23184418]   \n",
       "1  [26997282, 21589869, 19822671, 29867216, 15361...   \n",
       "\n",
       "                                      from_retriever  \\\n",
       "0  [24495750, 23179372, 25736164, 10848505, 16428...   \n",
       "1  [24055171, 1574115, 11424143, 27865001, 318147...   \n",
       "\n",
       "                                         from_ranker  Precision  Precision_sk  \n",
       "0  [23179372, 24495750, 25736164, 10848505, 16428...       0.15          0.15  \n",
       "1  [18276799, 26997282, 27298259, 15361841, 24055...       0.40          0.40  "
      ]
     },
     "execution_count": 17,
     "metadata": {},
     "output_type": "execute_result"
    }
   ],
   "source": [
    "df_rag = precision_sklearn(df_rag, \"from_retriever\", \"relevant_passage_ids\", output_col='Precision_sk', k=None)\n",
    "df_rag.head(2)"
   ]
  },
  {
   "cell_type": "code",
   "execution_count": 18,
   "id": "e895343a",
   "metadata": {
    "ExecuteTime": {
     "end_time": "2024-09-04T19:33:52.891324Z",
     "start_time": "2024-09-04T19:33:35.406725Z"
    }
   },
   "outputs": [
    {
     "data": {
      "application/vnd.jupyter.widget-view+json": {
       "model_id": "3bf247988e2e45609f9cb138a7782474",
       "version_major": 2,
       "version_minor": 0
      },
      "text/plain": [
       "  0%|          | 0/4012 [00:00<?, ?it/s]"
      ]
     },
     "metadata": {},
     "output_type": "display_data"
    },
    {
     "name": "stdout",
     "output_type": "stream",
     "text": [
      "mean_precision_sklearn_20 = 0.355\n"
     ]
    },
    {
     "data": {
      "application/vnd.jupyter.widget-view+json": {
       "model_id": "252b265d5f674a84a1bc750c8f013289",
       "version_major": 2,
       "version_minor": 0
      },
      "text/plain": [
       "  0%|          | 0/4012 [00:00<?, ?it/s]"
      ]
     },
     "metadata": {},
     "output_type": "display_data"
    },
    {
     "name": "stdout",
     "output_type": "stream",
     "text": [
      "mean_precision_sklearn_10 = 0.355\n"
     ]
    },
    {
     "data": {
      "application/vnd.jupyter.widget-view+json": {
       "model_id": "23eb317276034c2396947ea2b01dfd31",
       "version_major": 2,
       "version_minor": 0
      },
      "text/plain": [
       "  0%|          | 0/4012 [00:00<?, ?it/s]"
      ]
     },
     "metadata": {},
     "output_type": "display_data"
    },
    {
     "name": "stdout",
     "output_type": "stream",
     "text": [
      "mean_precision_sklearn_5 = 0.359\n"
     ]
    },
    {
     "data": {
      "application/vnd.jupyter.widget-view+json": {
       "model_id": "b2ac4f47669e4ac1aeed0ecdbb59401b",
       "version_major": 2,
       "version_minor": 0
      },
      "text/plain": [
       "  0%|          | 0/4012 [00:00<?, ?it/s]"
      ]
     },
     "metadata": {},
     "output_type": "display_data"
    },
    {
     "name": "stdout",
     "output_type": "stream",
     "text": [
      "mean_precision_sklearn_3 = 0.357\n"
     ]
    },
    {
     "data": {
      "text/html": [
       "<div>\n",
       "<style scoped>\n",
       "    .dataframe tbody tr th:only-of-type {\n",
       "        vertical-align: middle;\n",
       "    }\n",
       "\n",
       "    .dataframe tbody tr th {\n",
       "        vertical-align: top;\n",
       "    }\n",
       "\n",
       "    .dataframe thead th {\n",
       "        text-align: right;\n",
       "    }\n",
       "</style>\n",
       "<table border=\"1\" class=\"dataframe\">\n",
       "  <thead>\n",
       "    <tr style=\"text-align: right;\">\n",
       "      <th></th>\n",
       "      <th>question</th>\n",
       "      <th>answer</th>\n",
       "      <th>id</th>\n",
       "      <th>relevant_passage_ids</th>\n",
       "      <th>from_retriever</th>\n",
       "      <th>from_ranker</th>\n",
       "      <th>Precision</th>\n",
       "      <th>Precision_sk</th>\n",
       "      <th>Precision_sk_20</th>\n",
       "      <th>Precision_sk_10</th>\n",
       "      <th>Precision_sk_5</th>\n",
       "      <th>Precision_sk_3</th>\n",
       "    </tr>\n",
       "  </thead>\n",
       "  <tbody>\n",
       "    <tr>\n",
       "      <th>0</th>\n",
       "      <td>What is the implication of histone lysine meth...</td>\n",
       "      <td>Aberrant patterns of H3K4, H3K9, and H3K27 his...</td>\n",
       "      <td>1682</td>\n",
       "      <td>[23179372, 19270706, 23184418]</td>\n",
       "      <td>[24495750, 23179372, 25736164, 10848505, 16428...</td>\n",
       "      <td>[23179372, 24495750, 25736164, 10848505, 16428...</td>\n",
       "      <td>0.15</td>\n",
       "      <td>0.15</td>\n",
       "      <td>0.15</td>\n",
       "      <td>0.3</td>\n",
       "      <td>0.2</td>\n",
       "      <td>0.333333</td>\n",
       "    </tr>\n",
       "    <tr>\n",
       "      <th>1</th>\n",
       "      <td>What is the role of STAG1/STAG2 proteins in di...</td>\n",
       "      <td>STAG1/STAG2 proteins are tumour suppressor pro...</td>\n",
       "      <td>3722</td>\n",
       "      <td>[26997282, 21589869, 19822671, 29867216, 15361...</td>\n",
       "      <td>[24055171, 1574115, 11424143, 27865001, 318147...</td>\n",
       "      <td>[18276799, 26997282, 27298259, 15361841, 24055...</td>\n",
       "      <td>0.40</td>\n",
       "      <td>0.40</td>\n",
       "      <td>0.40</td>\n",
       "      <td>0.2</td>\n",
       "      <td>0.0</td>\n",
       "      <td>0.000000</td>\n",
       "    </tr>\n",
       "  </tbody>\n",
       "</table>\n",
       "</div>"
      ],
      "text/plain": [
       "                                            question  \\\n",
       "0  What is the implication of histone lysine meth...   \n",
       "1  What is the role of STAG1/STAG2 proteins in di...   \n",
       "\n",
       "                                              answer    id  \\\n",
       "0  Aberrant patterns of H3K4, H3K9, and H3K27 his...  1682   \n",
       "1  STAG1/STAG2 proteins are tumour suppressor pro...  3722   \n",
       "\n",
       "                                relevant_passage_ids  \\\n",
       "0                     [23179372, 19270706, 23184418]   \n",
       "1  [26997282, 21589869, 19822671, 29867216, 15361...   \n",
       "\n",
       "                                      from_retriever  \\\n",
       "0  [24495750, 23179372, 25736164, 10848505, 16428...   \n",
       "1  [24055171, 1574115, 11424143, 27865001, 318147...   \n",
       "\n",
       "                                         from_ranker  Precision  Precision_sk  \\\n",
       "0  [23179372, 24495750, 25736164, 10848505, 16428...       0.15          0.15   \n",
       "1  [18276799, 26997282, 27298259, 15361841, 24055...       0.40          0.40   \n",
       "\n",
       "   Precision_sk_20  Precision_sk_10  Precision_sk_5  Precision_sk_3  \n",
       "0             0.15              0.3             0.2        0.333333  \n",
       "1             0.40              0.2             0.0        0.000000  "
      ]
     },
     "execution_count": 18,
     "metadata": {},
     "output_type": "execute_result"
    }
   ],
   "source": [
    "for k in [20, 10, 5, 3]:\n",
    "    df_rag = precision_sklearn(df_rag, \"from_retriever\", \"relevant_passage_ids\", output_col=f'Precision_sk_{k}', k=k)\n",
    "    print(f\"mean_precision_sklearn_{k} = {round(df_rag[f'Precision_sk_{k}'].mean(), 3)}\")\n",
    "df_rag.head(2)"
   ]
  },
  {
   "cell_type": "code",
   "execution_count": 19,
   "id": "e5d61e28",
   "metadata": {
    "ExecuteTime": {
     "end_time": "2024-09-04T19:33:53.123038Z",
     "start_time": "2024-09-04T19:33:52.892325Z"
    }
   },
   "outputs": [
    {
     "data": {
      "application/vnd.jupyter.widget-view+json": {
       "model_id": "1610bbd2912c4398a4bc8767e797bb9a",
       "version_major": 2,
       "version_minor": 0
      },
      "text/plain": [
       "  0%|          | 0/4012 [00:00<?, ?it/s]"
      ]
     },
     "metadata": {},
     "output_type": "display_data"
    },
    {
     "name": "stdout",
     "output_type": "stream",
     "text": [
      "mean_precision_20 = 0.355\n"
     ]
    },
    {
     "data": {
      "application/vnd.jupyter.widget-view+json": {
       "model_id": "38aa932a2fed47bbab55489c991cf6f2",
       "version_major": 2,
       "version_minor": 0
      },
      "text/plain": [
       "  0%|          | 0/4012 [00:00<?, ?it/s]"
      ]
     },
     "metadata": {},
     "output_type": "display_data"
    },
    {
     "name": "stdout",
     "output_type": "stream",
     "text": [
      "mean_precision_10 = 0.355\n"
     ]
    },
    {
     "data": {
      "application/vnd.jupyter.widget-view+json": {
       "model_id": "211a6c5d58b14622a479e6324ca80daf",
       "version_major": 2,
       "version_minor": 0
      },
      "text/plain": [
       "  0%|          | 0/4012 [00:00<?, ?it/s]"
      ]
     },
     "metadata": {},
     "output_type": "display_data"
    },
    {
     "name": "stdout",
     "output_type": "stream",
     "text": [
      "mean_precision_5 = 0.359\n"
     ]
    },
    {
     "data": {
      "application/vnd.jupyter.widget-view+json": {
       "model_id": "88fad19f62f94371b60c39b2b5cca523",
       "version_major": 2,
       "version_minor": 0
      },
      "text/plain": [
       "  0%|          | 0/4012 [00:00<?, ?it/s]"
      ]
     },
     "metadata": {},
     "output_type": "display_data"
    },
    {
     "name": "stdout",
     "output_type": "stream",
     "text": [
      "mean_precision_3 = 0.357\n"
     ]
    },
    {
     "data": {
      "text/html": [
       "<div>\n",
       "<style scoped>\n",
       "    .dataframe tbody tr th:only-of-type {\n",
       "        vertical-align: middle;\n",
       "    }\n",
       "\n",
       "    .dataframe tbody tr th {\n",
       "        vertical-align: top;\n",
       "    }\n",
       "\n",
       "    .dataframe thead th {\n",
       "        text-align: right;\n",
       "    }\n",
       "</style>\n",
       "<table border=\"1\" class=\"dataframe\">\n",
       "  <thead>\n",
       "    <tr style=\"text-align: right;\">\n",
       "      <th></th>\n",
       "      <th>question</th>\n",
       "      <th>answer</th>\n",
       "      <th>id</th>\n",
       "      <th>relevant_passage_ids</th>\n",
       "      <th>from_retriever</th>\n",
       "      <th>from_ranker</th>\n",
       "      <th>Precision</th>\n",
       "      <th>Precision_sk</th>\n",
       "      <th>Precision_sk_20</th>\n",
       "      <th>Precision_sk_10</th>\n",
       "      <th>Precision_sk_5</th>\n",
       "      <th>Precision_sk_3</th>\n",
       "      <th>Precision_20</th>\n",
       "      <th>Precision_10</th>\n",
       "      <th>Precision_5</th>\n",
       "      <th>Precision_3</th>\n",
       "    </tr>\n",
       "  </thead>\n",
       "  <tbody>\n",
       "    <tr>\n",
       "      <th>0</th>\n",
       "      <td>What is the implication of histone lysine meth...</td>\n",
       "      <td>Aberrant patterns of H3K4, H3K9, and H3K27 his...</td>\n",
       "      <td>1682</td>\n",
       "      <td>[23179372, 19270706, 23184418]</td>\n",
       "      <td>[24495750, 23179372, 25736164, 10848505, 16428...</td>\n",
       "      <td>[23179372, 24495750, 25736164, 10848505, 16428...</td>\n",
       "      <td>0.15</td>\n",
       "      <td>0.15</td>\n",
       "      <td>0.15</td>\n",
       "      <td>0.3</td>\n",
       "      <td>0.2</td>\n",
       "      <td>0.333333</td>\n",
       "      <td>0.15</td>\n",
       "      <td>0.3</td>\n",
       "      <td>0.2</td>\n",
       "      <td>0.333333</td>\n",
       "    </tr>\n",
       "    <tr>\n",
       "      <th>1</th>\n",
       "      <td>What is the role of STAG1/STAG2 proteins in di...</td>\n",
       "      <td>STAG1/STAG2 proteins are tumour suppressor pro...</td>\n",
       "      <td>3722</td>\n",
       "      <td>[26997282, 21589869, 19822671, 29867216, 15361...</td>\n",
       "      <td>[24055171, 1574115, 11424143, 27865001, 318147...</td>\n",
       "      <td>[18276799, 26997282, 27298259, 15361841, 24055...</td>\n",
       "      <td>0.40</td>\n",
       "      <td>0.40</td>\n",
       "      <td>0.40</td>\n",
       "      <td>0.2</td>\n",
       "      <td>0.0</td>\n",
       "      <td>0.000000</td>\n",
       "      <td>0.40</td>\n",
       "      <td>0.2</td>\n",
       "      <td>0.0</td>\n",
       "      <td>0.000000</td>\n",
       "    </tr>\n",
       "  </tbody>\n",
       "</table>\n",
       "</div>"
      ],
      "text/plain": [
       "                                            question  \\\n",
       "0  What is the implication of histone lysine meth...   \n",
       "1  What is the role of STAG1/STAG2 proteins in di...   \n",
       "\n",
       "                                              answer    id  \\\n",
       "0  Aberrant patterns of H3K4, H3K9, and H3K27 his...  1682   \n",
       "1  STAG1/STAG2 proteins are tumour suppressor pro...  3722   \n",
       "\n",
       "                                relevant_passage_ids  \\\n",
       "0                     [23179372, 19270706, 23184418]   \n",
       "1  [26997282, 21589869, 19822671, 29867216, 15361...   \n",
       "\n",
       "                                      from_retriever  \\\n",
       "0  [24495750, 23179372, 25736164, 10848505, 16428...   \n",
       "1  [24055171, 1574115, 11424143, 27865001, 318147...   \n",
       "\n",
       "                                         from_ranker  Precision  Precision_sk  \\\n",
       "0  [23179372, 24495750, 25736164, 10848505, 16428...       0.15          0.15   \n",
       "1  [18276799, 26997282, 27298259, 15361841, 24055...       0.40          0.40   \n",
       "\n",
       "   Precision_sk_20  Precision_sk_10  Precision_sk_5  Precision_sk_3  \\\n",
       "0             0.15              0.3             0.2        0.333333   \n",
       "1             0.40              0.2             0.0        0.000000   \n",
       "\n",
       "   Precision_20  Precision_10  Precision_5  Precision_3  \n",
       "0          0.15           0.3          0.2     0.333333  \n",
       "1          0.40           0.2          0.0     0.000000  "
      ]
     },
     "execution_count": 19,
     "metadata": {},
     "output_type": "execute_result"
    }
   ],
   "source": [
    "for k in [20, 10, 5, 3]:\n",
    "    df_rag = calculate_precision(df_rag, \"from_retriever\", \"relevant_passage_ids\", output_col=f'Precision_{k}', k=k)\n",
    "    print(f\"mean_precision_{k} = {round(df_rag[f'Precision_{k}'].mean(), 3)}\")\n",
    "df_rag.head(2)"
   ]
  },
  {
   "cell_type": "code",
   "execution_count": 20,
   "id": "7b97454f",
   "metadata": {
    "ExecuteTime": {
     "end_time": "2024-09-04T19:34:10.720629Z",
     "start_time": "2024-09-04T19:33:53.124038Z"
    }
   },
   "outputs": [
    {
     "data": {
      "application/vnd.jupyter.widget-view+json": {
       "model_id": "e16da7df3e4b40ee9b40dad0f5da5614",
       "version_major": 2,
       "version_minor": 0
      },
      "text/plain": [
       "  0%|          | 0/4012 [00:00<?, ?it/s]"
      ]
     },
     "metadata": {},
     "output_type": "display_data"
    },
    {
     "name": "stdout",
     "output_type": "stream",
     "text": [
      "precision_sk_rank20 = 0.355\n"
     ]
    },
    {
     "data": {
      "application/vnd.jupyter.widget-view+json": {
       "model_id": "bc4f980b210246559f1a896aa16ef50d",
       "version_major": 2,
       "version_minor": 0
      },
      "text/plain": [
       "  0%|          | 0/4012 [00:00<?, ?it/s]"
      ]
     },
     "metadata": {},
     "output_type": "display_data"
    },
    {
     "name": "stdout",
     "output_type": "stream",
     "text": [
      "precision_sk_rank10 = 0.458\n"
     ]
    },
    {
     "data": {
      "application/vnd.jupyter.widget-view+json": {
       "model_id": "4633292ac4b447e6abd6497e5dd39c2b",
       "version_major": 2,
       "version_minor": 0
      },
      "text/plain": [
       "  0%|          | 0/4012 [00:00<?, ?it/s]"
      ]
     },
     "metadata": {},
     "output_type": "display_data"
    },
    {
     "name": "stdout",
     "output_type": "stream",
     "text": [
      "precision_sk_rank5 = 0.595\n"
     ]
    },
    {
     "data": {
      "application/vnd.jupyter.widget-view+json": {
       "model_id": "e8fd830aa8354d44987f06e0b4aa2e0f",
       "version_major": 2,
       "version_minor": 0
      },
      "text/plain": [
       "  0%|          | 0/4012 [00:00<?, ?it/s]"
      ]
     },
     "metadata": {},
     "output_type": "display_data"
    },
    {
     "name": "stdout",
     "output_type": "stream",
     "text": [
      "precision_sk_rank3 = 0.694\n"
     ]
    },
    {
     "data": {
      "text/html": [
       "<div>\n",
       "<style scoped>\n",
       "    .dataframe tbody tr th:only-of-type {\n",
       "        vertical-align: middle;\n",
       "    }\n",
       "\n",
       "    .dataframe tbody tr th {\n",
       "        vertical-align: top;\n",
       "    }\n",
       "\n",
       "    .dataframe thead th {\n",
       "        text-align: right;\n",
       "    }\n",
       "</style>\n",
       "<table border=\"1\" class=\"dataframe\">\n",
       "  <thead>\n",
       "    <tr style=\"text-align: right;\">\n",
       "      <th></th>\n",
       "      <th>question</th>\n",
       "      <th>answer</th>\n",
       "      <th>id</th>\n",
       "      <th>relevant_passage_ids</th>\n",
       "      <th>from_retriever</th>\n",
       "      <th>from_ranker</th>\n",
       "      <th>Precision</th>\n",
       "      <th>Precision_sk</th>\n",
       "      <th>Precision_sk_20</th>\n",
       "      <th>Precision_sk_10</th>\n",
       "      <th>Precision_sk_5</th>\n",
       "      <th>Precision_sk_3</th>\n",
       "      <th>Precision_20</th>\n",
       "      <th>Precision_10</th>\n",
       "      <th>Precision_5</th>\n",
       "      <th>Precision_3</th>\n",
       "      <th>Precision_rank20</th>\n",
       "      <th>Precision_rank10</th>\n",
       "      <th>Precision_rank5</th>\n",
       "      <th>Precision_rank3</th>\n",
       "    </tr>\n",
       "  </thead>\n",
       "  <tbody>\n",
       "    <tr>\n",
       "      <th>0</th>\n",
       "      <td>What is the implication of histone lysine meth...</td>\n",
       "      <td>Aberrant patterns of H3K4, H3K9, and H3K27 his...</td>\n",
       "      <td>1682</td>\n",
       "      <td>[23179372, 19270706, 23184418]</td>\n",
       "      <td>[24495750, 23179372, 25736164, 10848505, 16428...</td>\n",
       "      <td>[23179372, 24495750, 25736164, 10848505, 16428...</td>\n",
       "      <td>0.15</td>\n",
       "      <td>0.15</td>\n",
       "      <td>0.15</td>\n",
       "      <td>0.3</td>\n",
       "      <td>0.2</td>\n",
       "      <td>0.333333</td>\n",
       "      <td>0.15</td>\n",
       "      <td>0.3</td>\n",
       "      <td>0.2</td>\n",
       "      <td>0.333333</td>\n",
       "      <td>0.15</td>\n",
       "      <td>0.3</td>\n",
       "      <td>0.2</td>\n",
       "      <td>0.333333</td>\n",
       "    </tr>\n",
       "    <tr>\n",
       "      <th>1</th>\n",
       "      <td>What is the role of STAG1/STAG2 proteins in di...</td>\n",
       "      <td>STAG1/STAG2 proteins are tumour suppressor pro...</td>\n",
       "      <td>3722</td>\n",
       "      <td>[26997282, 21589869, 19822671, 29867216, 15361...</td>\n",
       "      <td>[24055171, 1574115, 11424143, 27865001, 318147...</td>\n",
       "      <td>[18276799, 26997282, 27298259, 15361841, 24055...</td>\n",
       "      <td>0.40</td>\n",
       "      <td>0.40</td>\n",
       "      <td>0.40</td>\n",
       "      <td>0.2</td>\n",
       "      <td>0.0</td>\n",
       "      <td>0.000000</td>\n",
       "      <td>0.40</td>\n",
       "      <td>0.2</td>\n",
       "      <td>0.0</td>\n",
       "      <td>0.000000</td>\n",
       "      <td>0.40</td>\n",
       "      <td>0.5</td>\n",
       "      <td>0.8</td>\n",
       "      <td>1.000000</td>\n",
       "    </tr>\n",
       "  </tbody>\n",
       "</table>\n",
       "</div>"
      ],
      "text/plain": [
       "                                            question  \\\n",
       "0  What is the implication of histone lysine meth...   \n",
       "1  What is the role of STAG1/STAG2 proteins in di...   \n",
       "\n",
       "                                              answer    id  \\\n",
       "0  Aberrant patterns of H3K4, H3K9, and H3K27 his...  1682   \n",
       "1  STAG1/STAG2 proteins are tumour suppressor pro...  3722   \n",
       "\n",
       "                                relevant_passage_ids  \\\n",
       "0                     [23179372, 19270706, 23184418]   \n",
       "1  [26997282, 21589869, 19822671, 29867216, 15361...   \n",
       "\n",
       "                                      from_retriever  \\\n",
       "0  [24495750, 23179372, 25736164, 10848505, 16428...   \n",
       "1  [24055171, 1574115, 11424143, 27865001, 318147...   \n",
       "\n",
       "                                         from_ranker  Precision  Precision_sk  \\\n",
       "0  [23179372, 24495750, 25736164, 10848505, 16428...       0.15          0.15   \n",
       "1  [18276799, 26997282, 27298259, 15361841, 24055...       0.40          0.40   \n",
       "\n",
       "   Precision_sk_20  Precision_sk_10  Precision_sk_5  Precision_sk_3  \\\n",
       "0             0.15              0.3             0.2        0.333333   \n",
       "1             0.40              0.2             0.0        0.000000   \n",
       "\n",
       "   Precision_20  Precision_10  Precision_5  Precision_3  Precision_rank20  \\\n",
       "0          0.15           0.3          0.2     0.333333              0.15   \n",
       "1          0.40           0.2          0.0     0.000000              0.40   \n",
       "\n",
       "   Precision_rank10  Precision_rank5  Precision_rank3  \n",
       "0               0.3              0.2         0.333333  \n",
       "1               0.5              0.8         1.000000  "
      ]
     },
     "execution_count": 20,
     "metadata": {},
     "output_type": "execute_result"
    }
   ],
   "source": [
    "for k in [20, 10, 5, 3]:\n",
    "    df_rag = precision_sklearn(df_rag, \"from_ranker\", \"relevant_passage_ids\", output_col=f'Precision_rank{k}', k=k)\n",
    "    print(f\"precision_sk_rank{k} = {round(df_rag[f'Precision_rank{k}'].mean(), 3)}\")\n",
    "df_rag.head(2)"
   ]
  },
  {
   "cell_type": "code",
   "execution_count": 21,
   "id": "71d7c9bb",
   "metadata": {
    "ExecuteTime": {
     "end_time": "2024-09-04T19:34:10.929846Z",
     "start_time": "2024-09-04T19:34:10.721627Z"
    }
   },
   "outputs": [
    {
     "data": {
      "application/vnd.jupyter.widget-view+json": {
       "model_id": "082ae0b3db0044ac94c78b8d773ed592",
       "version_major": 2,
       "version_minor": 0
      },
      "text/plain": [
       "  0%|          | 0/4012 [00:00<?, ?it/s]"
      ]
     },
     "metadata": {},
     "output_type": "display_data"
    },
    {
     "name": "stdout",
     "output_type": "stream",
     "text": [
      "precision_rank_20 = 0.355\n"
     ]
    },
    {
     "data": {
      "application/vnd.jupyter.widget-view+json": {
       "model_id": "1f7d54d6e81646129ea7a7935ae9f9b9",
       "version_major": 2,
       "version_minor": 0
      },
      "text/plain": [
       "  0%|          | 0/4012 [00:00<?, ?it/s]"
      ]
     },
     "metadata": {},
     "output_type": "display_data"
    },
    {
     "name": "stdout",
     "output_type": "stream",
     "text": [
      "precision_rank_10 = 0.458\n"
     ]
    },
    {
     "data": {
      "application/vnd.jupyter.widget-view+json": {
       "model_id": "b47badf0bcac4e5f99064f3eaed534b4",
       "version_major": 2,
       "version_minor": 0
      },
      "text/plain": [
       "  0%|          | 0/4012 [00:00<?, ?it/s]"
      ]
     },
     "metadata": {},
     "output_type": "display_data"
    },
    {
     "name": "stdout",
     "output_type": "stream",
     "text": [
      "precision_rank_5 = 0.595\n"
     ]
    },
    {
     "data": {
      "application/vnd.jupyter.widget-view+json": {
       "model_id": "d1ac45ab15be492aadd316a5e726d0af",
       "version_major": 2,
       "version_minor": 0
      },
      "text/plain": [
       "  0%|          | 0/4012 [00:00<?, ?it/s]"
      ]
     },
     "metadata": {},
     "output_type": "display_data"
    },
    {
     "name": "stdout",
     "output_type": "stream",
     "text": [
      "precision_rank_3 = 0.694\n"
     ]
    },
    {
     "data": {
      "text/html": [
       "<div>\n",
       "<style scoped>\n",
       "    .dataframe tbody tr th:only-of-type {\n",
       "        vertical-align: middle;\n",
       "    }\n",
       "\n",
       "    .dataframe tbody tr th {\n",
       "        vertical-align: top;\n",
       "    }\n",
       "\n",
       "    .dataframe thead th {\n",
       "        text-align: right;\n",
       "    }\n",
       "</style>\n",
       "<table border=\"1\" class=\"dataframe\">\n",
       "  <thead>\n",
       "    <tr style=\"text-align: right;\">\n",
       "      <th></th>\n",
       "      <th>question</th>\n",
       "      <th>answer</th>\n",
       "      <th>id</th>\n",
       "      <th>relevant_passage_ids</th>\n",
       "      <th>from_retriever</th>\n",
       "      <th>from_ranker</th>\n",
       "      <th>Precision</th>\n",
       "      <th>Precision_sk</th>\n",
       "      <th>Precision_sk_20</th>\n",
       "      <th>Precision_sk_10</th>\n",
       "      <th>...</th>\n",
       "      <th>Precision_5</th>\n",
       "      <th>Precision_3</th>\n",
       "      <th>Precision_rank20</th>\n",
       "      <th>Precision_rank10</th>\n",
       "      <th>Precision_rank5</th>\n",
       "      <th>Precision_rank3</th>\n",
       "      <th>Precision_rank_20</th>\n",
       "      <th>Precision_rank_10</th>\n",
       "      <th>Precision_rank_5</th>\n",
       "      <th>Precision_rank_3</th>\n",
       "    </tr>\n",
       "  </thead>\n",
       "  <tbody>\n",
       "    <tr>\n",
       "      <th>0</th>\n",
       "      <td>What is the implication of histone lysine meth...</td>\n",
       "      <td>Aberrant patterns of H3K4, H3K9, and H3K27 his...</td>\n",
       "      <td>1682</td>\n",
       "      <td>[23179372, 19270706, 23184418]</td>\n",
       "      <td>[24495750, 23179372, 25736164, 10848505, 16428...</td>\n",
       "      <td>[23179372, 24495750, 25736164, 10848505, 16428...</td>\n",
       "      <td>0.15</td>\n",
       "      <td>0.15</td>\n",
       "      <td>0.15</td>\n",
       "      <td>0.3</td>\n",
       "      <td>...</td>\n",
       "      <td>0.2</td>\n",
       "      <td>0.333333</td>\n",
       "      <td>0.15</td>\n",
       "      <td>0.3</td>\n",
       "      <td>0.2</td>\n",
       "      <td>0.333333</td>\n",
       "      <td>0.15</td>\n",
       "      <td>0.3</td>\n",
       "      <td>0.2</td>\n",
       "      <td>0.333333</td>\n",
       "    </tr>\n",
       "    <tr>\n",
       "      <th>1</th>\n",
       "      <td>What is the role of STAG1/STAG2 proteins in di...</td>\n",
       "      <td>STAG1/STAG2 proteins are tumour suppressor pro...</td>\n",
       "      <td>3722</td>\n",
       "      <td>[26997282, 21589869, 19822671, 29867216, 15361...</td>\n",
       "      <td>[24055171, 1574115, 11424143, 27865001, 318147...</td>\n",
       "      <td>[18276799, 26997282, 27298259, 15361841, 24055...</td>\n",
       "      <td>0.40</td>\n",
       "      <td>0.40</td>\n",
       "      <td>0.40</td>\n",
       "      <td>0.2</td>\n",
       "      <td>...</td>\n",
       "      <td>0.0</td>\n",
       "      <td>0.000000</td>\n",
       "      <td>0.40</td>\n",
       "      <td>0.5</td>\n",
       "      <td>0.8</td>\n",
       "      <td>1.000000</td>\n",
       "      <td>0.40</td>\n",
       "      <td>0.5</td>\n",
       "      <td>0.8</td>\n",
       "      <td>1.000000</td>\n",
       "    </tr>\n",
       "  </tbody>\n",
       "</table>\n",
       "<p>2 rows × 24 columns</p>\n",
       "</div>"
      ],
      "text/plain": [
       "                                            question  \\\n",
       "0  What is the implication of histone lysine meth...   \n",
       "1  What is the role of STAG1/STAG2 proteins in di...   \n",
       "\n",
       "                                              answer    id  \\\n",
       "0  Aberrant patterns of H3K4, H3K9, and H3K27 his...  1682   \n",
       "1  STAG1/STAG2 proteins are tumour suppressor pro...  3722   \n",
       "\n",
       "                                relevant_passage_ids  \\\n",
       "0                     [23179372, 19270706, 23184418]   \n",
       "1  [26997282, 21589869, 19822671, 29867216, 15361...   \n",
       "\n",
       "                                      from_retriever  \\\n",
       "0  [24495750, 23179372, 25736164, 10848505, 16428...   \n",
       "1  [24055171, 1574115, 11424143, 27865001, 318147...   \n",
       "\n",
       "                                         from_ranker  Precision  Precision_sk  \\\n",
       "0  [23179372, 24495750, 25736164, 10848505, 16428...       0.15          0.15   \n",
       "1  [18276799, 26997282, 27298259, 15361841, 24055...       0.40          0.40   \n",
       "\n",
       "   Precision_sk_20  Precision_sk_10  ...  Precision_5  Precision_3  \\\n",
       "0             0.15              0.3  ...          0.2     0.333333   \n",
       "1             0.40              0.2  ...          0.0     0.000000   \n",
       "\n",
       "   Precision_rank20  Precision_rank10  Precision_rank5  Precision_rank3  \\\n",
       "0              0.15               0.3              0.2         0.333333   \n",
       "1              0.40               0.5              0.8         1.000000   \n",
       "\n",
       "   Precision_rank_20  Precision_rank_10  Precision_rank_5  Precision_rank_3  \n",
       "0               0.15                0.3               0.2          0.333333  \n",
       "1               0.40                0.5               0.8          1.000000  \n",
       "\n",
       "[2 rows x 24 columns]"
      ]
     },
     "execution_count": 21,
     "metadata": {},
     "output_type": "execute_result"
    }
   ],
   "source": [
    "for k in [20, 10, 5, 3]:\n",
    "    df_rag = calculate_precision(df_rag, \"from_ranker\", \"relevant_passage_ids\", output_col=f'Precision_rank_{k}', k=k)\n",
    "    print(f\"precision_rank_{k} = {round(df_rag[f'Precision_rank_{k}'].mean(), 3)}\")\n",
    "df_rag.head(2)"
   ]
  },
  {
   "cell_type": "markdown",
   "id": "0458c128",
   "metadata": {},
   "source": [
    "## RECALL@K"
   ]
  },
  {
   "cell_type": "code",
   "execution_count": 22,
   "id": "39fc2da4",
   "metadata": {
    "ExecuteTime": {
     "end_time": "2024-09-04T19:34:28.600356Z",
     "start_time": "2024-09-04T19:34:10.930846Z"
    }
   },
   "outputs": [
    {
     "data": {
      "application/vnd.jupyter.widget-view+json": {
       "model_id": "2ed81018a14b408396de36c1359f2c37",
       "version_major": 2,
       "version_minor": 0
      },
      "text/plain": [
       "  0%|          | 0/4012 [00:00<?, ?it/s]"
      ]
     },
     "metadata": {},
     "output_type": "display_data"
    },
    {
     "name": "stdout",
     "output_type": "stream",
     "text": [
      "recall_rank20 = 0.834\n"
     ]
    },
    {
     "data": {
      "application/vnd.jupyter.widget-view+json": {
       "model_id": "cb08c0450f704423ab6bb2a54ca8dd1f",
       "version_major": 2,
       "version_minor": 0
      },
      "text/plain": [
       "  0%|          | 0/4012 [00:00<?, ?it/s]"
      ]
     },
     "metadata": {},
     "output_type": "display_data"
    },
    {
     "name": "stdout",
     "output_type": "stream",
     "text": [
      "recall_rank10 = 0.629\n"
     ]
    },
    {
     "data": {
      "application/vnd.jupyter.widget-view+json": {
       "model_id": "94e86432c1a1422e94f694691067cdd3",
       "version_major": 2,
       "version_minor": 0
      },
      "text/plain": [
       "  0%|          | 0/4012 [00:00<?, ?it/s]"
      ]
     },
     "metadata": {},
     "output_type": "display_data"
    },
    {
     "name": "stdout",
     "output_type": "stream",
     "text": [
      "recall_rank5 = 0.486\n"
     ]
    },
    {
     "data": {
      "application/vnd.jupyter.widget-view+json": {
       "model_id": "4e45bb65b4dc4b9c9aa962930eb9dc71",
       "version_major": 2,
       "version_minor": 0
      },
      "text/plain": [
       "  0%|          | 0/4012 [00:00<?, ?it/s]"
      ]
     },
     "metadata": {},
     "output_type": "display_data"
    },
    {
     "name": "stdout",
     "output_type": "stream",
     "text": [
      "recall_rank3 = 0.39\n"
     ]
    }
   ],
   "source": [
    "for k in [20, 10, 5, 3]:\n",
    "    df_rag = recall_sklearn(df_rag, \"from_ranker\", \"relevant_passage_ids\", output_col=f'recall_rank{k}', k=k)\n",
    "    print(f\"recall_rank{k} = {round(df_rag[f'recall_rank{k}'].mean(), 3)}\")"
   ]
  },
  {
   "cell_type": "code",
   "execution_count": 23,
   "id": "c6c2eb9c",
   "metadata": {
    "ExecuteTime": {
     "end_time": "2024-09-04T19:34:28.814493Z",
     "start_time": "2024-09-04T19:34:28.601359Z"
    }
   },
   "outputs": [
    {
     "data": {
      "application/vnd.jupyter.widget-view+json": {
       "model_id": "5ead8b13c2d64df6bb312e669ae37a4e",
       "version_major": 2,
       "version_minor": 0
      },
      "text/plain": [
       "  0%|          | 0/4012 [00:00<?, ?it/s]"
      ]
     },
     "metadata": {},
     "output_type": "display_data"
    },
    {
     "name": "stdout",
     "output_type": "stream",
     "text": [
      "recall_rank20 = 0.834\n"
     ]
    },
    {
     "data": {
      "application/vnd.jupyter.widget-view+json": {
       "model_id": "650a70f418074c1784eaa90fa5715467",
       "version_major": 2,
       "version_minor": 0
      },
      "text/plain": [
       "  0%|          | 0/4012 [00:00<?, ?it/s]"
      ]
     },
     "metadata": {},
     "output_type": "display_data"
    },
    {
     "name": "stdout",
     "output_type": "stream",
     "text": [
      "recall_rank10 = 0.629\n"
     ]
    },
    {
     "data": {
      "application/vnd.jupyter.widget-view+json": {
       "model_id": "04cdfff8b88d444583c26f248e5eb49a",
       "version_major": 2,
       "version_minor": 0
      },
      "text/plain": [
       "  0%|          | 0/4012 [00:00<?, ?it/s]"
      ]
     },
     "metadata": {},
     "output_type": "display_data"
    },
    {
     "name": "stdout",
     "output_type": "stream",
     "text": [
      "recall_rank5 = 0.486\n"
     ]
    },
    {
     "data": {
      "application/vnd.jupyter.widget-view+json": {
       "model_id": "b982b36ffa3147bdaf78d046eb8e422d",
       "version_major": 2,
       "version_minor": 0
      },
      "text/plain": [
       "  0%|          | 0/4012 [00:00<?, ?it/s]"
      ]
     },
     "metadata": {},
     "output_type": "display_data"
    },
    {
     "name": "stdout",
     "output_type": "stream",
     "text": [
      "recall_rank3 = 0.39\n"
     ]
    }
   ],
   "source": [
    "for k in [20, 10, 5, 3]:\n",
    "    df_rag = calculate_recall(df_rag, \"from_ranker\", \"relevant_passage_ids\", output_col=f'recall_rank_{k}', k=k)\n",
    "    print(f\"recall_rank{k} = {round(df_rag[f'recall_rank_{k}'].mean(), 3)}\")"
   ]
  },
  {
   "cell_type": "markdown",
   "id": "e0d4a9af",
   "metadata": {
    "ExecuteTime": {
     "end_time": "2024-09-02T13:11:25.349989Z",
     "start_time": "2024-09-02T13:11:25.347213Z"
    }
   },
   "source": [
    "## F1@K"
   ]
  },
  {
   "cell_type": "code",
   "execution_count": 24,
   "id": "a024afc2",
   "metadata": {
    "ExecuteTime": {
     "end_time": "2024-09-04T19:34:46.472089Z",
     "start_time": "2024-09-04T19:34:28.815569Z"
    }
   },
   "outputs": [
    {
     "data": {
      "application/vnd.jupyter.widget-view+json": {
       "model_id": "74feab1505194ad49a9dc8ac974b39e4",
       "version_major": 2,
       "version_minor": 0
      },
      "text/plain": [
       "  0%|          | 0/4012 [00:00<?, ?it/s]"
      ]
     },
     "metadata": {},
     "output_type": "display_data"
    },
    {
     "name": "stdout",
     "output_type": "stream",
     "text": [
      "f1@20 = 0.888\n"
     ]
    },
    {
     "data": {
      "application/vnd.jupyter.widget-view+json": {
       "model_id": "33fffbfb6f974c40ba4a4a7270bc8b2e",
       "version_major": 2,
       "version_minor": 0
      },
      "text/plain": [
       "  0%|          | 0/4012 [00:00<?, ?it/s]"
      ]
     },
     "metadata": {},
     "output_type": "display_data"
    },
    {
     "name": "stdout",
     "output_type": "stream",
     "text": [
      "f1@10 = 0.531\n"
     ]
    },
    {
     "data": {
      "application/vnd.jupyter.widget-view+json": {
       "model_id": "4cebe2c2731f421f82aa1b8305ee6fad",
       "version_major": 2,
       "version_minor": 0
      },
      "text/plain": [
       "  0%|          | 0/4012 [00:00<?, ?it/s]"
      ]
     },
     "metadata": {},
     "output_type": "display_data"
    },
    {
     "name": "stdout",
     "output_type": "stream",
     "text": [
      "f1@5 = 0.296\n"
     ]
    },
    {
     "data": {
      "application/vnd.jupyter.widget-view+json": {
       "model_id": "0fead493b419479aa7d578f7353407bd",
       "version_major": 2,
       "version_minor": 0
      },
      "text/plain": [
       "  0%|          | 0/4012 [00:00<?, ?it/s]"
      ]
     },
     "metadata": {},
     "output_type": "display_data"
    },
    {
     "name": "stdout",
     "output_type": "stream",
     "text": [
      "f1@3 = 0.187\n"
     ]
    }
   ],
   "source": [
    "for k in [20, 10, 5, 3]:\n",
    "    df_rag = fbeta_sklearn(df_rag, \"from_retriever\", \"relevant_passage_ids\", output_col=f'f1@{k}', k=k)\n",
    "    print(f\"f1@{k} = {round(df_rag[f'f1@{k}'].mean(), 3)}\")"
   ]
  },
  {
   "cell_type": "markdown",
   "id": "081ff5fb",
   "metadata": {},
   "source": [
    "======================================================================================================================="
   ]
  },
  {
   "cell_type": "markdown",
   "id": "6e22c7cb",
   "metadata": {},
   "source": [
    "# МЕТРИКИ, УЧИТЫВАЮЩИЕ РАНЖИРОВАНИЕ"
   ]
  },
  {
   "cell_type": "markdown",
   "id": "d0afc1da",
   "metadata": {},
   "source": [
    "## MRR"
   ]
  },
  {
   "cell_type": "code",
   "execution_count": 25,
   "id": "ba3439c3",
   "metadata": {
    "ExecuteTime": {
     "end_time": "2024-09-04T19:34:46.526982Z",
     "start_time": "2024-09-04T19:34:46.473094Z"
    }
   },
   "outputs": [
    {
     "data": {
      "application/vnd.jupyter.widget-view+json": {
       "model_id": "630a12b3e8b24c109c1fb63a9524ec03",
       "version_major": 2,
       "version_minor": 0
      },
      "text/plain": [
       "  0%|          | 0/4012 [00:00<?, ?it/s]"
      ]
     },
     "metadata": {},
     "output_type": "display_data"
    },
    {
     "name": "stdout",
     "output_type": "stream",
     "text": [
      "MRR = 0.51\n"
     ]
    }
   ],
   "source": [
    "df_rag, mrr = calculate_mrr(df_rag, \"from_retriever\", \"relevant_passage_ids\", output_col=\"RR_ret\")"
   ]
  },
  {
   "cell_type": "code",
   "execution_count": 26,
   "id": "38f448bc",
   "metadata": {
    "ExecuteTime": {
     "end_time": "2024-09-04T19:34:46.584673Z",
     "start_time": "2024-09-04T19:34:46.527996Z"
    }
   },
   "outputs": [
    {
     "data": {
      "application/vnd.jupyter.widget-view+json": {
       "model_id": "0ddf18c5fb344d659cc7e00cf30e007c",
       "version_major": 2,
       "version_minor": 0
      },
      "text/plain": [
       "  0%|          | 0/4012 [00:00<?, ?it/s]"
      ]
     },
     "metadata": {},
     "output_type": "display_data"
    },
    {
     "name": "stdout",
     "output_type": "stream",
     "text": [
      "MRR = 0.88\n"
     ]
    }
   ],
   "source": [
    "df_rag, mrr = calculate_mrr(df_rag, \"from_ranker\", \"relevant_passage_ids\", output_col=\"RR_ran\")"
   ]
  },
  {
   "cell_type": "markdown",
   "id": "03d40bdb",
   "metadata": {},
   "source": [
    "## AP/MAP"
   ]
  },
  {
   "cell_type": "code",
   "execution_count": 27,
   "id": "16e8980a",
   "metadata": {
    "ExecuteTime": {
     "end_time": "2024-09-04T19:34:46.786987Z",
     "start_time": "2024-09-04T19:34:46.588663Z"
    }
   },
   "outputs": [
    {
     "data": {
      "application/vnd.jupyter.widget-view+json": {
       "model_id": "6e8846e923514c8abf9953116356b6e2",
       "version_major": 2,
       "version_minor": 0
      },
      "text/plain": [
       "  0%|          | 0/4012 [00:00<?, ?it/s]"
      ]
     },
     "metadata": {},
     "output_type": "display_data"
    },
    {
     "name": "stdout",
     "output_type": "stream",
     "text": [
      "MAP@20 = 0.366\n"
     ]
    },
    {
     "data": {
      "application/vnd.jupyter.widget-view+json": {
       "model_id": "671e3b672eb149e8b8390ad4ee6a88bc",
       "version_major": 2,
       "version_minor": 0
      },
      "text/plain": [
       "  0%|          | 0/4012 [00:00<?, ?it/s]"
      ]
     },
     "metadata": {},
     "output_type": "display_data"
    },
    {
     "name": "stdout",
     "output_type": "stream",
     "text": [
      "MAP@10 = 0.215\n"
     ]
    },
    {
     "data": {
      "application/vnd.jupyter.widget-view+json": {
       "model_id": "d58f5fb38aff4f529c207f16d88b05bb",
       "version_major": 2,
       "version_minor": 0
      },
      "text/plain": [
       "  0%|          | 0/4012 [00:00<?, ?it/s]"
      ]
     },
     "metadata": {},
     "output_type": "display_data"
    },
    {
     "name": "stdout",
     "output_type": "stream",
     "text": [
      "MAP@5 = 0.131\n"
     ]
    },
    {
     "data": {
      "application/vnd.jupyter.widget-view+json": {
       "model_id": "dc6bff291c894db98acaabbe42ce7edc",
       "version_major": 2,
       "version_minor": 0
      },
      "text/plain": [
       "  0%|          | 0/4012 [00:00<?, ?it/s]"
      ]
     },
     "metadata": {},
     "output_type": "display_data"
    },
    {
     "name": "stdout",
     "output_type": "stream",
     "text": [
      "MAP@3 = 0.091\n"
     ]
    }
   ],
   "source": [
    "for k in [20, 10, 5, 3]:\n",
    "    df_rag, _map_1 = calculate_map(df_rag, \"from_retriever\", \"relevant_passage_ids\", output_col=f'AP@{k}', k=k)"
   ]
  },
  {
   "cell_type": "code",
   "execution_count": 28,
   "id": "acb835ed",
   "metadata": {
    "ExecuteTime": {
     "end_time": "2024-09-04T19:34:47.020068Z",
     "start_time": "2024-09-04T19:34:46.789984Z"
    }
   },
   "outputs": [
    {
     "data": {
      "application/vnd.jupyter.widget-view+json": {
       "model_id": "dd831bb8478e4dbd83cda7aa7487aecd",
       "version_major": 2,
       "version_minor": 0
      },
      "text/plain": [
       "  0%|          | 0/4012 [00:00<?, ?it/s]"
      ]
     },
     "metadata": {},
     "output_type": "display_data"
    },
    {
     "name": "stdout",
     "output_type": "stream",
     "text": [
      "MAP@20 = 0.645\n"
     ]
    },
    {
     "data": {
      "application/vnd.jupyter.widget-view+json": {
       "model_id": "2aca159fdb5c483d9dcd6194db68fe4c",
       "version_major": 2,
       "version_minor": 0
      },
      "text/plain": [
       "  0%|          | 0/4012 [00:00<?, ?it/s]"
      ]
     },
     "metadata": {},
     "output_type": "display_data"
    },
    {
     "name": "stdout",
     "output_type": "stream",
     "text": [
      "MAP@10 = 0.533\n"
     ]
    },
    {
     "data": {
      "application/vnd.jupyter.widget-view+json": {
       "model_id": "c9bf10fa8b88404998faeee57d7e6688",
       "version_major": 2,
       "version_minor": 0
      },
      "text/plain": [
       "  0%|          | 0/4012 [00:00<?, ?it/s]"
      ]
     },
     "metadata": {},
     "output_type": "display_data"
    },
    {
     "name": "stdout",
     "output_type": "stream",
     "text": [
      "MAP@5 = 0.437\n"
     ]
    },
    {
     "data": {
      "application/vnd.jupyter.widget-view+json": {
       "model_id": "da7131cac4384efd842f24337a7216c3",
       "version_major": 2,
       "version_minor": 0
      },
      "text/plain": [
       "  0%|          | 0/4012 [00:00<?, ?it/s]"
      ]
     },
     "metadata": {},
     "output_type": "display_data"
    },
    {
     "name": "stdout",
     "output_type": "stream",
     "text": [
      "MAP@3 = 0.364\n"
     ]
    }
   ],
   "source": [
    "for k in [20, 10, 5, 3]:\n",
    "    df_rag, _map_2 = calculate_map(df_rag, \"from_ranker\", \"relevant_passage_ids\", output_col=f'_AP@{k}', k=k)"
   ]
  },
  {
   "cell_type": "markdown",
   "id": "90bd3807",
   "metadata": {},
   "source": [
    "## NDCG"
   ]
  },
  {
   "cell_type": "code",
   "execution_count": 29,
   "id": "1f14b2a6",
   "metadata": {
    "ExecuteTime": {
     "end_time": "2024-09-04T19:34:47.023309Z",
     "start_time": "2024-09-04T19:34:47.021071Z"
    }
   },
   "outputs": [],
   "source": [
    "# base"
   ]
  },
  {
   "cell_type": "code",
   "execution_count": 30,
   "id": "bcfb45ba",
   "metadata": {
    "ExecuteTime": {
     "end_time": "2024-09-04T19:34:47.027663Z",
     "start_time": "2024-09-04T19:34:47.024308Z"
    }
   },
   "outputs": [],
   "source": [
    "\n",
    "# for k in [20, 10, 5, 3]:\n",
    "#     df_rag, ndcg_1 = calculate_ndcg_at_k(df_rag, \"from_retriever\", \"relevant_passage_ids\", output_col=f'NDCG@{k}', k=k)"
   ]
  },
  {
   "cell_type": "code",
   "execution_count": 31,
   "id": "c0248a20",
   "metadata": {
    "ExecuteTime": {
     "end_time": "2024-09-04T19:34:47.326989Z",
     "start_time": "2024-09-04T19:34:47.028667Z"
    }
   },
   "outputs": [
    {
     "data": {
      "application/vnd.jupyter.widget-view+json": {
       "model_id": "e989b6af86cc4da8aaf4ffe0c1fe28d1",
       "version_major": 2,
       "version_minor": 0
      },
      "text/plain": [
       "  0%|          | 0/4012 [00:00<?, ?it/s]"
      ]
     },
     "metadata": {},
     "output_type": "display_data"
    },
    {
     "name": "stdout",
     "output_type": "stream",
     "text": [
      "MEAN NDCG@10 = 0.744\n"
     ]
    },
    {
     "data": {
      "application/vnd.jupyter.widget-view+json": {
       "model_id": "64a8d43126714955a155e6201a103a9b",
       "version_major": 2,
       "version_minor": 0
      },
      "text/plain": [
       "  0%|          | 0/4012 [00:00<?, ?it/s]"
      ]
     },
     "metadata": {},
     "output_type": "display_data"
    },
    {
     "name": "stdout",
     "output_type": "stream",
     "text": [
      "MEAN NDCG@5 = 0.767\n"
     ]
    },
    {
     "data": {
      "application/vnd.jupyter.widget-view+json": {
       "model_id": "2b4eeddf1064479e87b5e00df1a5c146",
       "version_major": 2,
       "version_minor": 0
      },
      "text/plain": [
       "  0%|          | 0/4012 [00:00<?, ?it/s]"
      ]
     },
     "metadata": {},
     "output_type": "display_data"
    },
    {
     "name": "stdout",
     "output_type": "stream",
     "text": [
      "MEAN NDCG@3 = 0.798\n"
     ]
    }
   ],
   "source": [
    "for k in [10, 5, 3]:\n",
    "    df_rag, _map = calculate_ndcg_at_k(df_rag, \"from_ranker\", \"relevant_passage_ids\", output_col=f'_NDCG@{k}', k=k)"
   ]
  },
  {
   "cell_type": "code",
   "execution_count": 32,
   "id": "9fc30fde",
   "metadata": {
    "ExecuteTime": {
     "end_time": "2024-09-04T19:34:47.330544Z",
     "start_time": "2024-09-04T19:34:47.327993Z"
    }
   },
   "outputs": [],
   "source": [
    "# sklearn"
   ]
  },
  {
   "cell_type": "code",
   "execution_count": 33,
   "id": "777d4862",
   "metadata": {
    "ExecuteTime": {
     "end_time": "2024-09-04T19:34:47.334262Z",
     "start_time": "2024-09-04T19:34:47.331543Z"
    }
   },
   "outputs": [],
   "source": [
    "# for k in [10, 5, 3]:\n",
    "#     df_rag, _map = calculate_ndcg_sklearn(df_rag, \"from_ranker\", \"relevant_passage_ids\", output_col=f'sk_NDCG@{k}', k=k)"
   ]
  },
  {
   "cell_type": "code",
   "execution_count": null,
   "id": "5025c4f6",
   "metadata": {},
   "outputs": [],
   "source": []
  }
 ],
 "metadata": {
  "kernelspec": {
   "display_name": "Python 3 (ipykernel)",
   "language": "python",
   "name": "python3"
  },
  "language_info": {
   "codemirror_mode": {
    "name": "ipython",
    "version": 3
   },
   "file_extension": ".py",
   "mimetype": "text/x-python",
   "name": "python",
   "nbconvert_exporter": "python",
   "pygments_lexer": "ipython3",
   "version": "3.11.5"
  },
  "toc": {
   "base_numbering": 1,
   "nav_menu": {},
   "number_sections": true,
   "sideBar": true,
   "skip_h1_title": false,
   "title_cell": "Table of Contents",
   "title_sidebar": "Contents",
   "toc_cell": false,
   "toc_position": {},
   "toc_section_display": true,
   "toc_window_display": false
  },
  "varInspector": {
   "cols": {
    "lenName": 16,
    "lenType": 16,
    "lenVar": 40
   },
   "kernels_config": {
    "python": {
     "delete_cmd_postfix": "",
     "delete_cmd_prefix": "del ",
     "library": "var_list.py",
     "varRefreshCmd": "print(var_dic_list())"
    },
    "r": {
     "delete_cmd_postfix": ") ",
     "delete_cmd_prefix": "rm(",
     "library": "var_list.r",
     "varRefreshCmd": "cat(var_dic_list()) "
    }
   },
   "types_to_exclude": [
    "module",
    "function",
    "builtin_function_or_method",
    "instance",
    "_Feature"
   ],
   "window_display": false
  }
 },
 "nbformat": 4,
 "nbformat_minor": 5
}
