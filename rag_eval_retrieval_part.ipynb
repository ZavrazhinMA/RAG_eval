{
 "cells": [
  {
   "cell_type": "code",
   "execution_count": 1,
   "id": "c3851caa",
   "metadata": {
    "ExecuteTime": {
     "end_time": "2024-08-30T13:34:54.780068Z",
     "start_time": "2024-08-30T13:34:54.776611Z"
    }
   },
   "outputs": [],
   "source": [
    "# !pip install datasets\n",
    "# !pip install urllib3\n",
    "# !pip uninstall urllib3\n",
    "# !pip install --upgrade botocore\n",
    "# !pip install --upgrade datasets\n",
    "# !pip install -U datasets\n",
    "# !pip install python-terrier"
   ]
  },
  {
   "cell_type": "code",
   "execution_count": 2,
   "id": "d4c74cf7",
   "metadata": {
    "ExecuteTime": {
     "end_time": "2024-08-30T13:34:54.785169Z",
     "start_time": "2024-08-30T13:34:54.781266Z"
    }
   },
   "outputs": [],
   "source": [
    "# !python -m venv rag_eval"
   ]
  },
  {
   "cell_type": "markdown",
   "id": "541a0b10",
   "metadata": {},
   "source": [
    "## IMPORTS"
   ]
  },
  {
   "cell_type": "code",
   "execution_count": 3,
   "id": "9805e41e",
   "metadata": {
    "ExecuteTime": {
     "end_time": "2024-08-30T13:34:56.435525Z",
     "start_time": "2024-08-30T13:34:54.786170Z"
    }
   },
   "outputs": [],
   "source": [
    "from datasets import load_dataset\n",
    "from tqdm.auto import tqdm\n",
    "from utils.metrics_utils import calculate_precision, precision_sklearn, calculate_recall, recall_sklearn\n",
    "import numpy as np"
   ]
  },
  {
   "cell_type": "code",
   "execution_count": 4,
   "id": "399fc3db",
   "metadata": {
    "ExecuteTime": {
     "end_time": "2024-08-30T13:34:56.439816Z",
     "start_time": "2024-08-30T13:34:56.436524Z"
    }
   },
   "outputs": [],
   "source": [
    "tqdm.pandas()"
   ]
  },
  {
   "cell_type": "markdown",
   "id": "738a50b4",
   "metadata": {},
   "source": [
    "## dowload dataset"
   ]
  },
  {
   "cell_type": "code",
   "execution_count": 5,
   "id": "ee7afd18",
   "metadata": {
    "ExecuteTime": {
     "end_time": "2024-08-30T13:35:03.492136Z",
     "start_time": "2024-08-30T13:34:56.440820Z"
    }
   },
   "outputs": [],
   "source": [
    "# Загрузка конфигурации question-answer-passages\n",
    "qa_dataset = load_dataset(\"enelpol/rag-mini-bioasq\", \"question-answer-passages\")\n",
    "\n",
    "# Загрузка конфигурации text-corpus\n",
    "text_dataset = load_dataset(\"enelpol/rag-mini-bioasq\", \"text-corpus\")"
   ]
  },
  {
   "cell_type": "code",
   "execution_count": 6,
   "id": "b13b1410",
   "metadata": {
    "ExecuteTime": {
     "end_time": "2024-08-30T13:35:03.501924Z",
     "start_time": "2024-08-30T13:35:03.493135Z"
    }
   },
   "outputs": [],
   "source": [
    "df_rag = qa_dataset[\"train\"].to_pandas()"
   ]
  },
  {
   "cell_type": "code",
   "execution_count": 7,
   "id": "902dbdd4",
   "metadata": {
    "ExecuteTime": {
     "end_time": "2024-08-30T13:35:03.565467Z",
     "start_time": "2024-08-30T13:35:03.502922Z"
    }
   },
   "outputs": [],
   "source": [
    "indexed_passages = text_dataset[\"test\"].to_pandas()"
   ]
  },
  {
   "cell_type": "code",
   "execution_count": 8,
   "id": "9ed7bc5e",
   "metadata": {
    "ExecuteTime": {
     "end_time": "2024-08-30T13:35:03.578038Z",
     "start_time": "2024-08-30T13:35:03.566472Z"
    }
   },
   "outputs": [
    {
     "data": {
      "text/html": [
       "<div>\n",
       "<style scoped>\n",
       "    .dataframe tbody tr th:only-of-type {\n",
       "        vertical-align: middle;\n",
       "    }\n",
       "\n",
       "    .dataframe tbody tr th {\n",
       "        vertical-align: top;\n",
       "    }\n",
       "\n",
       "    .dataframe thead th {\n",
       "        text-align: right;\n",
       "    }\n",
       "</style>\n",
       "<table border=\"1\" class=\"dataframe\">\n",
       "  <thead>\n",
       "    <tr style=\"text-align: right;\">\n",
       "      <th></th>\n",
       "      <th>question</th>\n",
       "      <th>answer</th>\n",
       "      <th>id</th>\n",
       "      <th>relevant_passage_ids</th>\n",
       "    </tr>\n",
       "  </thead>\n",
       "  <tbody>\n",
       "    <tr>\n",
       "      <th>0</th>\n",
       "      <td>What is the implication of histone lysine meth...</td>\n",
       "      <td>Aberrant patterns of H3K4, H3K9, and H3K27 his...</td>\n",
       "      <td>1682</td>\n",
       "      <td>[23179372, 19270706, 23184418]</td>\n",
       "    </tr>\n",
       "    <tr>\n",
       "      <th>1</th>\n",
       "      <td>What is the role of STAG1/STAG2 proteins in di...</td>\n",
       "      <td>STAG1/STAG2 proteins are tumour suppressor pro...</td>\n",
       "      <td>3722</td>\n",
       "      <td>[26997282, 21589869, 19822671, 29867216, 15361...</td>\n",
       "    </tr>\n",
       "  </tbody>\n",
       "</table>\n",
       "</div>"
      ],
      "text/plain": [
       "                                            question  \\\n",
       "0  What is the implication of histone lysine meth...   \n",
       "1  What is the role of STAG1/STAG2 proteins in di...   \n",
       "\n",
       "                                              answer    id  \\\n",
       "0  Aberrant patterns of H3K4, H3K9, and H3K27 his...  1682   \n",
       "1  STAG1/STAG2 proteins are tumour suppressor pro...  3722   \n",
       "\n",
       "                                relevant_passage_ids  \n",
       "0                     [23179372, 19270706, 23184418]  \n",
       "1  [26997282, 21589869, 19822671, 29867216, 15361...  "
      ]
     },
     "metadata": {},
     "output_type": "display_data"
    },
    {
     "data": {
      "text/html": [
       "<div>\n",
       "<style scoped>\n",
       "    .dataframe tbody tr th:only-of-type {\n",
       "        vertical-align: middle;\n",
       "    }\n",
       "\n",
       "    .dataframe tbody tr th {\n",
       "        vertical-align: top;\n",
       "    }\n",
       "\n",
       "    .dataframe thead th {\n",
       "        text-align: right;\n",
       "    }\n",
       "</style>\n",
       "<table border=\"1\" class=\"dataframe\">\n",
       "  <thead>\n",
       "    <tr style=\"text-align: right;\">\n",
       "      <th></th>\n",
       "      <th>passage</th>\n",
       "      <th>id</th>\n",
       "    </tr>\n",
       "  </thead>\n",
       "  <tbody>\n",
       "    <tr>\n",
       "      <th>0</th>\n",
       "      <td>New data on viruses isolated from patients wit...</td>\n",
       "      <td>9797</td>\n",
       "    </tr>\n",
       "    <tr>\n",
       "      <th>1</th>\n",
       "      <td>We describe an improved method for detecting d...</td>\n",
       "      <td>11906</td>\n",
       "    </tr>\n",
       "  </tbody>\n",
       "</table>\n",
       "</div>"
      ],
      "text/plain": [
       "                                             passage     id\n",
       "0  New data on viruses isolated from patients wit...   9797\n",
       "1  We describe an improved method for detecting d...  11906"
      ]
     },
     "metadata": {},
     "output_type": "display_data"
    }
   ],
   "source": [
    "display(df_rag.head(2), indexed_passages.head(2))"
   ]
  },
  {
   "cell_type": "code",
   "execution_count": 9,
   "id": "0c499762",
   "metadata": {
    "ExecuteTime": {
     "end_time": "2024-08-30T13:35:03.584447Z",
     "start_time": "2024-08-30T13:35:03.580037Z"
    }
   },
   "outputs": [],
   "source": [
    "def generate_from_retriever(row, indexed_passages, prob=0.85, top_k=20):\n",
    "    \"\"\"\n",
    "    Создает столбец 'from_retriever', имитируя поиск и ранжирование.\n",
    "    \n",
    "    Параметры:\n",
    "    row - строка из DataFrame с колонками 'question', 'answer', 'id', 'relevant_passage_ids'.\n",
    "    indexed_passages - DataFrame с проиндексированными пассажами.\n",
    "    prob - вероятность добавления релевантного пассажа.\n",
    "    top_k - количество возвращаемых пассажей (топ-K).\n",
    "    \n",
    "    Возвращает:\n",
    "    Список из top_k документов (ID), который содержит релевантные документы с вероятностью 'prob' и остальные документы.\n",
    "    \"\"\"\n",
    "    relevant_passage_ids = row['relevant_passage_ids']\n",
    "    from_retriever = []\n",
    "\n",
    "    # Добавляем релевантные документы с заданной вероятностью\n",
    "    for passage_id in relevant_passage_ids:\n",
    "        if np.random.rand() <= prob:\n",
    "            from_retriever.append(passage_id)\n",
    "\n",
    "    # Добираем список до top_k случайными документами\n",
    "    if len(from_retriever) < top_k:\n",
    "        # Находим доступные документы, которые не в from_retriever\n",
    "        available_ids = set(indexed_passages['id']) - set(from_retriever)\n",
    "        additional_passages = list(np.random.choice(list(available_ids), size=(top_k - len(from_retriever)), replace=False))\n",
    "        from_retriever.extend(additional_passages)\n",
    "    \n",
    "    # Перемешиваем список для имитации реального поиска\n",
    "    np.random.shuffle(from_retriever)\n",
    "\n",
    "    return from_retriever"
   ]
  },
  {
   "cell_type": "code",
   "execution_count": 10,
   "id": "190741c3",
   "metadata": {
    "ExecuteTime": {
     "end_time": "2024-08-30T13:35:39.099953Z",
     "start_time": "2024-08-30T13:35:03.585445Z"
    }
   },
   "outputs": [
    {
     "data": {
      "application/vnd.jupyter.widget-view+json": {
       "model_id": "15c5ac1f651548a9adf77cf5b8dadd89",
       "version_major": 2,
       "version_minor": 0
      },
      "text/plain": [
       "  0%|          | 0/4012 [00:00<?, ?it/s]"
      ]
     },
     "metadata": {},
     "output_type": "display_data"
    }
   ],
   "source": [
    "df_rag['from_retriever'] = df_rag.progress_apply(generate_from_retriever, args=(indexed_passages,), axis=1)"
   ]
  },
  {
   "cell_type": "code",
   "execution_count": 11,
   "id": "d94fcf6d",
   "metadata": {
    "ExecuteTime": {
     "end_time": "2024-08-30T13:35:39.108083Z",
     "start_time": "2024-08-30T13:35:39.100973Z"
    }
   },
   "outputs": [
    {
     "data": {
      "text/html": [
       "<div>\n",
       "<style scoped>\n",
       "    .dataframe tbody tr th:only-of-type {\n",
       "        vertical-align: middle;\n",
       "    }\n",
       "\n",
       "    .dataframe tbody tr th {\n",
       "        vertical-align: top;\n",
       "    }\n",
       "\n",
       "    .dataframe thead th {\n",
       "        text-align: right;\n",
       "    }\n",
       "</style>\n",
       "<table border=\"1\" class=\"dataframe\">\n",
       "  <thead>\n",
       "    <tr style=\"text-align: right;\">\n",
       "      <th></th>\n",
       "      <th>question</th>\n",
       "      <th>answer</th>\n",
       "      <th>id</th>\n",
       "      <th>relevant_passage_ids</th>\n",
       "      <th>from_retriever</th>\n",
       "    </tr>\n",
       "  </thead>\n",
       "  <tbody>\n",
       "    <tr>\n",
       "      <th>0</th>\n",
       "      <td>What is the implication of histone lysine meth...</td>\n",
       "      <td>Aberrant patterns of H3K4, H3K9, and H3K27 his...</td>\n",
       "      <td>1682</td>\n",
       "      <td>[23179372, 19270706, 23184418]</td>\n",
       "      <td>[16006690, 18726008, 33118153, 23636943, 81789...</td>\n",
       "    </tr>\n",
       "    <tr>\n",
       "      <th>1</th>\n",
       "      <td>What is the role of STAG1/STAG2 proteins in di...</td>\n",
       "      <td>STAG1/STAG2 proteins are tumour suppressor pro...</td>\n",
       "      <td>3722</td>\n",
       "      <td>[26997282, 21589869, 19822671, 29867216, 15361...</td>\n",
       "      <td>[18276799, 19822671, 8180509, 29330215, 272177...</td>\n",
       "    </tr>\n",
       "  </tbody>\n",
       "</table>\n",
       "</div>"
      ],
      "text/plain": [
       "                                            question  \\\n",
       "0  What is the implication of histone lysine meth...   \n",
       "1  What is the role of STAG1/STAG2 proteins in di...   \n",
       "\n",
       "                                              answer    id  \\\n",
       "0  Aberrant patterns of H3K4, H3K9, and H3K27 his...  1682   \n",
       "1  STAG1/STAG2 proteins are tumour suppressor pro...  3722   \n",
       "\n",
       "                                relevant_passage_ids  \\\n",
       "0                     [23179372, 19270706, 23184418]   \n",
       "1  [26997282, 21589869, 19822671, 29867216, 15361...   \n",
       "\n",
       "                                      from_retriever  \n",
       "0  [16006690, 18726008, 33118153, 23636943, 81789...  \n",
       "1  [18276799, 19822671, 8180509, 29330215, 272177...  "
      ]
     },
     "execution_count": 11,
     "metadata": {},
     "output_type": "execute_result"
    }
   ],
   "source": [
    "df_rag.head(2)"
   ]
  },
  {
   "cell_type": "code",
   "execution_count": 12,
   "id": "e5b12df4",
   "metadata": {
    "ExecuteTime": {
     "end_time": "2024-08-30T13:35:39.114732Z",
     "start_time": "2024-08-30T13:35:39.109082Z"
    }
   },
   "outputs": [],
   "source": [
    "def generate_from_ranker(row, prob=0.8):\n",
    "    \"\"\"\n",
    "    Создает столбец 'from_ranker', имитируя ранжирование результатов поиска.\n",
    "    \n",
    "    Параметры:\n",
    "    row - строка из DataFrame с колонками 'from_retriever' и 'relevant_passage_ids'.\n",
    "    prob - базовая вероятность поднятия релевантного документа в топ списка.\n",
    "    \n",
    "    Возвращает:\n",
    "    Список документов (ID) с ранжированием, где релевантные документы поднимаются выше с увеличенной вероятностью.\n",
    "    \"\"\"\n",
    "    from_retriever = row['from_retriever']\n",
    "    relevant_passage_ids = set(row['relevant_passage_ids'])\n",
    "    \n",
    "    # Копируем список для ранжирования\n",
    "    from_ranker = from_retriever.copy()\n",
    "\n",
    "    # Проходимся по списку снизу вверх\n",
    "    for i in range(len(from_ranker) - 1, -1, -1):\n",
    "        if from_ranker[i] in relevant_passage_ids:\n",
    "            if np.random.rand() <= prob:\n",
    "                # Определяем вес для каждой позиции: чем выше позиция, тем выше вероятность\n",
    "                weights = np.array([1 / (j + 1) for j in range(i + 1)])  # Инвертированное линейное распределение\n",
    "                weights = weights / weights.sum()  # Нормализация весов для получения вероятностей\n",
    "\n",
    "                # Выбираем новую позицию на основе весов\n",
    "                new_position = np.random.choice(range(i + 1), p=weights)\n",
    "                \n",
    "                # Перемещаем документ в новый индекс\n",
    "                from_ranker.insert(new_position, from_ranker.pop(i))\n",
    "    \n",
    "    return from_ranker"
   ]
  },
  {
   "cell_type": "code",
   "execution_count": 13,
   "id": "0e7d9610",
   "metadata": {
    "ExecuteTime": {
     "end_time": "2024-08-30T13:35:40.060785Z",
     "start_time": "2024-08-30T13:35:39.115731Z"
    }
   },
   "outputs": [
    {
     "data": {
      "application/vnd.jupyter.widget-view+json": {
       "model_id": "8562876b0be64981ae5d1cc02d0654dc",
       "version_major": 2,
       "version_minor": 0
      },
      "text/plain": [
       "  0%|          | 0/4012 [00:00<?, ?it/s]"
      ]
     },
     "metadata": {},
     "output_type": "display_data"
    }
   ],
   "source": [
    "df_rag['from_ranker'] = df_rag.progress_apply(generate_from_ranker, axis=1)"
   ]
  },
  {
   "cell_type": "code",
   "execution_count": 14,
   "id": "afc3774b",
   "metadata": {
    "ExecuteTime": {
     "end_time": "2024-08-30T13:35:40.069317Z",
     "start_time": "2024-08-30T13:35:40.061784Z"
    }
   },
   "outputs": [
    {
     "data": {
      "text/html": [
       "<div>\n",
       "<style scoped>\n",
       "    .dataframe tbody tr th:only-of-type {\n",
       "        vertical-align: middle;\n",
       "    }\n",
       "\n",
       "    .dataframe tbody tr th {\n",
       "        vertical-align: top;\n",
       "    }\n",
       "\n",
       "    .dataframe thead th {\n",
       "        text-align: right;\n",
       "    }\n",
       "</style>\n",
       "<table border=\"1\" class=\"dataframe\">\n",
       "  <thead>\n",
       "    <tr style=\"text-align: right;\">\n",
       "      <th></th>\n",
       "      <th>question</th>\n",
       "      <th>answer</th>\n",
       "      <th>id</th>\n",
       "      <th>relevant_passage_ids</th>\n",
       "      <th>from_retriever</th>\n",
       "      <th>from_ranker</th>\n",
       "    </tr>\n",
       "  </thead>\n",
       "  <tbody>\n",
       "    <tr>\n",
       "      <th>0</th>\n",
       "      <td>What is the implication of histone lysine meth...</td>\n",
       "      <td>Aberrant patterns of H3K4, H3K9, and H3K27 his...</td>\n",
       "      <td>1682</td>\n",
       "      <td>[23179372, 19270706, 23184418]</td>\n",
       "      <td>[16006690, 18726008, 33118153, 23636943, 81789...</td>\n",
       "      <td>[23184418, 19270706, 16006690, 18726008, 33118...</td>\n",
       "    </tr>\n",
       "    <tr>\n",
       "      <th>1</th>\n",
       "      <td>What is the role of STAG1/STAG2 proteins in di...</td>\n",
       "      <td>STAG1/STAG2 proteins are tumour suppressor pro...</td>\n",
       "      <td>3722</td>\n",
       "      <td>[26997282, 21589869, 19822671, 29867216, 15361...</td>\n",
       "      <td>[18276799, 19822671, 8180509, 29330215, 272177...</td>\n",
       "      <td>[28430577, 19822671, 12034751, 18276799, 15361...</td>\n",
       "    </tr>\n",
       "  </tbody>\n",
       "</table>\n",
       "</div>"
      ],
      "text/plain": [
       "                                            question  \\\n",
       "0  What is the implication of histone lysine meth...   \n",
       "1  What is the role of STAG1/STAG2 proteins in di...   \n",
       "\n",
       "                                              answer    id  \\\n",
       "0  Aberrant patterns of H3K4, H3K9, and H3K27 his...  1682   \n",
       "1  STAG1/STAG2 proteins are tumour suppressor pro...  3722   \n",
       "\n",
       "                                relevant_passage_ids  \\\n",
       "0                     [23179372, 19270706, 23184418]   \n",
       "1  [26997282, 21589869, 19822671, 29867216, 15361...   \n",
       "\n",
       "                                      from_retriever  \\\n",
       "0  [16006690, 18726008, 33118153, 23636943, 81789...   \n",
       "1  [18276799, 19822671, 8180509, 29330215, 272177...   \n",
       "\n",
       "                                         from_ranker  \n",
       "0  [23184418, 19270706, 16006690, 18726008, 33118...  \n",
       "1  [28430577, 19822671, 12034751, 18276799, 15361...  "
      ]
     },
     "execution_count": 14,
     "metadata": {},
     "output_type": "execute_result"
    }
   ],
   "source": [
    "df_rag.head(2)"
   ]
  },
  {
   "cell_type": "code",
   "execution_count": null,
   "id": "d33b7191",
   "metadata": {
    "ExecuteTime": {
     "end_time": "2024-08-28T14:23:49.217141Z",
     "start_time": "2024-08-28T14:23:49.213277Z"
    }
   },
   "outputs": [],
   "source": []
  },
  {
   "cell_type": "code",
   "execution_count": 15,
   "id": "c1ef0dea",
   "metadata": {
    "ExecuteTime": {
     "end_time": "2024-08-30T13:35:40.119267Z",
     "start_time": "2024-08-30T13:35:40.070318Z"
    }
   },
   "outputs": [
    {
     "data": {
      "text/html": [
       "<div>\n",
       "<style scoped>\n",
       "    .dataframe tbody tr th:only-of-type {\n",
       "        vertical-align: middle;\n",
       "    }\n",
       "\n",
       "    .dataframe tbody tr th {\n",
       "        vertical-align: top;\n",
       "    }\n",
       "\n",
       "    .dataframe thead th {\n",
       "        text-align: right;\n",
       "    }\n",
       "</style>\n",
       "<table border=\"1\" class=\"dataframe\">\n",
       "  <thead>\n",
       "    <tr style=\"text-align: right;\">\n",
       "      <th></th>\n",
       "      <th>question</th>\n",
       "      <th>answer</th>\n",
       "      <th>id</th>\n",
       "      <th>relevant_passage_ids</th>\n",
       "      <th>from_retriever</th>\n",
       "      <th>from_ranker</th>\n",
       "      <th>Precision</th>\n",
       "    </tr>\n",
       "  </thead>\n",
       "  <tbody>\n",
       "    <tr>\n",
       "      <th>0</th>\n",
       "      <td>What is the implication of histone lysine meth...</td>\n",
       "      <td>Aberrant patterns of H3K4, H3K9, and H3K27 his...</td>\n",
       "      <td>1682</td>\n",
       "      <td>[23179372, 19270706, 23184418]</td>\n",
       "      <td>[16006690, 18726008, 33118153, 23636943, 81789...</td>\n",
       "      <td>[23184418, 19270706, 16006690, 18726008, 33118...</td>\n",
       "      <td>0.15</td>\n",
       "    </tr>\n",
       "    <tr>\n",
       "      <th>1</th>\n",
       "      <td>What is the role of STAG1/STAG2 proteins in di...</td>\n",
       "      <td>STAG1/STAG2 proteins are tumour suppressor pro...</td>\n",
       "      <td>3722</td>\n",
       "      <td>[26997282, 21589869, 19822671, 29867216, 15361...</td>\n",
       "      <td>[18276799, 19822671, 8180509, 29330215, 272177...</td>\n",
       "      <td>[28430577, 19822671, 12034751, 18276799, 15361...</td>\n",
       "      <td>0.35</td>\n",
       "    </tr>\n",
       "  </tbody>\n",
       "</table>\n",
       "</div>"
      ],
      "text/plain": [
       "                                            question  \\\n",
       "0  What is the implication of histone lysine meth...   \n",
       "1  What is the role of STAG1/STAG2 proteins in di...   \n",
       "\n",
       "                                              answer    id  \\\n",
       "0  Aberrant patterns of H3K4, H3K9, and H3K27 his...  1682   \n",
       "1  STAG1/STAG2 proteins are tumour suppressor pro...  3722   \n",
       "\n",
       "                                relevant_passage_ids  \\\n",
       "0                     [23179372, 19270706, 23184418]   \n",
       "1  [26997282, 21589869, 19822671, 29867216, 15361...   \n",
       "\n",
       "                                      from_retriever  \\\n",
       "0  [16006690, 18726008, 33118153, 23636943, 81789...   \n",
       "1  [18276799, 19822671, 8180509, 29330215, 272177...   \n",
       "\n",
       "                                         from_ranker  Precision  \n",
       "0  [23184418, 19270706, 16006690, 18726008, 33118...       0.15  \n",
       "1  [28430577, 19822671, 12034751, 18276799, 15361...       0.35  "
      ]
     },
     "execution_count": 15,
     "metadata": {},
     "output_type": "execute_result"
    }
   ],
   "source": [
    "df_rag = calculate_precision(df_rag, \"from_retriever\", \"relevant_passage_ids\", output_col='Precision', k=None)\n",
    "df_rag.head(2)"
   ]
  },
  {
   "cell_type": "code",
   "execution_count": 16,
   "id": "9c8c48b8",
   "metadata": {
    "ExecuteTime": {
     "end_time": "2024-08-30T13:35:44.656948Z",
     "start_time": "2024-08-30T13:35:40.120815Z"
    }
   },
   "outputs": [
    {
     "data": {
      "text/html": [
       "<div>\n",
       "<style scoped>\n",
       "    .dataframe tbody tr th:only-of-type {\n",
       "        vertical-align: middle;\n",
       "    }\n",
       "\n",
       "    .dataframe tbody tr th {\n",
       "        vertical-align: top;\n",
       "    }\n",
       "\n",
       "    .dataframe thead th {\n",
       "        text-align: right;\n",
       "    }\n",
       "</style>\n",
       "<table border=\"1\" class=\"dataframe\">\n",
       "  <thead>\n",
       "    <tr style=\"text-align: right;\">\n",
       "      <th></th>\n",
       "      <th>question</th>\n",
       "      <th>answer</th>\n",
       "      <th>id</th>\n",
       "      <th>relevant_passage_ids</th>\n",
       "      <th>from_retriever</th>\n",
       "      <th>from_ranker</th>\n",
       "      <th>Precision</th>\n",
       "      <th>Precision_sk</th>\n",
       "    </tr>\n",
       "  </thead>\n",
       "  <tbody>\n",
       "    <tr>\n",
       "      <th>0</th>\n",
       "      <td>What is the implication of histone lysine meth...</td>\n",
       "      <td>Aberrant patterns of H3K4, H3K9, and H3K27 his...</td>\n",
       "      <td>1682</td>\n",
       "      <td>[23179372, 19270706, 23184418]</td>\n",
       "      <td>[16006690, 18726008, 33118153, 23636943, 81789...</td>\n",
       "      <td>[23184418, 19270706, 16006690, 18726008, 33118...</td>\n",
       "      <td>0.15</td>\n",
       "      <td>0.15</td>\n",
       "    </tr>\n",
       "    <tr>\n",
       "      <th>1</th>\n",
       "      <td>What is the role of STAG1/STAG2 proteins in di...</td>\n",
       "      <td>STAG1/STAG2 proteins are tumour suppressor pro...</td>\n",
       "      <td>3722</td>\n",
       "      <td>[26997282, 21589869, 19822671, 29867216, 15361...</td>\n",
       "      <td>[18276799, 19822671, 8180509, 29330215, 272177...</td>\n",
       "      <td>[28430577, 19822671, 12034751, 18276799, 15361...</td>\n",
       "      <td>0.35</td>\n",
       "      <td>0.35</td>\n",
       "    </tr>\n",
       "  </tbody>\n",
       "</table>\n",
       "</div>"
      ],
      "text/plain": [
       "                                            question  \\\n",
       "0  What is the implication of histone lysine meth...   \n",
       "1  What is the role of STAG1/STAG2 proteins in di...   \n",
       "\n",
       "                                              answer    id  \\\n",
       "0  Aberrant patterns of H3K4, H3K9, and H3K27 his...  1682   \n",
       "1  STAG1/STAG2 proteins are tumour suppressor pro...  3722   \n",
       "\n",
       "                                relevant_passage_ids  \\\n",
       "0                     [23179372, 19270706, 23184418]   \n",
       "1  [26997282, 21589869, 19822671, 29867216, 15361...   \n",
       "\n",
       "                                      from_retriever  \\\n",
       "0  [16006690, 18726008, 33118153, 23636943, 81789...   \n",
       "1  [18276799, 19822671, 8180509, 29330215, 272177...   \n",
       "\n",
       "                                         from_ranker  Precision  Precision_sk  \n",
       "0  [23184418, 19270706, 16006690, 18726008, 33118...       0.15          0.15  \n",
       "1  [28430577, 19822671, 12034751, 18276799, 15361...       0.35          0.35  "
      ]
     },
     "execution_count": 16,
     "metadata": {},
     "output_type": "execute_result"
    }
   ],
   "source": [
    "df_rag = precision_sklearn(df_rag, \"from_retriever\", \"relevant_passage_ids\", output_col='Precision_sk', k=None)\n",
    "df_rag.head(2)"
   ]
  },
  {
   "cell_type": "code",
   "execution_count": 17,
   "id": "be060b00",
   "metadata": {
    "ExecuteTime": {
     "end_time": "2024-08-30T13:35:44.662189Z",
     "start_time": "2024-08-30T13:35:44.657952Z"
    }
   },
   "outputs": [
    {
     "data": {
      "text/plain": [
       "0.356"
      ]
     },
     "execution_count": 17,
     "metadata": {},
     "output_type": "execute_result"
    }
   ],
   "source": [
    "df_rag['Precision'].mean().round(3)"
   ]
  },
  {
   "cell_type": "code",
   "execution_count": 18,
   "id": "28b5247d",
   "metadata": {
    "ExecuteTime": {
     "end_time": "2024-08-30T13:35:44.666427Z",
     "start_time": "2024-08-30T13:35:44.663193Z"
    }
   },
   "outputs": [
    {
     "data": {
      "text/plain": [
       "0.356"
      ]
     },
     "execution_count": 18,
     "metadata": {},
     "output_type": "execute_result"
    }
   ],
   "source": [
    "df_rag['Precision_sk'].mean().round(3)"
   ]
  },
  {
   "cell_type": "code",
   "execution_count": 19,
   "id": "e895343a",
   "metadata": {
    "ExecuteTime": {
     "end_time": "2024-08-30T13:36:02.692851Z",
     "start_time": "2024-08-30T13:35:44.667427Z"
    }
   },
   "outputs": [
    {
     "data": {
      "text/html": [
       "<div>\n",
       "<style scoped>\n",
       "    .dataframe tbody tr th:only-of-type {\n",
       "        vertical-align: middle;\n",
       "    }\n",
       "\n",
       "    .dataframe tbody tr th {\n",
       "        vertical-align: top;\n",
       "    }\n",
       "\n",
       "    .dataframe thead th {\n",
       "        text-align: right;\n",
       "    }\n",
       "</style>\n",
       "<table border=\"1\" class=\"dataframe\">\n",
       "  <thead>\n",
       "    <tr style=\"text-align: right;\">\n",
       "      <th></th>\n",
       "      <th>question</th>\n",
       "      <th>answer</th>\n",
       "      <th>id</th>\n",
       "      <th>relevant_passage_ids</th>\n",
       "      <th>from_retriever</th>\n",
       "      <th>from_ranker</th>\n",
       "      <th>Precision</th>\n",
       "      <th>Precision_sk</th>\n",
       "      <th>Precision_sk_20</th>\n",
       "      <th>Precision_sk_10</th>\n",
       "      <th>Precision_sk_5</th>\n",
       "      <th>Precision_sk_3</th>\n",
       "    </tr>\n",
       "  </thead>\n",
       "  <tbody>\n",
       "    <tr>\n",
       "      <th>0</th>\n",
       "      <td>What is the implication of histone lysine meth...</td>\n",
       "      <td>Aberrant patterns of H3K4, H3K9, and H3K27 his...</td>\n",
       "      <td>1682</td>\n",
       "      <td>[23179372, 19270706, 23184418]</td>\n",
       "      <td>[16006690, 18726008, 33118153, 23636943, 81789...</td>\n",
       "      <td>[23184418, 19270706, 16006690, 18726008, 33118...</td>\n",
       "      <td>0.15</td>\n",
       "      <td>0.15</td>\n",
       "      <td>0.15</td>\n",
       "      <td>0.1</td>\n",
       "      <td>0.0</td>\n",
       "      <td>0.000000</td>\n",
       "    </tr>\n",
       "    <tr>\n",
       "      <th>1</th>\n",
       "      <td>What is the role of STAG1/STAG2 proteins in di...</td>\n",
       "      <td>STAG1/STAG2 proteins are tumour suppressor pro...</td>\n",
       "      <td>3722</td>\n",
       "      <td>[26997282, 21589869, 19822671, 29867216, 15361...</td>\n",
       "      <td>[18276799, 19822671, 8180509, 29330215, 272177...</td>\n",
       "      <td>[28430577, 19822671, 12034751, 18276799, 15361...</td>\n",
       "      <td>0.35</td>\n",
       "      <td>0.35</td>\n",
       "      <td>0.35</td>\n",
       "      <td>0.4</td>\n",
       "      <td>0.4</td>\n",
       "      <td>0.666667</td>\n",
       "    </tr>\n",
       "  </tbody>\n",
       "</table>\n",
       "</div>"
      ],
      "text/plain": [
       "                                            question  \\\n",
       "0  What is the implication of histone lysine meth...   \n",
       "1  What is the role of STAG1/STAG2 proteins in di...   \n",
       "\n",
       "                                              answer    id  \\\n",
       "0  Aberrant patterns of H3K4, H3K9, and H3K27 his...  1682   \n",
       "1  STAG1/STAG2 proteins are tumour suppressor pro...  3722   \n",
       "\n",
       "                                relevant_passage_ids  \\\n",
       "0                     [23179372, 19270706, 23184418]   \n",
       "1  [26997282, 21589869, 19822671, 29867216, 15361...   \n",
       "\n",
       "                                      from_retriever  \\\n",
       "0  [16006690, 18726008, 33118153, 23636943, 81789...   \n",
       "1  [18276799, 19822671, 8180509, 29330215, 272177...   \n",
       "\n",
       "                                         from_ranker  Precision  Precision_sk  \\\n",
       "0  [23184418, 19270706, 16006690, 18726008, 33118...       0.15          0.15   \n",
       "1  [28430577, 19822671, 12034751, 18276799, 15361...       0.35          0.35   \n",
       "\n",
       "   Precision_sk_20  Precision_sk_10  Precision_sk_5  Precision_sk_3  \n",
       "0             0.15              0.1             0.0        0.000000  \n",
       "1             0.35              0.4             0.4        0.666667  "
      ]
     },
     "execution_count": 19,
     "metadata": {},
     "output_type": "execute_result"
    }
   ],
   "source": [
    "for k in [20, 10, 5, 3]:\n",
    "    df_rag = precision_sklearn(df_rag, \"from_retriever\", \"relevant_passage_ids\", output_col=f'Precision_sk_{k}', k=k)\n",
    "df_rag.head(2)"
   ]
  },
  {
   "cell_type": "code",
   "execution_count": 20,
   "id": "b1b94f58",
   "metadata": {
    "ExecuteTime": {
     "end_time": "2024-08-30T13:36:02.699075Z",
     "start_time": "2024-08-30T13:36:02.693851Z"
    }
   },
   "outputs": [
    {
     "name": "stdout",
     "output_type": "stream",
     "text": [
      "precision_sk_20 = 0.356\n",
      "precision_sk_10 = 0.355\n",
      "precision_sk_5 = 0.355\n",
      "precision_sk_3 = 0.353\n"
     ]
    }
   ],
   "source": [
    "for k in [20, 10, 5, 3]:\n",
    "    print(f\"precision_sk_{k} = {df_rag[f'Precision_sk_{k}'].mean().round(3)}\")"
   ]
  },
  {
   "cell_type": "code",
   "execution_count": 21,
   "id": "7b97454f",
   "metadata": {
    "ExecuteTime": {
     "end_time": "2024-08-30T13:36:20.420497Z",
     "start_time": "2024-08-30T13:36:02.700073Z"
    }
   },
   "outputs": [
    {
     "data": {
      "text/html": [
       "<div>\n",
       "<style scoped>\n",
       "    .dataframe tbody tr th:only-of-type {\n",
       "        vertical-align: middle;\n",
       "    }\n",
       "\n",
       "    .dataframe tbody tr th {\n",
       "        vertical-align: top;\n",
       "    }\n",
       "\n",
       "    .dataframe thead th {\n",
       "        text-align: right;\n",
       "    }\n",
       "</style>\n",
       "<table border=\"1\" class=\"dataframe\">\n",
       "  <thead>\n",
       "    <tr style=\"text-align: right;\">\n",
       "      <th></th>\n",
       "      <th>question</th>\n",
       "      <th>answer</th>\n",
       "      <th>id</th>\n",
       "      <th>relevant_passage_ids</th>\n",
       "      <th>from_retriever</th>\n",
       "      <th>from_ranker</th>\n",
       "      <th>Precision</th>\n",
       "      <th>Precision_sk</th>\n",
       "      <th>Precision_sk_20</th>\n",
       "      <th>Precision_sk_10</th>\n",
       "      <th>Precision_sk_5</th>\n",
       "      <th>Precision_sk_3</th>\n",
       "      <th>Precision_rank20</th>\n",
       "      <th>Precision_rank10</th>\n",
       "      <th>Precision_rank5</th>\n",
       "      <th>Precision_rank3</th>\n",
       "    </tr>\n",
       "  </thead>\n",
       "  <tbody>\n",
       "    <tr>\n",
       "      <th>0</th>\n",
       "      <td>What is the implication of histone lysine meth...</td>\n",
       "      <td>Aberrant patterns of H3K4, H3K9, and H3K27 his...</td>\n",
       "      <td>1682</td>\n",
       "      <td>[23179372, 19270706, 23184418]</td>\n",
       "      <td>[16006690, 18726008, 33118153, 23636943, 81789...</td>\n",
       "      <td>[23184418, 19270706, 16006690, 18726008, 33118...</td>\n",
       "      <td>0.15</td>\n",
       "      <td>0.15</td>\n",
       "      <td>0.15</td>\n",
       "      <td>0.1</td>\n",
       "      <td>0.0</td>\n",
       "      <td>0.000000</td>\n",
       "      <td>0.15</td>\n",
       "      <td>0.2</td>\n",
       "      <td>0.4</td>\n",
       "      <td>0.666667</td>\n",
       "    </tr>\n",
       "    <tr>\n",
       "      <th>1</th>\n",
       "      <td>What is the role of STAG1/STAG2 proteins in di...</td>\n",
       "      <td>STAG1/STAG2 proteins are tumour suppressor pro...</td>\n",
       "      <td>3722</td>\n",
       "      <td>[26997282, 21589869, 19822671, 29867216, 15361...</td>\n",
       "      <td>[18276799, 19822671, 8180509, 29330215, 272177...</td>\n",
       "      <td>[28430577, 19822671, 12034751, 18276799, 15361...</td>\n",
       "      <td>0.35</td>\n",
       "      <td>0.35</td>\n",
       "      <td>0.35</td>\n",
       "      <td>0.4</td>\n",
       "      <td>0.4</td>\n",
       "      <td>0.666667</td>\n",
       "      <td>0.35</td>\n",
       "      <td>0.5</td>\n",
       "      <td>1.0</td>\n",
       "      <td>1.000000</td>\n",
       "    </tr>\n",
       "  </tbody>\n",
       "</table>\n",
       "</div>"
      ],
      "text/plain": [
       "                                            question  \\\n",
       "0  What is the implication of histone lysine meth...   \n",
       "1  What is the role of STAG1/STAG2 proteins in di...   \n",
       "\n",
       "                                              answer    id  \\\n",
       "0  Aberrant patterns of H3K4, H3K9, and H3K27 his...  1682   \n",
       "1  STAG1/STAG2 proteins are tumour suppressor pro...  3722   \n",
       "\n",
       "                                relevant_passage_ids  \\\n",
       "0                     [23179372, 19270706, 23184418]   \n",
       "1  [26997282, 21589869, 19822671, 29867216, 15361...   \n",
       "\n",
       "                                      from_retriever  \\\n",
       "0  [16006690, 18726008, 33118153, 23636943, 81789...   \n",
       "1  [18276799, 19822671, 8180509, 29330215, 272177...   \n",
       "\n",
       "                                         from_ranker  Precision  Precision_sk  \\\n",
       "0  [23184418, 19270706, 16006690, 18726008, 33118...       0.15          0.15   \n",
       "1  [28430577, 19822671, 12034751, 18276799, 15361...       0.35          0.35   \n",
       "\n",
       "   Precision_sk_20  Precision_sk_10  Precision_sk_5  Precision_sk_3  \\\n",
       "0             0.15              0.1             0.0        0.000000   \n",
       "1             0.35              0.4             0.4        0.666667   \n",
       "\n",
       "   Precision_rank20  Precision_rank10  Precision_rank5  Precision_rank3  \n",
       "0              0.15               0.2              0.4         0.666667  \n",
       "1              0.35               0.5              1.0         1.000000  "
      ]
     },
     "execution_count": 21,
     "metadata": {},
     "output_type": "execute_result"
    }
   ],
   "source": [
    "for k in [20, 10, 5, 3]:\n",
    "    df_rag = precision_sklearn(df_rag, \"from_ranker\", \"relevant_passage_ids\", output_col=f'Precision_rank{k}', k=k)\n",
    "df_rag.head(2)"
   ]
  },
  {
   "cell_type": "code",
   "execution_count": 22,
   "id": "71d7c9bb",
   "metadata": {
    "ExecuteTime": {
     "end_time": "2024-08-30T13:36:20.426079Z",
     "start_time": "2024-08-30T13:36:20.422493Z"
    }
   },
   "outputs": [
    {
     "name": "stdout",
     "output_type": "stream",
     "text": [
      "precision_20 = 0.356\n",
      "precision_10 = 0.457\n",
      "precision_5 = 0.597\n",
      "precision_3 = 0.692\n"
     ]
    }
   ],
   "source": [
    "for k in [20, 10, 5, 3]:\n",
    "    print(f\"precision_{k} = {df_rag[f'Precision_rank{k}'].mean().round(3)}\")"
   ]
  },
  {
   "cell_type": "code",
   "execution_count": 23,
   "id": "39fc2da4",
   "metadata": {
    "ExecuteTime": {
     "end_time": "2024-08-30T13:36:38.100529Z",
     "start_time": "2024-08-30T13:36:20.427078Z"
    }
   },
   "outputs": [
    {
     "name": "stdout",
     "output_type": "stream",
     "text": [
      "recall_rank20 = 0.839\n",
      "recall_rank10 = 0.631\n",
      "recall_rank5 = 0.489\n",
      "recall_rank3 = 0.391\n"
     ]
    }
   ],
   "source": [
    "for k in [20, 10, 5, 3]:\n",
    "    df_rag = recall_sklearn(df_rag, \"from_ranker\", \"relevant_passage_ids\", output_col=f'recall_rank{k}', k=k)\n",
    "    print(f\"recall_rank{k} = {df_rag[f'recall_rank{k}'].mean().round(3)}\")"
   ]
  },
  {
   "cell_type": "code",
   "execution_count": 24,
   "id": "c6c2eb9c",
   "metadata": {
    "ExecuteTime": {
     "end_time": "2024-08-30T13:36:38.262139Z",
     "start_time": "2024-08-30T13:36:38.101541Z"
    }
   },
   "outputs": [
    {
     "name": "stdout",
     "output_type": "stream",
     "text": [
      "recall_rank20 = 0.839\n",
      "recall_rank10 = 0.631\n",
      "recall_rank5 = 0.489\n",
      "recall_rank3 = 0.391\n"
     ]
    }
   ],
   "source": [
    "for k in [20, 10, 5, 3]:\n",
    "    df_rag =calculate_recall(df_rag, \"from_ranker\", \"relevant_passage_ids\", output_col=f'recall_rank{k}', k=k)\n",
    "    print(f\"recall_rank{k} = {df_rag[f'recall_rank{k}'].mean().round(3)}\")"
   ]
  },
  {
   "cell_type": "code",
   "execution_count": null,
   "id": "a024afc2",
   "metadata": {},
   "outputs": [],
   "source": []
  }
 ],
 "metadata": {
  "kernelspec": {
   "display_name": "Python 3 (ipykernel)",
   "language": "python",
   "name": "python3"
  },
  "language_info": {
   "codemirror_mode": {
    "name": "ipython",
    "version": 3
   },
   "file_extension": ".py",
   "mimetype": "text/x-python",
   "name": "python",
   "nbconvert_exporter": "python",
   "pygments_lexer": "ipython3",
   "version": "3.11.5"
  },
  "toc": {
   "base_numbering": 1,
   "nav_menu": {},
   "number_sections": true,
   "sideBar": true,
   "skip_h1_title": false,
   "title_cell": "Table of Contents",
   "title_sidebar": "Contents",
   "toc_cell": false,
   "toc_position": {},
   "toc_section_display": true,
   "toc_window_display": false
  },
  "varInspector": {
   "cols": {
    "lenName": 16,
    "lenType": 16,
    "lenVar": 40
   },
   "kernels_config": {
    "python": {
     "delete_cmd_postfix": "",
     "delete_cmd_prefix": "del ",
     "library": "var_list.py",
     "varRefreshCmd": "print(var_dic_list())"
    },
    "r": {
     "delete_cmd_postfix": ") ",
     "delete_cmd_prefix": "rm(",
     "library": "var_list.r",
     "varRefreshCmd": "cat(var_dic_list()) "
    }
   },
   "types_to_exclude": [
    "module",
    "function",
    "builtin_function_or_method",
    "instance",
    "_Feature"
   ],
   "window_display": false
  }
 },
 "nbformat": 4,
 "nbformat_minor": 5
}
