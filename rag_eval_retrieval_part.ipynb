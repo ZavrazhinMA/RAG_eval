{
 "cells": [
  {
   "cell_type": "code",
   "execution_count": 1,
   "id": "c3851caa",
   "metadata": {
    "ExecuteTime": {
     "end_time": "2024-09-06T12:20:14.484573Z",
     "start_time": "2024-09-06T12:20:14.482482Z"
    }
   },
   "outputs": [],
   "source": [
    "# !pip install datasets\n",
    "# !pip install urllib3\n",
    "# !pip uninstall urllib3\n",
    "# !pip install --upgrade botocore\n",
    "# !pip install --upgrade datasets\n",
    "# !pip install -U datasets\n",
    "# !pip install python-terrier"
   ]
  },
  {
   "cell_type": "code",
   "execution_count": 2,
   "id": "0d281760",
   "metadata": {
    "ExecuteTime": {
     "end_time": "2024-09-06T12:20:14.501179Z",
     "start_time": "2024-09-06T12:20:14.485575Z"
    }
   },
   "outputs": [
    {
     "name": "stdout",
     "output_type": "stream",
     "text": [
      "Python 3.11.5\n"
     ]
    }
   ],
   "source": [
    "!python --version"
   ]
  },
  {
   "cell_type": "code",
   "execution_count": 3,
   "id": "d4c74cf7",
   "metadata": {
    "ExecuteTime": {
     "end_time": "2024-09-06T12:20:14.503894Z",
     "start_time": "2024-09-06T12:20:14.502178Z"
    }
   },
   "outputs": [],
   "source": [
    "# !python -m venv rag_eval"
   ]
  },
  {
   "cell_type": "markdown",
   "id": "541a0b10",
   "metadata": {},
   "source": [
    "# IMPORTS"
   ]
  },
  {
   "cell_type": "code",
   "execution_count": 4,
   "id": "9805e41e",
   "metadata": {
    "ExecuteTime": {
     "end_time": "2024-09-06T12:20:15.825267Z",
     "start_time": "2024-09-06T12:20:14.504893Z"
    }
   },
   "outputs": [],
   "source": [
    "from datasets import load_dataset\n",
    "from tqdm.auto import tqdm\n",
    "from utils.metrics_utils import *\n",
    "import numpy as np"
   ]
  },
  {
   "cell_type": "code",
   "execution_count": 5,
   "id": "399fc3db",
   "metadata": {
    "ExecuteTime": {
     "end_time": "2024-09-06T12:20:15.829144Z",
     "start_time": "2024-09-06T12:20:15.826270Z"
    }
   },
   "outputs": [],
   "source": [
    "tqdm.pandas()"
   ]
  },
  {
   "cell_type": "markdown",
   "id": "738a50b4",
   "metadata": {},
   "source": [
    "# Dowload dataset"
   ]
  },
  {
   "cell_type": "code",
   "execution_count": 6,
   "id": "ee7afd18",
   "metadata": {
    "ExecuteTime": {
     "end_time": "2024-09-06T12:20:24.014156Z",
     "start_time": "2024-09-06T12:20:15.830142Z"
    }
   },
   "outputs": [],
   "source": [
    "# Загрузка конфигурации question-answer-passages\n",
    "qa_dataset = load_dataset(\"enelpol/rag-mini-bioasq\", \"question-answer-passages\")\n",
    "\n",
    "# Загрузка конфигурации text-corpus\n",
    "text_dataset = load_dataset(\"enelpol/rag-mini-bioasq\", \"text-corpus\")"
   ]
  },
  {
   "cell_type": "code",
   "execution_count": 7,
   "id": "b13b1410",
   "metadata": {
    "ExecuteTime": {
     "end_time": "2024-09-06T12:20:24.023615Z",
     "start_time": "2024-09-06T12:20:24.015160Z"
    }
   },
   "outputs": [],
   "source": [
    "df_rag = qa_dataset[\"train\"].to_pandas()"
   ]
  },
  {
   "cell_type": "code",
   "execution_count": 8,
   "id": "902dbdd4",
   "metadata": {
    "ExecuteTime": {
     "end_time": "2024-09-06T12:20:24.085479Z",
     "start_time": "2024-09-06T12:20:24.024614Z"
    }
   },
   "outputs": [],
   "source": [
    "indexed_passages = text_dataset[\"test\"].to_pandas()"
   ]
  },
  {
   "cell_type": "code",
   "execution_count": 9,
   "id": "9ed7bc5e",
   "metadata": {
    "ExecuteTime": {
     "end_time": "2024-09-06T12:20:24.097668Z",
     "start_time": "2024-09-06T12:20:24.086477Z"
    }
   },
   "outputs": [
    {
     "data": {
      "text/html": [
       "<div>\n",
       "<style scoped>\n",
       "    .dataframe tbody tr th:only-of-type {\n",
       "        vertical-align: middle;\n",
       "    }\n",
       "\n",
       "    .dataframe tbody tr th {\n",
       "        vertical-align: top;\n",
       "    }\n",
       "\n",
       "    .dataframe thead th {\n",
       "        text-align: right;\n",
       "    }\n",
       "</style>\n",
       "<table border=\"1\" class=\"dataframe\">\n",
       "  <thead>\n",
       "    <tr style=\"text-align: right;\">\n",
       "      <th></th>\n",
       "      <th>question</th>\n",
       "      <th>answer</th>\n",
       "      <th>id</th>\n",
       "      <th>relevant_passage_ids</th>\n",
       "    </tr>\n",
       "  </thead>\n",
       "  <tbody>\n",
       "    <tr>\n",
       "      <th>0</th>\n",
       "      <td>What is the implication of histone lysine meth...</td>\n",
       "      <td>Aberrant patterns of H3K4, H3K9, and H3K27 his...</td>\n",
       "      <td>1682</td>\n",
       "      <td>[23179372, 19270706, 23184418]</td>\n",
       "    </tr>\n",
       "    <tr>\n",
       "      <th>1</th>\n",
       "      <td>What is the role of STAG1/STAG2 proteins in di...</td>\n",
       "      <td>STAG1/STAG2 proteins are tumour suppressor pro...</td>\n",
       "      <td>3722</td>\n",
       "      <td>[26997282, 21589869, 19822671, 29867216, 15361...</td>\n",
       "    </tr>\n",
       "  </tbody>\n",
       "</table>\n",
       "</div>"
      ],
      "text/plain": [
       "                                            question  \\\n",
       "0  What is the implication of histone lysine meth...   \n",
       "1  What is the role of STAG1/STAG2 proteins in di...   \n",
       "\n",
       "                                              answer    id  \\\n",
       "0  Aberrant patterns of H3K4, H3K9, and H3K27 his...  1682   \n",
       "1  STAG1/STAG2 proteins are tumour suppressor pro...  3722   \n",
       "\n",
       "                                relevant_passage_ids  \n",
       "0                     [23179372, 19270706, 23184418]  \n",
       "1  [26997282, 21589869, 19822671, 29867216, 15361...  "
      ]
     },
     "metadata": {},
     "output_type": "display_data"
    },
    {
     "data": {
      "text/html": [
       "<div>\n",
       "<style scoped>\n",
       "    .dataframe tbody tr th:only-of-type {\n",
       "        vertical-align: middle;\n",
       "    }\n",
       "\n",
       "    .dataframe tbody tr th {\n",
       "        vertical-align: top;\n",
       "    }\n",
       "\n",
       "    .dataframe thead th {\n",
       "        text-align: right;\n",
       "    }\n",
       "</style>\n",
       "<table border=\"1\" class=\"dataframe\">\n",
       "  <thead>\n",
       "    <tr style=\"text-align: right;\">\n",
       "      <th></th>\n",
       "      <th>passage</th>\n",
       "      <th>id</th>\n",
       "    </tr>\n",
       "  </thead>\n",
       "  <tbody>\n",
       "    <tr>\n",
       "      <th>0</th>\n",
       "      <td>New data on viruses isolated from patients wit...</td>\n",
       "      <td>9797</td>\n",
       "    </tr>\n",
       "    <tr>\n",
       "      <th>1</th>\n",
       "      <td>We describe an improved method for detecting d...</td>\n",
       "      <td>11906</td>\n",
       "    </tr>\n",
       "  </tbody>\n",
       "</table>\n",
       "</div>"
      ],
      "text/plain": [
       "                                             passage     id\n",
       "0  New data on viruses isolated from patients wit...   9797\n",
       "1  We describe an improved method for detecting d...  11906"
      ]
     },
     "metadata": {},
     "output_type": "display_data"
    }
   ],
   "source": [
    "display(df_rag.head(2), indexed_passages.head(2))"
   ]
  },
  {
   "cell_type": "code",
   "execution_count": 10,
   "id": "0c499762",
   "metadata": {
    "ExecuteTime": {
     "end_time": "2024-09-06T12:20:24.102710Z",
     "start_time": "2024-09-06T12:20:24.098667Z"
    }
   },
   "outputs": [],
   "source": [
    "def generate_from_retriever(row, indexed_passages, prob=0.85, top_k=20):\n",
    "    \"\"\"\n",
    "    Создает столбец 'from_retriever', имитируя поиск и ранжирование.\n",
    "    \n",
    "    Параметры:\n",
    "    row - строка из DataFrame с колонками 'question', 'answer', 'id', 'relevant_passage_ids'.\n",
    "    indexed_passages - DataFrame с проиндексированными пассажами.\n",
    "    prob - вероятность добавления релевантного пассажа.\n",
    "    top_k - количество возвращаемых пассажей (топ-K).\n",
    "    \n",
    "    Возвращает:\n",
    "    Список из top_k документов (ID), который содержит релевантные документы с вероятностью 'prob' и остальные документы.\n",
    "    \"\"\"\n",
    "    relevant_passage_ids = row['relevant_passage_ids']\n",
    "    from_retriever = []\n",
    "\n",
    "    for passage_id in relevant_passage_ids:\n",
    "        if np.random.rand() <= prob:\n",
    "            from_retriever.append(passage_id)\n",
    "\n",
    "    if len(from_retriever) < top_k:\n",
    "        available_ids = set(indexed_passages['id']) - set(from_retriever)\n",
    "        additional_passages = list(np.random.choice(list(available_ids), size=(top_k - len(from_retriever)), replace=False))\n",
    "        from_retriever.extend(additional_passages)\n",
    "    \n",
    "    np.random.shuffle(from_retriever)\n",
    "\n",
    "    return from_retriever"
   ]
  },
  {
   "cell_type": "code",
   "execution_count": 11,
   "id": "190741c3",
   "metadata": {
    "ExecuteTime": {
     "end_time": "2024-09-06T12:20:50.928192Z",
     "start_time": "2024-09-06T12:20:24.103708Z"
    }
   },
   "outputs": [
    {
     "data": {
      "application/vnd.jupyter.widget-view+json": {
       "model_id": "3deff2fae1f3466582dc6d8961c1c6dd",
       "version_major": 2,
       "version_minor": 0
      },
      "text/plain": [
       "  0%|          | 0/4012 [00:00<?, ?it/s]"
      ]
     },
     "metadata": {},
     "output_type": "display_data"
    }
   ],
   "source": [
    "df_rag['from_retriever'] = df_rag.progress_apply(generate_from_retriever, args=(indexed_passages,), axis=1)"
   ]
  },
  {
   "cell_type": "code",
   "execution_count": 12,
   "id": "d94fcf6d",
   "metadata": {
    "ExecuteTime": {
     "end_time": "2024-09-06T12:20:50.936079Z",
     "start_time": "2024-09-06T12:20:50.929191Z"
    }
   },
   "outputs": [
    {
     "data": {
      "text/html": [
       "<div>\n",
       "<style scoped>\n",
       "    .dataframe tbody tr th:only-of-type {\n",
       "        vertical-align: middle;\n",
       "    }\n",
       "\n",
       "    .dataframe tbody tr th {\n",
       "        vertical-align: top;\n",
       "    }\n",
       "\n",
       "    .dataframe thead th {\n",
       "        text-align: right;\n",
       "    }\n",
       "</style>\n",
       "<table border=\"1\" class=\"dataframe\">\n",
       "  <thead>\n",
       "    <tr style=\"text-align: right;\">\n",
       "      <th></th>\n",
       "      <th>question</th>\n",
       "      <th>answer</th>\n",
       "      <th>id</th>\n",
       "      <th>relevant_passage_ids</th>\n",
       "      <th>from_retriever</th>\n",
       "    </tr>\n",
       "  </thead>\n",
       "  <tbody>\n",
       "    <tr>\n",
       "      <th>0</th>\n",
       "      <td>What is the implication of histone lysine meth...</td>\n",
       "      <td>Aberrant patterns of H3K4, H3K9, and H3K27 his...</td>\n",
       "      <td>1682</td>\n",
       "      <td>[23179372, 19270706, 23184418]</td>\n",
       "      <td>[26501573, 27279928, 23429751, 23179372, 18926...</td>\n",
       "    </tr>\n",
       "    <tr>\n",
       "      <th>1</th>\n",
       "      <td>What is the role of STAG1/STAG2 proteins in di...</td>\n",
       "      <td>STAG1/STAG2 proteins are tumour suppressor pro...</td>\n",
       "      <td>3722</td>\n",
       "      <td>[26997282, 21589869, 19822671, 29867216, 15361...</td>\n",
       "      <td>[1445915, 11826022, 18511909, 26243569, 153618...</td>\n",
       "    </tr>\n",
       "  </tbody>\n",
       "</table>\n",
       "</div>"
      ],
      "text/plain": [
       "                                            question  \\\n",
       "0  What is the implication of histone lysine meth...   \n",
       "1  What is the role of STAG1/STAG2 proteins in di...   \n",
       "\n",
       "                                              answer    id  \\\n",
       "0  Aberrant patterns of H3K4, H3K9, and H3K27 his...  1682   \n",
       "1  STAG1/STAG2 proteins are tumour suppressor pro...  3722   \n",
       "\n",
       "                                relevant_passage_ids  \\\n",
       "0                     [23179372, 19270706, 23184418]   \n",
       "1  [26997282, 21589869, 19822671, 29867216, 15361...   \n",
       "\n",
       "                                      from_retriever  \n",
       "0  [26501573, 27279928, 23429751, 23179372, 18926...  \n",
       "1  [1445915, 11826022, 18511909, 26243569, 153618...  "
      ]
     },
     "execution_count": 12,
     "metadata": {},
     "output_type": "execute_result"
    }
   ],
   "source": [
    "df_rag.head(2)"
   ]
  },
  {
   "cell_type": "code",
   "execution_count": 13,
   "id": "e5b12df4",
   "metadata": {
    "ExecuteTime": {
     "end_time": "2024-09-06T12:20:50.942914Z",
     "start_time": "2024-09-06T12:20:50.939072Z"
    }
   },
   "outputs": [],
   "source": [
    "def generate_from_ranker(row, prob=0.8):\n",
    "    \"\"\"\n",
    "    Создает столбец 'from_ranker', имитируя ранжирование результатов поиска.\n",
    "    \n",
    "    Параметры:\n",
    "    row - строка из DataFrame с колонками 'from_retriever' и 'relevant_passage_ids'.\n",
    "    prob - базовая вероятность поднятия релевантного документа в топ списка.\n",
    "    \n",
    "    Возвращает:\n",
    "    Список документов (ID) с ранжированием, где релевантные документы поднимаются выше с увеличенной вероятностью.\n",
    "    \"\"\"\n",
    "    from_retriever = row['from_retriever']\n",
    "    relevant_passage_ids = set(row['relevant_passage_ids'])\n",
    "    from_ranker = from_retriever.copy()\n",
    "\n",
    "    for i in range(len(from_ranker) - 1, -1, -1):\n",
    "        if from_ranker[i] in relevant_passage_ids:\n",
    "            if np.random.rand() <= prob:\n",
    "                weights = np.array([1 / (j + 1) for j in range(i + 1)])  # Инвертированное линейное распределение\n",
    "                weights = weights / weights.sum()  # Нормализация весов для получения вероятностей\n",
    "                new_position = np.random.choice(range(i + 1), p=weights)\n",
    "                from_ranker.insert(new_position, from_ranker.pop(i))\n",
    "    \n",
    "    return from_ranker"
   ]
  },
  {
   "cell_type": "code",
   "execution_count": 14,
   "id": "0e7d9610",
   "metadata": {
    "ExecuteTime": {
     "end_time": "2024-09-06T12:20:51.782755Z",
     "start_time": "2024-09-06T12:20:50.943912Z"
    }
   },
   "outputs": [
    {
     "data": {
      "application/vnd.jupyter.widget-view+json": {
       "model_id": "11aa7cbfb11c4cfc8d4853c0c7238146",
       "version_major": 2,
       "version_minor": 0
      },
      "text/plain": [
       "  0%|          | 0/4012 [00:00<?, ?it/s]"
      ]
     },
     "metadata": {},
     "output_type": "display_data"
    }
   ],
   "source": [
    "df_rag['from_ranker'] = df_rag.progress_apply(generate_from_ranker, axis=1)"
   ]
  },
  {
   "cell_type": "code",
   "execution_count": 15,
   "id": "afc3774b",
   "metadata": {
    "ExecuteTime": {
     "end_time": "2024-09-06T12:20:51.790224Z",
     "start_time": "2024-09-06T12:20:51.783755Z"
    }
   },
   "outputs": [
    {
     "data": {
      "text/html": [
       "<div>\n",
       "<style scoped>\n",
       "    .dataframe tbody tr th:only-of-type {\n",
       "        vertical-align: middle;\n",
       "    }\n",
       "\n",
       "    .dataframe tbody tr th {\n",
       "        vertical-align: top;\n",
       "    }\n",
       "\n",
       "    .dataframe thead th {\n",
       "        text-align: right;\n",
       "    }\n",
       "</style>\n",
       "<table border=\"1\" class=\"dataframe\">\n",
       "  <thead>\n",
       "    <tr style=\"text-align: right;\">\n",
       "      <th></th>\n",
       "      <th>question</th>\n",
       "      <th>answer</th>\n",
       "      <th>id</th>\n",
       "      <th>relevant_passage_ids</th>\n",
       "      <th>from_retriever</th>\n",
       "      <th>from_ranker</th>\n",
       "    </tr>\n",
       "  </thead>\n",
       "  <tbody>\n",
       "    <tr>\n",
       "      <th>0</th>\n",
       "      <td>What is the implication of histone lysine meth...</td>\n",
       "      <td>Aberrant patterns of H3K4, H3K9, and H3K27 his...</td>\n",
       "      <td>1682</td>\n",
       "      <td>[23179372, 19270706, 23184418]</td>\n",
       "      <td>[26501573, 27279928, 23429751, 23179372, 18926...</td>\n",
       "      <td>[23179372, 23184418, 26501573, 27279928, 23429...</td>\n",
       "    </tr>\n",
       "    <tr>\n",
       "      <th>1</th>\n",
       "      <td>What is the role of STAG1/STAG2 proteins in di...</td>\n",
       "      <td>STAG1/STAG2 proteins are tumour suppressor pro...</td>\n",
       "      <td>3722</td>\n",
       "      <td>[26997282, 21589869, 19822671, 29867216, 15361...</td>\n",
       "      <td>[1445915, 11826022, 18511909, 26243569, 153618...</td>\n",
       "      <td>[21589869, 26997282, 19822671, 12034751, 14459...</td>\n",
       "    </tr>\n",
       "  </tbody>\n",
       "</table>\n",
       "</div>"
      ],
      "text/plain": [
       "                                            question  \\\n",
       "0  What is the implication of histone lysine meth...   \n",
       "1  What is the role of STAG1/STAG2 proteins in di...   \n",
       "\n",
       "                                              answer    id  \\\n",
       "0  Aberrant patterns of H3K4, H3K9, and H3K27 his...  1682   \n",
       "1  STAG1/STAG2 proteins are tumour suppressor pro...  3722   \n",
       "\n",
       "                                relevant_passage_ids  \\\n",
       "0                     [23179372, 19270706, 23184418]   \n",
       "1  [26997282, 21589869, 19822671, 29867216, 15361...   \n",
       "\n",
       "                                      from_retriever  \\\n",
       "0  [26501573, 27279928, 23429751, 23179372, 18926...   \n",
       "1  [1445915, 11826022, 18511909, 26243569, 153618...   \n",
       "\n",
       "                                         from_ranker  \n",
       "0  [23179372, 23184418, 26501573, 27279928, 23429...  \n",
       "1  [21589869, 26997282, 19822671, 12034751, 14459...  "
      ]
     },
     "execution_count": 15,
     "metadata": {},
     "output_type": "execute_result"
    }
   ],
   "source": [
    "df_rag.head(2)"
   ]
  },
  {
   "cell_type": "markdown",
   "id": "a0e159f7",
   "metadata": {
    "ExecuteTime": {
     "end_time": "2024-08-28T14:23:49.217141Z",
     "start_time": "2024-08-28T14:23:49.213277Z"
    }
   },
   "source": [
    "============================================================================================================="
   ]
  },
  {
   "cell_type": "markdown",
   "id": "38bbe610",
   "metadata": {},
   "source": [
    "# МЕТРИКИ БЕЗ УЧЕТА РАНЖИРОВАНИЯ"
   ]
  },
  {
   "cell_type": "markdown",
   "id": "ffffa3ac",
   "metadata": {},
   "source": [
    "## PRECISION@K"
   ]
  },
  {
   "cell_type": "code",
   "execution_count": 16,
   "id": "c1ef0dea",
   "metadata": {
    "ExecuteTime": {
     "end_time": "2024-09-06T12:20:51.848299Z",
     "start_time": "2024-09-06T12:20:51.791223Z"
    }
   },
   "outputs": [
    {
     "data": {
      "application/vnd.jupyter.widget-view+json": {
       "model_id": "1bf84c6ad7c940319c1afdf4323004f4",
       "version_major": 2,
       "version_minor": 0
      },
      "text/plain": [
       "  0%|          | 0/4012 [00:00<?, ?it/s]"
      ]
     },
     "metadata": {},
     "output_type": "display_data"
    },
    {
     "data": {
      "text/html": [
       "<div>\n",
       "<style scoped>\n",
       "    .dataframe tbody tr th:only-of-type {\n",
       "        vertical-align: middle;\n",
       "    }\n",
       "\n",
       "    .dataframe tbody tr th {\n",
       "        vertical-align: top;\n",
       "    }\n",
       "\n",
       "    .dataframe thead th {\n",
       "        text-align: right;\n",
       "    }\n",
       "</style>\n",
       "<table border=\"1\" class=\"dataframe\">\n",
       "  <thead>\n",
       "    <tr style=\"text-align: right;\">\n",
       "      <th></th>\n",
       "      <th>question</th>\n",
       "      <th>answer</th>\n",
       "      <th>id</th>\n",
       "      <th>relevant_passage_ids</th>\n",
       "      <th>from_retriever</th>\n",
       "      <th>from_ranker</th>\n",
       "      <th>Precision</th>\n",
       "    </tr>\n",
       "  </thead>\n",
       "  <tbody>\n",
       "    <tr>\n",
       "      <th>0</th>\n",
       "      <td>What is the implication of histone lysine meth...</td>\n",
       "      <td>Aberrant patterns of H3K4, H3K9, and H3K27 his...</td>\n",
       "      <td>1682</td>\n",
       "      <td>[23179372, 19270706, 23184418]</td>\n",
       "      <td>[26501573, 27279928, 23429751, 23179372, 18926...</td>\n",
       "      <td>[23179372, 23184418, 26501573, 27279928, 23429...</td>\n",
       "      <td>0.10</td>\n",
       "    </tr>\n",
       "    <tr>\n",
       "      <th>1</th>\n",
       "      <td>What is the role of STAG1/STAG2 proteins in di...</td>\n",
       "      <td>STAG1/STAG2 proteins are tumour suppressor pro...</td>\n",
       "      <td>3722</td>\n",
       "      <td>[26997282, 21589869, 19822671, 29867216, 15361...</td>\n",
       "      <td>[1445915, 11826022, 18511909, 26243569, 153618...</td>\n",
       "      <td>[21589869, 26997282, 19822671, 12034751, 14459...</td>\n",
       "      <td>0.35</td>\n",
       "    </tr>\n",
       "  </tbody>\n",
       "</table>\n",
       "</div>"
      ],
      "text/plain": [
       "                                            question  \\\n",
       "0  What is the implication of histone lysine meth...   \n",
       "1  What is the role of STAG1/STAG2 proteins in di...   \n",
       "\n",
       "                                              answer    id  \\\n",
       "0  Aberrant patterns of H3K4, H3K9, and H3K27 his...  1682   \n",
       "1  STAG1/STAG2 proteins are tumour suppressor pro...  3722   \n",
       "\n",
       "                                relevant_passage_ids  \\\n",
       "0                     [23179372, 19270706, 23184418]   \n",
       "1  [26997282, 21589869, 19822671, 29867216, 15361...   \n",
       "\n",
       "                                      from_retriever  \\\n",
       "0  [26501573, 27279928, 23429751, 23179372, 18926...   \n",
       "1  [1445915, 11826022, 18511909, 26243569, 153618...   \n",
       "\n",
       "                                         from_ranker  Precision  \n",
       "0  [23179372, 23184418, 26501573, 27279928, 23429...       0.10  \n",
       "1  [21589869, 26997282, 19822671, 12034751, 14459...       0.35  "
      ]
     },
     "execution_count": 16,
     "metadata": {},
     "output_type": "execute_result"
    }
   ],
   "source": [
    "df_rag = calculate_precision(df_rag, \"from_retriever\", \"relevant_passage_ids\", output_col='Precision', k=None)\n",
    "df_rag.head(2)"
   ]
  },
  {
   "cell_type": "code",
   "execution_count": 17,
   "id": "9c8c48b8",
   "metadata": {
    "ExecuteTime": {
     "end_time": "2024-09-06T12:20:55.983770Z",
     "start_time": "2024-09-06T12:20:51.849301Z"
    }
   },
   "outputs": [
    {
     "data": {
      "application/vnd.jupyter.widget-view+json": {
       "model_id": "cb2ed13925b441639f10b37f67174681",
       "version_major": 2,
       "version_minor": 0
      },
      "text/plain": [
       "  0%|          | 0/4012 [00:00<?, ?it/s]"
      ]
     },
     "metadata": {},
     "output_type": "display_data"
    },
    {
     "data": {
      "text/html": [
       "<div>\n",
       "<style scoped>\n",
       "    .dataframe tbody tr th:only-of-type {\n",
       "        vertical-align: middle;\n",
       "    }\n",
       "\n",
       "    .dataframe tbody tr th {\n",
       "        vertical-align: top;\n",
       "    }\n",
       "\n",
       "    .dataframe thead th {\n",
       "        text-align: right;\n",
       "    }\n",
       "</style>\n",
       "<table border=\"1\" class=\"dataframe\">\n",
       "  <thead>\n",
       "    <tr style=\"text-align: right;\">\n",
       "      <th></th>\n",
       "      <th>question</th>\n",
       "      <th>answer</th>\n",
       "      <th>id</th>\n",
       "      <th>relevant_passage_ids</th>\n",
       "      <th>from_retriever</th>\n",
       "      <th>from_ranker</th>\n",
       "      <th>Precision</th>\n",
       "      <th>Precision_sk</th>\n",
       "    </tr>\n",
       "  </thead>\n",
       "  <tbody>\n",
       "    <tr>\n",
       "      <th>0</th>\n",
       "      <td>What is the implication of histone lysine meth...</td>\n",
       "      <td>Aberrant patterns of H3K4, H3K9, and H3K27 his...</td>\n",
       "      <td>1682</td>\n",
       "      <td>[23179372, 19270706, 23184418]</td>\n",
       "      <td>[26501573, 27279928, 23429751, 23179372, 18926...</td>\n",
       "      <td>[23179372, 23184418, 26501573, 27279928, 23429...</td>\n",
       "      <td>0.10</td>\n",
       "      <td>0.10</td>\n",
       "    </tr>\n",
       "    <tr>\n",
       "      <th>1</th>\n",
       "      <td>What is the role of STAG1/STAG2 proteins in di...</td>\n",
       "      <td>STAG1/STAG2 proteins are tumour suppressor pro...</td>\n",
       "      <td>3722</td>\n",
       "      <td>[26997282, 21589869, 19822671, 29867216, 15361...</td>\n",
       "      <td>[1445915, 11826022, 18511909, 26243569, 153618...</td>\n",
       "      <td>[21589869, 26997282, 19822671, 12034751, 14459...</td>\n",
       "      <td>0.35</td>\n",
       "      <td>0.35</td>\n",
       "    </tr>\n",
       "  </tbody>\n",
       "</table>\n",
       "</div>"
      ],
      "text/plain": [
       "                                            question  \\\n",
       "0  What is the implication of histone lysine meth...   \n",
       "1  What is the role of STAG1/STAG2 proteins in di...   \n",
       "\n",
       "                                              answer    id  \\\n",
       "0  Aberrant patterns of H3K4, H3K9, and H3K27 his...  1682   \n",
       "1  STAG1/STAG2 proteins are tumour suppressor pro...  3722   \n",
       "\n",
       "                                relevant_passage_ids  \\\n",
       "0                     [23179372, 19270706, 23184418]   \n",
       "1  [26997282, 21589869, 19822671, 29867216, 15361...   \n",
       "\n",
       "                                      from_retriever  \\\n",
       "0  [26501573, 27279928, 23429751, 23179372, 18926...   \n",
       "1  [1445915, 11826022, 18511909, 26243569, 153618...   \n",
       "\n",
       "                                         from_ranker  Precision  Precision_sk  \n",
       "0  [23179372, 23184418, 26501573, 27279928, 23429...       0.10          0.10  \n",
       "1  [21589869, 26997282, 19822671, 12034751, 14459...       0.35          0.35  "
      ]
     },
     "execution_count": 17,
     "metadata": {},
     "output_type": "execute_result"
    }
   ],
   "source": [
    "df_rag = precision_sklearn(df_rag, \"from_retriever\", \"relevant_passage_ids\", output_col='Precision_sk', k=None)\n",
    "df_rag.head(2)"
   ]
  },
  {
   "cell_type": "code",
   "execution_count": 18,
   "id": "e895343a",
   "metadata": {
    "ExecuteTime": {
     "end_time": "2024-09-06T12:21:12.152045Z",
     "start_time": "2024-09-06T12:20:55.984771Z"
    }
   },
   "outputs": [
    {
     "data": {
      "application/vnd.jupyter.widget-view+json": {
       "model_id": "91088d70170745418eabbfd5114e6feb",
       "version_major": 2,
       "version_minor": 0
      },
      "text/plain": [
       "  0%|          | 0/4012 [00:00<?, ?it/s]"
      ]
     },
     "metadata": {},
     "output_type": "display_data"
    },
    {
     "name": "stdout",
     "output_type": "stream",
     "text": [
      "mean_precision_sklearn_20 = 0.355\n"
     ]
    },
    {
     "data": {
      "application/vnd.jupyter.widget-view+json": {
       "model_id": "b72386d258a14789981b1cfd655b1a29",
       "version_major": 2,
       "version_minor": 0
      },
      "text/plain": [
       "  0%|          | 0/4012 [00:00<?, ?it/s]"
      ]
     },
     "metadata": {},
     "output_type": "display_data"
    },
    {
     "name": "stdout",
     "output_type": "stream",
     "text": [
      "mean_precision_sklearn_10 = 0.356\n"
     ]
    },
    {
     "data": {
      "application/vnd.jupyter.widget-view+json": {
       "model_id": "4dd8dce27f554726af8f920f18eadfad",
       "version_major": 2,
       "version_minor": 0
      },
      "text/plain": [
       "  0%|          | 0/4012 [00:00<?, ?it/s]"
      ]
     },
     "metadata": {},
     "output_type": "display_data"
    },
    {
     "name": "stdout",
     "output_type": "stream",
     "text": [
      "mean_precision_sklearn_5 = 0.355\n"
     ]
    },
    {
     "data": {
      "application/vnd.jupyter.widget-view+json": {
       "model_id": "9d735e8c57244a498fa8439dad971bf6",
       "version_major": 2,
       "version_minor": 0
      },
      "text/plain": [
       "  0%|          | 0/4012 [00:00<?, ?it/s]"
      ]
     },
     "metadata": {},
     "output_type": "display_data"
    },
    {
     "name": "stdout",
     "output_type": "stream",
     "text": [
      "mean_precision_sklearn_3 = 0.36\n"
     ]
    },
    {
     "data": {
      "text/html": [
       "<div>\n",
       "<style scoped>\n",
       "    .dataframe tbody tr th:only-of-type {\n",
       "        vertical-align: middle;\n",
       "    }\n",
       "\n",
       "    .dataframe tbody tr th {\n",
       "        vertical-align: top;\n",
       "    }\n",
       "\n",
       "    .dataframe thead th {\n",
       "        text-align: right;\n",
       "    }\n",
       "</style>\n",
       "<table border=\"1\" class=\"dataframe\">\n",
       "  <thead>\n",
       "    <tr style=\"text-align: right;\">\n",
       "      <th></th>\n",
       "      <th>question</th>\n",
       "      <th>answer</th>\n",
       "      <th>id</th>\n",
       "      <th>relevant_passage_ids</th>\n",
       "      <th>from_retriever</th>\n",
       "      <th>from_ranker</th>\n",
       "      <th>Precision</th>\n",
       "      <th>Precision_sk</th>\n",
       "      <th>Precision_sk_20</th>\n",
       "      <th>Precision_sk_10</th>\n",
       "      <th>Precision_sk_5</th>\n",
       "      <th>Precision_sk_3</th>\n",
       "    </tr>\n",
       "  </thead>\n",
       "  <tbody>\n",
       "    <tr>\n",
       "      <th>0</th>\n",
       "      <td>What is the implication of histone lysine meth...</td>\n",
       "      <td>Aberrant patterns of H3K4, H3K9, and H3K27 his...</td>\n",
       "      <td>1682</td>\n",
       "      <td>[23179372, 19270706, 23184418]</td>\n",
       "      <td>[26501573, 27279928, 23429751, 23179372, 18926...</td>\n",
       "      <td>[23179372, 23184418, 26501573, 27279928, 23429...</td>\n",
       "      <td>0.10</td>\n",
       "      <td>0.10</td>\n",
       "      <td>0.10</td>\n",
       "      <td>0.1</td>\n",
       "      <td>0.2</td>\n",
       "      <td>0.0</td>\n",
       "    </tr>\n",
       "    <tr>\n",
       "      <th>1</th>\n",
       "      <td>What is the role of STAG1/STAG2 proteins in di...</td>\n",
       "      <td>STAG1/STAG2 proteins are tumour suppressor pro...</td>\n",
       "      <td>3722</td>\n",
       "      <td>[26997282, 21589869, 19822671, 29867216, 15361...</td>\n",
       "      <td>[1445915, 11826022, 18511909, 26243569, 153618...</td>\n",
       "      <td>[21589869, 26997282, 19822671, 12034751, 14459...</td>\n",
       "      <td>0.35</td>\n",
       "      <td>0.35</td>\n",
       "      <td>0.35</td>\n",
       "      <td>0.5</td>\n",
       "      <td>0.2</td>\n",
       "      <td>0.0</td>\n",
       "    </tr>\n",
       "  </tbody>\n",
       "</table>\n",
       "</div>"
      ],
      "text/plain": [
       "                                            question  \\\n",
       "0  What is the implication of histone lysine meth...   \n",
       "1  What is the role of STAG1/STAG2 proteins in di...   \n",
       "\n",
       "                                              answer    id  \\\n",
       "0  Aberrant patterns of H3K4, H3K9, and H3K27 his...  1682   \n",
       "1  STAG1/STAG2 proteins are tumour suppressor pro...  3722   \n",
       "\n",
       "                                relevant_passage_ids  \\\n",
       "0                     [23179372, 19270706, 23184418]   \n",
       "1  [26997282, 21589869, 19822671, 29867216, 15361...   \n",
       "\n",
       "                                      from_retriever  \\\n",
       "0  [26501573, 27279928, 23429751, 23179372, 18926...   \n",
       "1  [1445915, 11826022, 18511909, 26243569, 153618...   \n",
       "\n",
       "                                         from_ranker  Precision  Precision_sk  \\\n",
       "0  [23179372, 23184418, 26501573, 27279928, 23429...       0.10          0.10   \n",
       "1  [21589869, 26997282, 19822671, 12034751, 14459...       0.35          0.35   \n",
       "\n",
       "   Precision_sk_20  Precision_sk_10  Precision_sk_5  Precision_sk_3  \n",
       "0             0.10              0.1             0.2             0.0  \n",
       "1             0.35              0.5             0.2             0.0  "
      ]
     },
     "execution_count": 18,
     "metadata": {},
     "output_type": "execute_result"
    }
   ],
   "source": [
    "for k in [20, 10, 5, 3]:\n",
    "    df_rag = precision_sklearn(df_rag, \"from_retriever\", \"relevant_passage_ids\", output_col=f'Precision_sk_{k}', k=k)\n",
    "    print(f\"mean_precision_sklearn_{k} = {round(df_rag[f'Precision_sk_{k}'].mean(), 3)}\")\n",
    "df_rag.head(2)"
   ]
  },
  {
   "cell_type": "code",
   "execution_count": 19,
   "id": "e5d61e28",
   "metadata": {
    "ExecuteTime": {
     "end_time": "2024-09-06T12:21:12.343899Z",
     "start_time": "2024-09-06T12:21:12.153049Z"
    }
   },
   "outputs": [
    {
     "data": {
      "application/vnd.jupyter.widget-view+json": {
       "model_id": "f1b34ddad71a4da48d52af7da66f2c96",
       "version_major": 2,
       "version_minor": 0
      },
      "text/plain": [
       "  0%|          | 0/4012 [00:00<?, ?it/s]"
      ]
     },
     "metadata": {},
     "output_type": "display_data"
    },
    {
     "name": "stdout",
     "output_type": "stream",
     "text": [
      "mean_precision_20 = 0.355\n"
     ]
    },
    {
     "data": {
      "application/vnd.jupyter.widget-view+json": {
       "model_id": "0a0e83c81b21458ba37147cb161c9a1f",
       "version_major": 2,
       "version_minor": 0
      },
      "text/plain": [
       "  0%|          | 0/4012 [00:00<?, ?it/s]"
      ]
     },
     "metadata": {},
     "output_type": "display_data"
    },
    {
     "name": "stdout",
     "output_type": "stream",
     "text": [
      "mean_precision_10 = 0.356\n"
     ]
    },
    {
     "data": {
      "application/vnd.jupyter.widget-view+json": {
       "model_id": "bab702e50c4144b58c40c6b51b4a784e",
       "version_major": 2,
       "version_minor": 0
      },
      "text/plain": [
       "  0%|          | 0/4012 [00:00<?, ?it/s]"
      ]
     },
     "metadata": {},
     "output_type": "display_data"
    },
    {
     "name": "stdout",
     "output_type": "stream",
     "text": [
      "mean_precision_5 = 0.355\n"
     ]
    },
    {
     "data": {
      "application/vnd.jupyter.widget-view+json": {
       "model_id": "cf616890721c46f5b4a1548d5f69f767",
       "version_major": 2,
       "version_minor": 0
      },
      "text/plain": [
       "  0%|          | 0/4012 [00:00<?, ?it/s]"
      ]
     },
     "metadata": {},
     "output_type": "display_data"
    },
    {
     "name": "stdout",
     "output_type": "stream",
     "text": [
      "mean_precision_3 = 0.36\n"
     ]
    },
    {
     "data": {
      "text/html": [
       "<div>\n",
       "<style scoped>\n",
       "    .dataframe tbody tr th:only-of-type {\n",
       "        vertical-align: middle;\n",
       "    }\n",
       "\n",
       "    .dataframe tbody tr th {\n",
       "        vertical-align: top;\n",
       "    }\n",
       "\n",
       "    .dataframe thead th {\n",
       "        text-align: right;\n",
       "    }\n",
       "</style>\n",
       "<table border=\"1\" class=\"dataframe\">\n",
       "  <thead>\n",
       "    <tr style=\"text-align: right;\">\n",
       "      <th></th>\n",
       "      <th>question</th>\n",
       "      <th>answer</th>\n",
       "      <th>id</th>\n",
       "      <th>relevant_passage_ids</th>\n",
       "      <th>from_retriever</th>\n",
       "      <th>from_ranker</th>\n",
       "      <th>Precision</th>\n",
       "      <th>Precision_sk</th>\n",
       "      <th>Precision_sk_20</th>\n",
       "      <th>Precision_sk_10</th>\n",
       "      <th>Precision_sk_5</th>\n",
       "      <th>Precision_sk_3</th>\n",
       "      <th>Precision_20</th>\n",
       "      <th>Precision_10</th>\n",
       "      <th>Precision_5</th>\n",
       "      <th>Precision_3</th>\n",
       "    </tr>\n",
       "  </thead>\n",
       "  <tbody>\n",
       "    <tr>\n",
       "      <th>0</th>\n",
       "      <td>What is the implication of histone lysine meth...</td>\n",
       "      <td>Aberrant patterns of H3K4, H3K9, and H3K27 his...</td>\n",
       "      <td>1682</td>\n",
       "      <td>[23179372, 19270706, 23184418]</td>\n",
       "      <td>[26501573, 27279928, 23429751, 23179372, 18926...</td>\n",
       "      <td>[23179372, 23184418, 26501573, 27279928, 23429...</td>\n",
       "      <td>0.10</td>\n",
       "      <td>0.10</td>\n",
       "      <td>0.10</td>\n",
       "      <td>0.1</td>\n",
       "      <td>0.2</td>\n",
       "      <td>0.0</td>\n",
       "      <td>0.10</td>\n",
       "      <td>0.1</td>\n",
       "      <td>0.2</td>\n",
       "      <td>0.0</td>\n",
       "    </tr>\n",
       "    <tr>\n",
       "      <th>1</th>\n",
       "      <td>What is the role of STAG1/STAG2 proteins in di...</td>\n",
       "      <td>STAG1/STAG2 proteins are tumour suppressor pro...</td>\n",
       "      <td>3722</td>\n",
       "      <td>[26997282, 21589869, 19822671, 29867216, 15361...</td>\n",
       "      <td>[1445915, 11826022, 18511909, 26243569, 153618...</td>\n",
       "      <td>[21589869, 26997282, 19822671, 12034751, 14459...</td>\n",
       "      <td>0.35</td>\n",
       "      <td>0.35</td>\n",
       "      <td>0.35</td>\n",
       "      <td>0.5</td>\n",
       "      <td>0.2</td>\n",
       "      <td>0.0</td>\n",
       "      <td>0.35</td>\n",
       "      <td>0.5</td>\n",
       "      <td>0.2</td>\n",
       "      <td>0.0</td>\n",
       "    </tr>\n",
       "  </tbody>\n",
       "</table>\n",
       "</div>"
      ],
      "text/plain": [
       "                                            question  \\\n",
       "0  What is the implication of histone lysine meth...   \n",
       "1  What is the role of STAG1/STAG2 proteins in di...   \n",
       "\n",
       "                                              answer    id  \\\n",
       "0  Aberrant patterns of H3K4, H3K9, and H3K27 his...  1682   \n",
       "1  STAG1/STAG2 proteins are tumour suppressor pro...  3722   \n",
       "\n",
       "                                relevant_passage_ids  \\\n",
       "0                     [23179372, 19270706, 23184418]   \n",
       "1  [26997282, 21589869, 19822671, 29867216, 15361...   \n",
       "\n",
       "                                      from_retriever  \\\n",
       "0  [26501573, 27279928, 23429751, 23179372, 18926...   \n",
       "1  [1445915, 11826022, 18511909, 26243569, 153618...   \n",
       "\n",
       "                                         from_ranker  Precision  Precision_sk  \\\n",
       "0  [23179372, 23184418, 26501573, 27279928, 23429...       0.10          0.10   \n",
       "1  [21589869, 26997282, 19822671, 12034751, 14459...       0.35          0.35   \n",
       "\n",
       "   Precision_sk_20  Precision_sk_10  Precision_sk_5  Precision_sk_3  \\\n",
       "0             0.10              0.1             0.2             0.0   \n",
       "1             0.35              0.5             0.2             0.0   \n",
       "\n",
       "   Precision_20  Precision_10  Precision_5  Precision_3  \n",
       "0          0.10           0.1          0.2          0.0  \n",
       "1          0.35           0.5          0.2          0.0  "
      ]
     },
     "execution_count": 19,
     "metadata": {},
     "output_type": "execute_result"
    }
   ],
   "source": [
    "for k in [20, 10, 5, 3]:\n",
    "    df_rag = calculate_precision(df_rag, \"from_retriever\", \"relevant_passage_ids\", output_col=f'Precision_{k}', k=k)\n",
    "    print(f\"mean_precision_{k} = {round(df_rag[f'Precision_{k}'].mean(), 3)}\")\n",
    "df_rag.head(2)"
   ]
  },
  {
   "cell_type": "code",
   "execution_count": null,
   "id": "7b97454f",
   "metadata": {
    "ExecuteTime": {
     "start_time": "2024-09-06T12:20:14.484Z"
    }
   },
   "outputs": [
    {
     "data": {
      "application/vnd.jupyter.widget-view+json": {
       "model_id": "a2c1210958d248b3a019c210cdd0e3d6",
       "version_major": 2,
       "version_minor": 0
      },
      "text/plain": [
       "  0%|          | 0/4012 [00:00<?, ?it/s]"
      ]
     },
     "metadata": {},
     "output_type": "display_data"
    },
    {
     "name": "stdout",
     "output_type": "stream",
     "text": [
      "precision_sk_rank20 = 0.355\n"
     ]
    },
    {
     "data": {
      "application/vnd.jupyter.widget-view+json": {
       "model_id": "8b46e15da4714cd3a9fa6bebab982d91",
       "version_major": 2,
       "version_minor": 0
      },
      "text/plain": [
       "  0%|          | 0/4012 [00:00<?, ?it/s]"
      ]
     },
     "metadata": {},
     "output_type": "display_data"
    },
    {
     "name": "stdout",
     "output_type": "stream",
     "text": [
      "precision_sk_rank10 = 0.457\n"
     ]
    },
    {
     "data": {
      "application/vnd.jupyter.widget-view+json": {
       "model_id": "b8b9348be83a4db5980f61b712025a7c",
       "version_major": 2,
       "version_minor": 0
      },
      "text/plain": [
       "  0%|          | 0/4012 [00:00<?, ?it/s]"
      ]
     },
     "metadata": {},
     "output_type": "display_data"
    },
    {
     "name": "stdout",
     "output_type": "stream",
     "text": [
      "precision_sk_rank5 = 0.596\n"
     ]
    },
    {
     "data": {
      "application/vnd.jupyter.widget-view+json": {
       "model_id": "d7e72225893341b9914438a943b3c15c",
       "version_major": 2,
       "version_minor": 0
      },
      "text/plain": [
       "  0%|          | 0/4012 [00:00<?, ?it/s]"
      ]
     },
     "metadata": {},
     "output_type": "display_data"
    }
   ],
   "source": [
    "for k in [20, 10, 5, 3]:\n",
    "    df_rag = precision_sklearn(df_rag, \"from_ranker\", \"relevant_passage_ids\", output_col=f'Precision_rank{k}', k=k)\n",
    "    print(f\"precision_sk_rank{k} = {round(df_rag[f'Precision_rank{k}'].mean(), 3)}\")\n",
    "df_rag.head(2)"
   ]
  },
  {
   "cell_type": "code",
   "execution_count": null,
   "id": "71d7c9bb",
   "metadata": {
    "ExecuteTime": {
     "start_time": "2024-09-06T12:20:14.486Z"
    }
   },
   "outputs": [],
   "source": [
    "for k in [20, 10, 5, 3]:\n",
    "    df_rag = calculate_precision(df_rag, \"from_ranker\", \"relevant_passage_ids\", output_col=f'Precision_rank_{k}', k=k)\n",
    "    print(f\"precision_rank_{k} = {round(df_rag[f'Precision_rank_{k}'].mean(), 3)}\")\n",
    "df_rag.head(2)"
   ]
  },
  {
   "cell_type": "markdown",
   "id": "0458c128",
   "metadata": {},
   "source": [
    "## RECALL@K"
   ]
  },
  {
   "cell_type": "code",
   "execution_count": null,
   "id": "39fc2da4",
   "metadata": {
    "ExecuteTime": {
     "start_time": "2024-09-06T12:20:14.487Z"
    }
   },
   "outputs": [],
   "source": [
    "for k in [20, 10, 5, 3]:\n",
    "    df_rag = recall_sklearn(df_rag, \"from_ranker\", \"relevant_passage_ids\", output_col=f'recall_rank{k}', k=k)\n",
    "    print(f\"recall_rank{k} = {round(df_rag[f'recall_rank{k}'].mean(), 3)}\")"
   ]
  },
  {
   "cell_type": "code",
   "execution_count": null,
   "id": "c6c2eb9c",
   "metadata": {
    "ExecuteTime": {
     "start_time": "2024-09-06T12:20:14.488Z"
    }
   },
   "outputs": [],
   "source": [
    "for k in [20, 10, 5, 3]:\n",
    "    df_rag = calculate_recall(df_rag, \"from_ranker\", \"relevant_passage_ids\", output_col=f'recall_rank_{k}', k=k)\n",
    "    print(f\"recall_rank{k} = {round(df_rag[f'recall_rank_{k}'].mean(), 3)}\")"
   ]
  },
  {
   "cell_type": "markdown",
   "id": "e0d4a9af",
   "metadata": {
    "ExecuteTime": {
     "end_time": "2024-09-02T13:11:25.349989Z",
     "start_time": "2024-09-02T13:11:25.347213Z"
    }
   },
   "source": [
    "## F1@K"
   ]
  },
  {
   "cell_type": "code",
   "execution_count": null,
   "id": "a024afc2",
   "metadata": {
    "ExecuteTime": {
     "start_time": "2024-09-06T12:20:14.489Z"
    }
   },
   "outputs": [],
   "source": [
    "for k in [20, 10, 5, 3]:\n",
    "    df_rag = fbeta_sklearn(df_rag, \"from_retriever\", \"relevant_passage_ids\", output_col=f'f1@{k}', k=k)\n",
    "    print(f\"f1@{k} = {round(df_rag[f'f1@{k}'].mean(), 3)}\")"
   ]
  },
  {
   "cell_type": "markdown",
   "id": "081ff5fb",
   "metadata": {},
   "source": [
    "======================================================================================================================="
   ]
  },
  {
   "cell_type": "markdown",
   "id": "6e22c7cb",
   "metadata": {},
   "source": [
    "# МЕТРИКИ, УЧИТЫВАЮЩИЕ РАНЖИРОВАНИЕ"
   ]
  },
  {
   "cell_type": "markdown",
   "id": "d0afc1da",
   "metadata": {},
   "source": [
    "## MRR"
   ]
  },
  {
   "cell_type": "code",
   "execution_count": null,
   "id": "ba3439c3",
   "metadata": {
    "ExecuteTime": {
     "start_time": "2024-09-06T12:20:14.491Z"
    }
   },
   "outputs": [],
   "source": [
    "df_rag, mrr = calculate_mrr(df_rag, \"from_retriever\", \"relevant_passage_ids\", output_col=\"RR_ret\")"
   ]
  },
  {
   "cell_type": "code",
   "execution_count": null,
   "id": "38f448bc",
   "metadata": {
    "ExecuteTime": {
     "start_time": "2024-09-06T12:20:14.492Z"
    }
   },
   "outputs": [],
   "source": [
    "df_rag, mrr = calculate_mrr(df_rag, \"from_ranker\", \"relevant_passage_ids\", output_col=\"RR_ran\")"
   ]
  },
  {
   "cell_type": "markdown",
   "id": "03d40bdb",
   "metadata": {},
   "source": [
    "## AP/MAP"
   ]
  },
  {
   "cell_type": "code",
   "execution_count": null,
   "id": "16e8980a",
   "metadata": {
    "ExecuteTime": {
     "start_time": "2024-09-06T12:20:14.492Z"
    }
   },
   "outputs": [],
   "source": [
    "for k in [20, 10, 5, 3]:\n",
    "    df_rag, _map_1 = calculate_map(df_rag, \"from_retriever\", \"relevant_passage_ids\", output_col=f'AP@{k}', k=k)"
   ]
  },
  {
   "cell_type": "code",
   "execution_count": null,
   "id": "acb835ed",
   "metadata": {
    "ExecuteTime": {
     "start_time": "2024-09-06T12:20:14.493Z"
    }
   },
   "outputs": [],
   "source": [
    "for k in [20, 10, 5, 3]:\n",
    "    df_rag, _map_2 = calculate_map(df_rag, \"from_ranker\", \"relevant_passage_ids\", output_col=f'_AP@{k}', k=k)"
   ]
  },
  {
   "cell_type": "code",
   "execution_count": null,
   "id": "05245622",
   "metadata": {
    "ExecuteTime": {
     "start_time": "2024-09-06T12:20:14.494Z"
    }
   },
   "outputs": [],
   "source": [
    "for k in [20, 10, 5, 3]:\n",
    "    df_rag, _map_2 = map_sklearn(df_rag, \"from_ranker\", \"relevant_passage_ids\", output_col=f'_AP@{k}', k=k)"
   ]
  },
  {
   "cell_type": "markdown",
   "id": "90bd3807",
   "metadata": {},
   "source": [
    "## NDCG"
   ]
  },
  {
   "cell_type": "code",
   "execution_count": null,
   "id": "1f14b2a6",
   "metadata": {
    "ExecuteTime": {
     "start_time": "2024-09-06T12:20:14.494Z"
    }
   },
   "outputs": [],
   "source": [
    "# base"
   ]
  },
  {
   "cell_type": "code",
   "execution_count": null,
   "id": "bcfb45ba",
   "metadata": {
    "ExecuteTime": {
     "start_time": "2024-09-06T12:20:14.495Z"
    }
   },
   "outputs": [],
   "source": [
    "\n",
    "for k in [20, 10, 5, 3]:\n",
    "    df_rag, ndcg_1 = calculate_ndcg_at_k(df_rag, \"from_retriever\", \"relevant_passage_ids\", output_col=f'NDCG@{k}', k=k)"
   ]
  },
  {
   "cell_type": "code",
   "execution_count": null,
   "id": "c0248a20",
   "metadata": {
    "ExecuteTime": {
     "start_time": "2024-09-06T12:20:14.495Z"
    }
   },
   "outputs": [],
   "source": [
    "for k in [10, 5, 3]:\n",
    "    df_rag, _map = calculate_ndcg_at_k(df_rag, \"from_ranker\", \"relevant_passage_ids\", output_col=f'_NDCG@{k}', k=k)"
   ]
  },
  {
   "cell_type": "code",
   "execution_count": null,
   "id": "9fc30fde",
   "metadata": {
    "ExecuteTime": {
     "start_time": "2024-09-06T12:20:14.496Z"
    }
   },
   "outputs": [],
   "source": [
    "# sklearn метрика условно не применима - она учитывает степень релевантности документов, которых в RAG обычно нет, поэтому расчеты отличаются\n",
    "# от функции выше (она для бинарной релевантности)"
   ]
  },
  {
   "cell_type": "code",
   "execution_count": null,
   "id": "777d4862",
   "metadata": {
    "ExecuteTime": {
     "end_time": "2024-09-06T11:28:50.908689Z",
     "start_time": "2024-09-06T11:28:50.904375Z"
    }
   },
   "outputs": [],
   "source": []
  },
  {
   "cell_type": "code",
   "execution_count": null,
   "id": "5025c4f6",
   "metadata": {},
   "outputs": [],
   "source": []
  }
 ],
 "metadata": {
  "kernelspec": {
   "display_name": "Python 3 (ipykernel)",
   "language": "python",
   "name": "python3"
  },
  "language_info": {
   "codemirror_mode": {
    "name": "ipython",
    "version": 3
   },
   "file_extension": ".py",
   "mimetype": "text/x-python",
   "name": "python",
   "nbconvert_exporter": "python",
   "pygments_lexer": "ipython3",
   "version": "3.11.5"
  },
  "toc": {
   "base_numbering": 1,
   "nav_menu": {},
   "number_sections": true,
   "sideBar": true,
   "skip_h1_title": false,
   "title_cell": "Table of Contents",
   "title_sidebar": "Contents",
   "toc_cell": false,
   "toc_position": {},
   "toc_section_display": true,
   "toc_window_display": false
  },
  "varInspector": {
   "cols": {
    "lenName": 16,
    "lenType": 16,
    "lenVar": 40
   },
   "kernels_config": {
    "python": {
     "delete_cmd_postfix": "",
     "delete_cmd_prefix": "del ",
     "library": "var_list.py",
     "varRefreshCmd": "print(var_dic_list())"
    },
    "r": {
     "delete_cmd_postfix": ") ",
     "delete_cmd_prefix": "rm(",
     "library": "var_list.r",
     "varRefreshCmd": "cat(var_dic_list()) "
    }
   },
   "types_to_exclude": [
    "module",
    "function",
    "builtin_function_or_method",
    "instance",
    "_Feature"
   ],
   "window_display": false
  }
 },
 "nbformat": 4,
 "nbformat_minor": 5
}
