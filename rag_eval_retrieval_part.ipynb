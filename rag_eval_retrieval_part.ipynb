{
 "cells": [
  {
   "cell_type": "code",
   "execution_count": 1,
   "id": "c3851caa",
   "metadata": {
    "ExecuteTime": {
     "end_time": "2024-09-02T15:40:36.662399Z",
     "start_time": "2024-09-02T15:40:36.660403Z"
    }
   },
   "outputs": [],
   "source": [
    "# !pip install datasets\n",
    "# !pip install urllib3\n",
    "# !pip uninstall urllib3\n",
    "# !pip install --upgrade botocore\n",
    "# !pip install --upgrade datasets\n",
    "# !pip install -U datasets\n",
    "# !pip install python-terrier"
   ]
  },
  {
   "cell_type": "code",
   "execution_count": 2,
   "id": "d4c74cf7",
   "metadata": {
    "ExecuteTime": {
     "end_time": "2024-09-02T15:40:36.666613Z",
     "start_time": "2024-09-02T15:40:36.663403Z"
    }
   },
   "outputs": [],
   "source": [
    "# !python -m venv rag_eval"
   ]
  },
  {
   "cell_type": "markdown",
   "id": "541a0b10",
   "metadata": {},
   "source": [
    "## IMPORTS"
   ]
  },
  {
   "cell_type": "code",
   "execution_count": 3,
   "id": "9805e41e",
   "metadata": {
    "ExecuteTime": {
     "end_time": "2024-09-02T15:40:37.970351Z",
     "start_time": "2024-09-02T15:40:36.667616Z"
    }
   },
   "outputs": [],
   "source": [
    "from datasets import load_dataset\n",
    "from tqdm.auto import tqdm\n",
    "from utils.metrics_utils import *\n",
    "import numpy as np"
   ]
  },
  {
   "cell_type": "code",
   "execution_count": 4,
   "id": "399fc3db",
   "metadata": {
    "ExecuteTime": {
     "end_time": "2024-09-02T15:40:37.973766Z",
     "start_time": "2024-09-02T15:40:37.971356Z"
    }
   },
   "outputs": [],
   "source": [
    "tqdm.pandas()"
   ]
  },
  {
   "cell_type": "markdown",
   "id": "738a50b4",
   "metadata": {},
   "source": [
    "## dowload dataset"
   ]
  },
  {
   "cell_type": "code",
   "execution_count": 5,
   "id": "ee7afd18",
   "metadata": {
    "ExecuteTime": {
     "end_time": "2024-09-02T15:40:48.257497Z",
     "start_time": "2024-09-02T15:40:37.975487Z"
    }
   },
   "outputs": [],
   "source": [
    "# Загрузка конфигурации question-answer-passages\n",
    "qa_dataset = load_dataset(\"enelpol/rag-mini-bioasq\", \"question-answer-passages\")\n",
    "\n",
    "# Загрузка конфигурации text-corpus\n",
    "text_dataset = load_dataset(\"enelpol/rag-mini-bioasq\", \"text-corpus\")"
   ]
  },
  {
   "cell_type": "code",
   "execution_count": 6,
   "id": "b13b1410",
   "metadata": {
    "ExecuteTime": {
     "end_time": "2024-09-02T15:40:48.266678Z",
     "start_time": "2024-09-02T15:40:48.258502Z"
    }
   },
   "outputs": [],
   "source": [
    "df_rag = qa_dataset[\"train\"].to_pandas()"
   ]
  },
  {
   "cell_type": "code",
   "execution_count": 7,
   "id": "902dbdd4",
   "metadata": {
    "ExecuteTime": {
     "end_time": "2024-09-02T15:40:48.326042Z",
     "start_time": "2024-09-02T15:40:48.267681Z"
    }
   },
   "outputs": [],
   "source": [
    "indexed_passages = text_dataset[\"test\"].to_pandas()"
   ]
  },
  {
   "cell_type": "code",
   "execution_count": 8,
   "id": "9ed7bc5e",
   "metadata": {
    "ExecuteTime": {
     "end_time": "2024-09-02T15:40:48.337250Z",
     "start_time": "2024-09-02T15:40:48.327045Z"
    }
   },
   "outputs": [
    {
     "data": {
      "text/html": [
       "<div>\n",
       "<style scoped>\n",
       "    .dataframe tbody tr th:only-of-type {\n",
       "        vertical-align: middle;\n",
       "    }\n",
       "\n",
       "    .dataframe tbody tr th {\n",
       "        vertical-align: top;\n",
       "    }\n",
       "\n",
       "    .dataframe thead th {\n",
       "        text-align: right;\n",
       "    }\n",
       "</style>\n",
       "<table border=\"1\" class=\"dataframe\">\n",
       "  <thead>\n",
       "    <tr style=\"text-align: right;\">\n",
       "      <th></th>\n",
       "      <th>question</th>\n",
       "      <th>answer</th>\n",
       "      <th>id</th>\n",
       "      <th>relevant_passage_ids</th>\n",
       "    </tr>\n",
       "  </thead>\n",
       "  <tbody>\n",
       "    <tr>\n",
       "      <th>0</th>\n",
       "      <td>What is the implication of histone lysine meth...</td>\n",
       "      <td>Aberrant patterns of H3K4, H3K9, and H3K27 his...</td>\n",
       "      <td>1682</td>\n",
       "      <td>[23179372, 19270706, 23184418]</td>\n",
       "    </tr>\n",
       "    <tr>\n",
       "      <th>1</th>\n",
       "      <td>What is the role of STAG1/STAG2 proteins in di...</td>\n",
       "      <td>STAG1/STAG2 proteins are tumour suppressor pro...</td>\n",
       "      <td>3722</td>\n",
       "      <td>[26997282, 21589869, 19822671, 29867216, 15361...</td>\n",
       "    </tr>\n",
       "  </tbody>\n",
       "</table>\n",
       "</div>"
      ],
      "text/plain": [
       "                                            question  \\\n",
       "0  What is the implication of histone lysine meth...   \n",
       "1  What is the role of STAG1/STAG2 proteins in di...   \n",
       "\n",
       "                                              answer    id  \\\n",
       "0  Aberrant patterns of H3K4, H3K9, and H3K27 his...  1682   \n",
       "1  STAG1/STAG2 proteins are tumour suppressor pro...  3722   \n",
       "\n",
       "                                relevant_passage_ids  \n",
       "0                     [23179372, 19270706, 23184418]  \n",
       "1  [26997282, 21589869, 19822671, 29867216, 15361...  "
      ]
     },
     "metadata": {},
     "output_type": "display_data"
    },
    {
     "data": {
      "text/html": [
       "<div>\n",
       "<style scoped>\n",
       "    .dataframe tbody tr th:only-of-type {\n",
       "        vertical-align: middle;\n",
       "    }\n",
       "\n",
       "    .dataframe tbody tr th {\n",
       "        vertical-align: top;\n",
       "    }\n",
       "\n",
       "    .dataframe thead th {\n",
       "        text-align: right;\n",
       "    }\n",
       "</style>\n",
       "<table border=\"1\" class=\"dataframe\">\n",
       "  <thead>\n",
       "    <tr style=\"text-align: right;\">\n",
       "      <th></th>\n",
       "      <th>passage</th>\n",
       "      <th>id</th>\n",
       "    </tr>\n",
       "  </thead>\n",
       "  <tbody>\n",
       "    <tr>\n",
       "      <th>0</th>\n",
       "      <td>New data on viruses isolated from patients wit...</td>\n",
       "      <td>9797</td>\n",
       "    </tr>\n",
       "    <tr>\n",
       "      <th>1</th>\n",
       "      <td>We describe an improved method for detecting d...</td>\n",
       "      <td>11906</td>\n",
       "    </tr>\n",
       "  </tbody>\n",
       "</table>\n",
       "</div>"
      ],
      "text/plain": [
       "                                             passage     id\n",
       "0  New data on viruses isolated from patients wit...   9797\n",
       "1  We describe an improved method for detecting d...  11906"
      ]
     },
     "metadata": {},
     "output_type": "display_data"
    }
   ],
   "source": [
    "display(df_rag.head(2), indexed_passages.head(2))"
   ]
  },
  {
   "cell_type": "code",
   "execution_count": 9,
   "id": "0c499762",
   "metadata": {
    "ExecuteTime": {
     "end_time": "2024-09-02T15:40:48.343249Z",
     "start_time": "2024-09-02T15:40:48.339256Z"
    }
   },
   "outputs": [],
   "source": [
    "def generate_from_retriever(row, indexed_passages, prob=0.85, top_k=20):\n",
    "    \"\"\"\n",
    "    Создает столбец 'from_retriever', имитируя поиск и ранжирование.\n",
    "    \n",
    "    Параметры:\n",
    "    row - строка из DataFrame с колонками 'question', 'answer', 'id', 'relevant_passage_ids'.\n",
    "    indexed_passages - DataFrame с проиндексированными пассажами.\n",
    "    prob - вероятность добавления релевантного пассажа.\n",
    "    top_k - количество возвращаемых пассажей (топ-K).\n",
    "    \n",
    "    Возвращает:\n",
    "    Список из top_k документов (ID), который содержит релевантные документы с вероятностью 'prob' и остальные документы.\n",
    "    \"\"\"\n",
    "    relevant_passage_ids = row['relevant_passage_ids']\n",
    "    from_retriever = []\n",
    "\n",
    "    # Добавляем релевантные документы с заданной вероятностью\n",
    "    for passage_id in relevant_passage_ids:\n",
    "        if np.random.rand() <= prob:\n",
    "            from_retriever.append(passage_id)\n",
    "\n",
    "    # Добираем список до top_k случайными документами\n",
    "    if len(from_retriever) < top_k:\n",
    "        # Находим доступные документы, которые не в from_retriever\n",
    "        available_ids = set(indexed_passages['id']) - set(from_retriever)\n",
    "        additional_passages = list(np.random.choice(list(available_ids), size=(top_k - len(from_retriever)), replace=False))\n",
    "        from_retriever.extend(additional_passages)\n",
    "    \n",
    "    # Перемешиваем список для имитации реального поиска\n",
    "    np.random.shuffle(from_retriever)\n",
    "\n",
    "    return from_retriever"
   ]
  },
  {
   "cell_type": "code",
   "execution_count": 10,
   "id": "190741c3",
   "metadata": {
    "ExecuteTime": {
     "end_time": "2024-09-02T15:41:15.399431Z",
     "start_time": "2024-09-02T15:40:48.344253Z"
    }
   },
   "outputs": [
    {
     "data": {
      "application/vnd.jupyter.widget-view+json": {
       "model_id": "c808f3a953f941409b81b7615b44bc24",
       "version_major": 2,
       "version_minor": 0
      },
      "text/plain": [
       "  0%|          | 0/4012 [00:00<?, ?it/s]"
      ]
     },
     "metadata": {},
     "output_type": "display_data"
    }
   ],
   "source": [
    "df_rag['from_retriever'] = df_rag.progress_apply(generate_from_retriever, args=(indexed_passages,), axis=1)"
   ]
  },
  {
   "cell_type": "code",
   "execution_count": 11,
   "id": "d94fcf6d",
   "metadata": {
    "ExecuteTime": {
     "end_time": "2024-09-02T15:41:15.406463Z",
     "start_time": "2024-09-02T15:41:15.400436Z"
    }
   },
   "outputs": [
    {
     "data": {
      "text/html": [
       "<div>\n",
       "<style scoped>\n",
       "    .dataframe tbody tr th:only-of-type {\n",
       "        vertical-align: middle;\n",
       "    }\n",
       "\n",
       "    .dataframe tbody tr th {\n",
       "        vertical-align: top;\n",
       "    }\n",
       "\n",
       "    .dataframe thead th {\n",
       "        text-align: right;\n",
       "    }\n",
       "</style>\n",
       "<table border=\"1\" class=\"dataframe\">\n",
       "  <thead>\n",
       "    <tr style=\"text-align: right;\">\n",
       "      <th></th>\n",
       "      <th>question</th>\n",
       "      <th>answer</th>\n",
       "      <th>id</th>\n",
       "      <th>relevant_passage_ids</th>\n",
       "      <th>from_retriever</th>\n",
       "    </tr>\n",
       "  </thead>\n",
       "  <tbody>\n",
       "    <tr>\n",
       "      <th>0</th>\n",
       "      <td>What is the implication of histone lysine meth...</td>\n",
       "      <td>Aberrant patterns of H3K4, H3K9, and H3K27 his...</td>\n",
       "      <td>1682</td>\n",
       "      <td>[23179372, 19270706, 23184418]</td>\n",
       "      <td>[11973307, 21562564, 22959745, 24462468, 10037...</td>\n",
       "    </tr>\n",
       "    <tr>\n",
       "      <th>1</th>\n",
       "      <td>What is the role of STAG1/STAG2 proteins in di...</td>\n",
       "      <td>STAG1/STAG2 proteins are tumour suppressor pro...</td>\n",
       "      <td>3722</td>\n",
       "      <td>[26997282, 21589869, 19822671, 29867216, 15361...</td>\n",
       "      <td>[19822671, 16005652, 10881785, 23651670, 28430...</td>\n",
       "    </tr>\n",
       "  </tbody>\n",
       "</table>\n",
       "</div>"
      ],
      "text/plain": [
       "                                            question  \\\n",
       "0  What is the implication of histone lysine meth...   \n",
       "1  What is the role of STAG1/STAG2 proteins in di...   \n",
       "\n",
       "                                              answer    id  \\\n",
       "0  Aberrant patterns of H3K4, H3K9, and H3K27 his...  1682   \n",
       "1  STAG1/STAG2 proteins are tumour suppressor pro...  3722   \n",
       "\n",
       "                                relevant_passage_ids  \\\n",
       "0                     [23179372, 19270706, 23184418]   \n",
       "1  [26997282, 21589869, 19822671, 29867216, 15361...   \n",
       "\n",
       "                                      from_retriever  \n",
       "0  [11973307, 21562564, 22959745, 24462468, 10037...  \n",
       "1  [19822671, 16005652, 10881785, 23651670, 28430...  "
      ]
     },
     "execution_count": 11,
     "metadata": {},
     "output_type": "execute_result"
    }
   ],
   "source": [
    "df_rag.head(2)"
   ]
  },
  {
   "cell_type": "code",
   "execution_count": 12,
   "id": "e5b12df4",
   "metadata": {
    "ExecuteTime": {
     "end_time": "2024-09-02T15:41:15.411648Z",
     "start_time": "2024-09-02T15:41:15.407467Z"
    }
   },
   "outputs": [],
   "source": [
    "def generate_from_ranker(row, prob=0.8):\n",
    "    \"\"\"\n",
    "    Создает столбец 'from_ranker', имитируя ранжирование результатов поиска.\n",
    "    \n",
    "    Параметры:\n",
    "    row - строка из DataFrame с колонками 'from_retriever' и 'relevant_passage_ids'.\n",
    "    prob - базовая вероятность поднятия релевантного документа в топ списка.\n",
    "    \n",
    "    Возвращает:\n",
    "    Список документов (ID) с ранжированием, где релевантные документы поднимаются выше с увеличенной вероятностью.\n",
    "    \"\"\"\n",
    "    from_retriever = row['from_retriever']\n",
    "    relevant_passage_ids = set(row['relevant_passage_ids'])\n",
    "    \n",
    "    # Копируем список для ранжирования\n",
    "    from_ranker = from_retriever.copy()\n",
    "\n",
    "    # Проходимся по списку снизу вверх\n",
    "    for i in range(len(from_ranker) - 1, -1, -1):\n",
    "        if from_ranker[i] in relevant_passage_ids:\n",
    "            if np.random.rand() <= prob:\n",
    "                # Определяем вес для каждой позиции: чем выше позиция, тем выше вероятность\n",
    "                weights = np.array([1 / (j + 1) for j in range(i + 1)])  # Инвертированное линейное распределение\n",
    "                weights = weights / weights.sum()  # Нормализация весов для получения вероятностей\n",
    "\n",
    "                # Выбираем новую позицию на основе весов\n",
    "                new_position = np.random.choice(range(i + 1), p=weights)\n",
    "                \n",
    "                # Перемещаем документ в новый индекс\n",
    "                from_ranker.insert(new_position, from_ranker.pop(i))\n",
    "    \n",
    "    return from_ranker"
   ]
  },
  {
   "cell_type": "code",
   "execution_count": 13,
   "id": "0e7d9610",
   "metadata": {
    "ExecuteTime": {
     "end_time": "2024-09-02T15:41:16.204763Z",
     "start_time": "2024-09-02T15:41:15.412652Z"
    }
   },
   "outputs": [
    {
     "data": {
      "application/vnd.jupyter.widget-view+json": {
       "model_id": "f7a6d8d7aff349ae9e20f2cfbb54892f",
       "version_major": 2,
       "version_minor": 0
      },
      "text/plain": [
       "  0%|          | 0/4012 [00:00<?, ?it/s]"
      ]
     },
     "metadata": {},
     "output_type": "display_data"
    }
   ],
   "source": [
    "df_rag['from_ranker'] = df_rag.progress_apply(generate_from_ranker, axis=1)"
   ]
  },
  {
   "cell_type": "code",
   "execution_count": 14,
   "id": "afc3774b",
   "metadata": {
    "ExecuteTime": {
     "end_time": "2024-09-02T15:41:16.212392Z",
     "start_time": "2024-09-02T15:41:16.205768Z"
    }
   },
   "outputs": [
    {
     "data": {
      "text/html": [
       "<div>\n",
       "<style scoped>\n",
       "    .dataframe tbody tr th:only-of-type {\n",
       "        vertical-align: middle;\n",
       "    }\n",
       "\n",
       "    .dataframe tbody tr th {\n",
       "        vertical-align: top;\n",
       "    }\n",
       "\n",
       "    .dataframe thead th {\n",
       "        text-align: right;\n",
       "    }\n",
       "</style>\n",
       "<table border=\"1\" class=\"dataframe\">\n",
       "  <thead>\n",
       "    <tr style=\"text-align: right;\">\n",
       "      <th></th>\n",
       "      <th>question</th>\n",
       "      <th>answer</th>\n",
       "      <th>id</th>\n",
       "      <th>relevant_passage_ids</th>\n",
       "      <th>from_retriever</th>\n",
       "      <th>from_ranker</th>\n",
       "    </tr>\n",
       "  </thead>\n",
       "  <tbody>\n",
       "    <tr>\n",
       "      <th>0</th>\n",
       "      <td>What is the implication of histone lysine meth...</td>\n",
       "      <td>Aberrant patterns of H3K4, H3K9, and H3K27 his...</td>\n",
       "      <td>1682</td>\n",
       "      <td>[23179372, 19270706, 23184418]</td>\n",
       "      <td>[11973307, 21562564, 22959745, 24462468, 10037...</td>\n",
       "      <td>[23184418, 11973307, 21562564, 22959745, 24462...</td>\n",
       "    </tr>\n",
       "    <tr>\n",
       "      <th>1</th>\n",
       "      <td>What is the role of STAG1/STAG2 proteins in di...</td>\n",
       "      <td>STAG1/STAG2 proteins are tumour suppressor pro...</td>\n",
       "      <td>3722</td>\n",
       "      <td>[26997282, 21589869, 19822671, 29867216, 15361...</td>\n",
       "      <td>[19822671, 16005652, 10881785, 23651670, 28430...</td>\n",
       "      <td>[27298259, 21589869, 19822671, 26997282, 16005...</td>\n",
       "    </tr>\n",
       "  </tbody>\n",
       "</table>\n",
       "</div>"
      ],
      "text/plain": [
       "                                            question  \\\n",
       "0  What is the implication of histone lysine meth...   \n",
       "1  What is the role of STAG1/STAG2 proteins in di...   \n",
       "\n",
       "                                              answer    id  \\\n",
       "0  Aberrant patterns of H3K4, H3K9, and H3K27 his...  1682   \n",
       "1  STAG1/STAG2 proteins are tumour suppressor pro...  3722   \n",
       "\n",
       "                                relevant_passage_ids  \\\n",
       "0                     [23179372, 19270706, 23184418]   \n",
       "1  [26997282, 21589869, 19822671, 29867216, 15361...   \n",
       "\n",
       "                                      from_retriever  \\\n",
       "0  [11973307, 21562564, 22959745, 24462468, 10037...   \n",
       "1  [19822671, 16005652, 10881785, 23651670, 28430...   \n",
       "\n",
       "                                         from_ranker  \n",
       "0  [23184418, 11973307, 21562564, 22959745, 24462...  \n",
       "1  [27298259, 21589869, 19822671, 26997282, 16005...  "
      ]
     },
     "execution_count": 14,
     "metadata": {},
     "output_type": "execute_result"
    }
   ],
   "source": [
    "df_rag.head(2)"
   ]
  },
  {
   "cell_type": "markdown",
   "id": "a0e159f7",
   "metadata": {
    "ExecuteTime": {
     "end_time": "2024-08-28T14:23:49.217141Z",
     "start_time": "2024-08-28T14:23:49.213277Z"
    }
   },
   "source": [
    "============================================================================================================="
   ]
  },
  {
   "cell_type": "markdown",
   "id": "38bbe610",
   "metadata": {},
   "source": [
    "# МЕТРИКИ БЕЗ УЧЕТА РАНЖИРОВАНИЯ"
   ]
  },
  {
   "cell_type": "markdown",
   "id": "ffffa3ac",
   "metadata": {},
   "source": [
    "## PRECISION@K"
   ]
  },
  {
   "cell_type": "code",
   "execution_count": 15,
   "id": "c1ef0dea",
   "metadata": {
    "ExecuteTime": {
     "end_time": "2024-09-02T15:41:16.269874Z",
     "start_time": "2024-09-02T15:41:16.213399Z"
    }
   },
   "outputs": [
    {
     "data": {
      "application/vnd.jupyter.widget-view+json": {
       "model_id": "94be2361de7243e6858fed7c94bcd909",
       "version_major": 2,
       "version_minor": 0
      },
      "text/plain": [
       "  0%|          | 0/4012 [00:00<?, ?it/s]"
      ]
     },
     "metadata": {},
     "output_type": "display_data"
    },
    {
     "data": {
      "text/html": [
       "<div>\n",
       "<style scoped>\n",
       "    .dataframe tbody tr th:only-of-type {\n",
       "        vertical-align: middle;\n",
       "    }\n",
       "\n",
       "    .dataframe tbody tr th {\n",
       "        vertical-align: top;\n",
       "    }\n",
       "\n",
       "    .dataframe thead th {\n",
       "        text-align: right;\n",
       "    }\n",
       "</style>\n",
       "<table border=\"1\" class=\"dataframe\">\n",
       "  <thead>\n",
       "    <tr style=\"text-align: right;\">\n",
       "      <th></th>\n",
       "      <th>question</th>\n",
       "      <th>answer</th>\n",
       "      <th>id</th>\n",
       "      <th>relevant_passage_ids</th>\n",
       "      <th>from_retriever</th>\n",
       "      <th>from_ranker</th>\n",
       "      <th>Precision</th>\n",
       "    </tr>\n",
       "  </thead>\n",
       "  <tbody>\n",
       "    <tr>\n",
       "      <th>0</th>\n",
       "      <td>What is the implication of histone lysine meth...</td>\n",
       "      <td>Aberrant patterns of H3K4, H3K9, and H3K27 his...</td>\n",
       "      <td>1682</td>\n",
       "      <td>[23179372, 19270706, 23184418]</td>\n",
       "      <td>[11973307, 21562564, 22959745, 24462468, 10037...</td>\n",
       "      <td>[23184418, 11973307, 21562564, 22959745, 24462...</td>\n",
       "      <td>0.15</td>\n",
       "    </tr>\n",
       "    <tr>\n",
       "      <th>1</th>\n",
       "      <td>What is the role of STAG1/STAG2 proteins in di...</td>\n",
       "      <td>STAG1/STAG2 proteins are tumour suppressor pro...</td>\n",
       "      <td>3722</td>\n",
       "      <td>[26997282, 21589869, 19822671, 29867216, 15361...</td>\n",
       "      <td>[19822671, 16005652, 10881785, 23651670, 28430...</td>\n",
       "      <td>[27298259, 21589869, 19822671, 26997282, 16005...</td>\n",
       "      <td>0.40</td>\n",
       "    </tr>\n",
       "  </tbody>\n",
       "</table>\n",
       "</div>"
      ],
      "text/plain": [
       "                                            question  \\\n",
       "0  What is the implication of histone lysine meth...   \n",
       "1  What is the role of STAG1/STAG2 proteins in di...   \n",
       "\n",
       "                                              answer    id  \\\n",
       "0  Aberrant patterns of H3K4, H3K9, and H3K27 his...  1682   \n",
       "1  STAG1/STAG2 proteins are tumour suppressor pro...  3722   \n",
       "\n",
       "                                relevant_passage_ids  \\\n",
       "0                     [23179372, 19270706, 23184418]   \n",
       "1  [26997282, 21589869, 19822671, 29867216, 15361...   \n",
       "\n",
       "                                      from_retriever  \\\n",
       "0  [11973307, 21562564, 22959745, 24462468, 10037...   \n",
       "1  [19822671, 16005652, 10881785, 23651670, 28430...   \n",
       "\n",
       "                                         from_ranker  Precision  \n",
       "0  [23184418, 11973307, 21562564, 22959745, 24462...       0.15  \n",
       "1  [27298259, 21589869, 19822671, 26997282, 16005...       0.40  "
      ]
     },
     "execution_count": 15,
     "metadata": {},
     "output_type": "execute_result"
    }
   ],
   "source": [
    "df_rag = calculate_precision(df_rag, \"from_retriever\", \"relevant_passage_ids\", output_col='Precision', k=None)\n",
    "df_rag.head(2)"
   ]
  },
  {
   "cell_type": "code",
   "execution_count": 16,
   "id": "9c8c48b8",
   "metadata": {
    "ExecuteTime": {
     "end_time": "2024-09-02T15:41:20.148670Z",
     "start_time": "2024-09-02T15:41:16.270878Z"
    }
   },
   "outputs": [
    {
     "data": {
      "application/vnd.jupyter.widget-view+json": {
       "model_id": "be9456ca068b46399acc7bcb64b0d9f4",
       "version_major": 2,
       "version_minor": 0
      },
      "text/plain": [
       "  0%|          | 0/4012 [00:00<?, ?it/s]"
      ]
     },
     "metadata": {},
     "output_type": "display_data"
    },
    {
     "data": {
      "text/html": [
       "<div>\n",
       "<style scoped>\n",
       "    .dataframe tbody tr th:only-of-type {\n",
       "        vertical-align: middle;\n",
       "    }\n",
       "\n",
       "    .dataframe tbody tr th {\n",
       "        vertical-align: top;\n",
       "    }\n",
       "\n",
       "    .dataframe thead th {\n",
       "        text-align: right;\n",
       "    }\n",
       "</style>\n",
       "<table border=\"1\" class=\"dataframe\">\n",
       "  <thead>\n",
       "    <tr style=\"text-align: right;\">\n",
       "      <th></th>\n",
       "      <th>question</th>\n",
       "      <th>answer</th>\n",
       "      <th>id</th>\n",
       "      <th>relevant_passage_ids</th>\n",
       "      <th>from_retriever</th>\n",
       "      <th>from_ranker</th>\n",
       "      <th>Precision</th>\n",
       "      <th>Precision_sk</th>\n",
       "    </tr>\n",
       "  </thead>\n",
       "  <tbody>\n",
       "    <tr>\n",
       "      <th>0</th>\n",
       "      <td>What is the implication of histone lysine meth...</td>\n",
       "      <td>Aberrant patterns of H3K4, H3K9, and H3K27 his...</td>\n",
       "      <td>1682</td>\n",
       "      <td>[23179372, 19270706, 23184418]</td>\n",
       "      <td>[11973307, 21562564, 22959745, 24462468, 10037...</td>\n",
       "      <td>[23184418, 11973307, 21562564, 22959745, 24462...</td>\n",
       "      <td>0.15</td>\n",
       "      <td>0.15</td>\n",
       "    </tr>\n",
       "    <tr>\n",
       "      <th>1</th>\n",
       "      <td>What is the role of STAG1/STAG2 proteins in di...</td>\n",
       "      <td>STAG1/STAG2 proteins are tumour suppressor pro...</td>\n",
       "      <td>3722</td>\n",
       "      <td>[26997282, 21589869, 19822671, 29867216, 15361...</td>\n",
       "      <td>[19822671, 16005652, 10881785, 23651670, 28430...</td>\n",
       "      <td>[27298259, 21589869, 19822671, 26997282, 16005...</td>\n",
       "      <td>0.40</td>\n",
       "      <td>0.40</td>\n",
       "    </tr>\n",
       "  </tbody>\n",
       "</table>\n",
       "</div>"
      ],
      "text/plain": [
       "                                            question  \\\n",
       "0  What is the implication of histone lysine meth...   \n",
       "1  What is the role of STAG1/STAG2 proteins in di...   \n",
       "\n",
       "                                              answer    id  \\\n",
       "0  Aberrant patterns of H3K4, H3K9, and H3K27 his...  1682   \n",
       "1  STAG1/STAG2 proteins are tumour suppressor pro...  3722   \n",
       "\n",
       "                                relevant_passage_ids  \\\n",
       "0                     [23179372, 19270706, 23184418]   \n",
       "1  [26997282, 21589869, 19822671, 29867216, 15361...   \n",
       "\n",
       "                                      from_retriever  \\\n",
       "0  [11973307, 21562564, 22959745, 24462468, 10037...   \n",
       "1  [19822671, 16005652, 10881785, 23651670, 28430...   \n",
       "\n",
       "                                         from_ranker  Precision  Precision_sk  \n",
       "0  [23184418, 11973307, 21562564, 22959745, 24462...       0.15          0.15  \n",
       "1  [27298259, 21589869, 19822671, 26997282, 16005...       0.40          0.40  "
      ]
     },
     "execution_count": 16,
     "metadata": {},
     "output_type": "execute_result"
    }
   ],
   "source": [
    "df_rag = precision_sklearn(df_rag, \"from_retriever\", \"relevant_passage_ids\", output_col='Precision_sk', k=None)\n",
    "df_rag.head(2)"
   ]
  },
  {
   "cell_type": "code",
   "execution_count": 17,
   "id": "be060b00",
   "metadata": {
    "ExecuteTime": {
     "end_time": "2024-09-02T15:41:20.153185Z",
     "start_time": "2024-09-02T15:41:20.149674Z"
    }
   },
   "outputs": [
    {
     "data": {
      "text/plain": [
       "0.356"
      ]
     },
     "execution_count": 17,
     "metadata": {},
     "output_type": "execute_result"
    }
   ],
   "source": [
    "df_rag['Precision'].mean().round(3)"
   ]
  },
  {
   "cell_type": "code",
   "execution_count": 18,
   "id": "28b5247d",
   "metadata": {
    "ExecuteTime": {
     "end_time": "2024-09-02T15:41:20.157132Z",
     "start_time": "2024-09-02T15:41:20.154187Z"
    }
   },
   "outputs": [
    {
     "data": {
      "text/plain": [
       "0.356"
      ]
     },
     "execution_count": 18,
     "metadata": {},
     "output_type": "execute_result"
    }
   ],
   "source": [
    "df_rag['Precision_sk'].mean().round(3)"
   ]
  },
  {
   "cell_type": "code",
   "execution_count": 19,
   "id": "e895343a",
   "metadata": {
    "ExecuteTime": {
     "end_time": "2024-09-02T15:41:36.010053Z",
     "start_time": "2024-09-02T15:41:20.157132Z"
    }
   },
   "outputs": [
    {
     "data": {
      "application/vnd.jupyter.widget-view+json": {
       "model_id": "4dc4fcbe7be64c3590d0971e114aeefa",
       "version_major": 2,
       "version_minor": 0
      },
      "text/plain": [
       "  0%|          | 0/4012 [00:00<?, ?it/s]"
      ]
     },
     "metadata": {},
     "output_type": "display_data"
    },
    {
     "data": {
      "application/vnd.jupyter.widget-view+json": {
       "model_id": "8ce55f095c49496eaff36fd67df13e64",
       "version_major": 2,
       "version_minor": 0
      },
      "text/plain": [
       "  0%|          | 0/4012 [00:00<?, ?it/s]"
      ]
     },
     "metadata": {},
     "output_type": "display_data"
    },
    {
     "data": {
      "application/vnd.jupyter.widget-view+json": {
       "model_id": "2dbe1c2891cf4b78a6ee87843173cfc1",
       "version_major": 2,
       "version_minor": 0
      },
      "text/plain": [
       "  0%|          | 0/4012 [00:00<?, ?it/s]"
      ]
     },
     "metadata": {},
     "output_type": "display_data"
    },
    {
     "data": {
      "application/vnd.jupyter.widget-view+json": {
       "model_id": "2b6255f51e4349e0833fc8943789ac10",
       "version_major": 2,
       "version_minor": 0
      },
      "text/plain": [
       "  0%|          | 0/4012 [00:00<?, ?it/s]"
      ]
     },
     "metadata": {},
     "output_type": "display_data"
    },
    {
     "data": {
      "text/html": [
       "<div>\n",
       "<style scoped>\n",
       "    .dataframe tbody tr th:only-of-type {\n",
       "        vertical-align: middle;\n",
       "    }\n",
       "\n",
       "    .dataframe tbody tr th {\n",
       "        vertical-align: top;\n",
       "    }\n",
       "\n",
       "    .dataframe thead th {\n",
       "        text-align: right;\n",
       "    }\n",
       "</style>\n",
       "<table border=\"1\" class=\"dataframe\">\n",
       "  <thead>\n",
       "    <tr style=\"text-align: right;\">\n",
       "      <th></th>\n",
       "      <th>question</th>\n",
       "      <th>answer</th>\n",
       "      <th>id</th>\n",
       "      <th>relevant_passage_ids</th>\n",
       "      <th>from_retriever</th>\n",
       "      <th>from_ranker</th>\n",
       "      <th>Precision</th>\n",
       "      <th>Precision_sk</th>\n",
       "      <th>Precision_sk_20</th>\n",
       "      <th>Precision_sk_10</th>\n",
       "      <th>Precision_sk_5</th>\n",
       "      <th>Precision_sk_3</th>\n",
       "    </tr>\n",
       "  </thead>\n",
       "  <tbody>\n",
       "    <tr>\n",
       "      <th>0</th>\n",
       "      <td>What is the implication of histone lysine meth...</td>\n",
       "      <td>Aberrant patterns of H3K4, H3K9, and H3K27 his...</td>\n",
       "      <td>1682</td>\n",
       "      <td>[23179372, 19270706, 23184418]</td>\n",
       "      <td>[11973307, 21562564, 22959745, 24462468, 10037...</td>\n",
       "      <td>[23184418, 11973307, 21562564, 22959745, 24462...</td>\n",
       "      <td>0.15</td>\n",
       "      <td>0.15</td>\n",
       "      <td>0.15</td>\n",
       "      <td>0.1</td>\n",
       "      <td>0.0</td>\n",
       "      <td>0.000000</td>\n",
       "    </tr>\n",
       "    <tr>\n",
       "      <th>1</th>\n",
       "      <td>What is the role of STAG1/STAG2 proteins in di...</td>\n",
       "      <td>STAG1/STAG2 proteins are tumour suppressor pro...</td>\n",
       "      <td>3722</td>\n",
       "      <td>[26997282, 21589869, 19822671, 29867216, 15361...</td>\n",
       "      <td>[19822671, 16005652, 10881785, 23651670, 28430...</td>\n",
       "      <td>[27298259, 21589869, 19822671, 26997282, 16005...</td>\n",
       "      <td>0.40</td>\n",
       "      <td>0.40</td>\n",
       "      <td>0.40</td>\n",
       "      <td>0.3</td>\n",
       "      <td>0.4</td>\n",
       "      <td>0.333333</td>\n",
       "    </tr>\n",
       "  </tbody>\n",
       "</table>\n",
       "</div>"
      ],
      "text/plain": [
       "                                            question  \\\n",
       "0  What is the implication of histone lysine meth...   \n",
       "1  What is the role of STAG1/STAG2 proteins in di...   \n",
       "\n",
       "                                              answer    id  \\\n",
       "0  Aberrant patterns of H3K4, H3K9, and H3K27 his...  1682   \n",
       "1  STAG1/STAG2 proteins are tumour suppressor pro...  3722   \n",
       "\n",
       "                                relevant_passage_ids  \\\n",
       "0                     [23179372, 19270706, 23184418]   \n",
       "1  [26997282, 21589869, 19822671, 29867216, 15361...   \n",
       "\n",
       "                                      from_retriever  \\\n",
       "0  [11973307, 21562564, 22959745, 24462468, 10037...   \n",
       "1  [19822671, 16005652, 10881785, 23651670, 28430...   \n",
       "\n",
       "                                         from_ranker  Precision  Precision_sk  \\\n",
       "0  [23184418, 11973307, 21562564, 22959745, 24462...       0.15          0.15   \n",
       "1  [27298259, 21589869, 19822671, 26997282, 16005...       0.40          0.40   \n",
       "\n",
       "   Precision_sk_20  Precision_sk_10  Precision_sk_5  Precision_sk_3  \n",
       "0             0.15              0.1             0.0        0.000000  \n",
       "1             0.40              0.3             0.4        0.333333  "
      ]
     },
     "execution_count": 19,
     "metadata": {},
     "output_type": "execute_result"
    }
   ],
   "source": [
    "for k in [20, 10, 5, 3]:\n",
    "    df_rag = precision_sklearn(df_rag, \"from_retriever\", \"relevant_passage_ids\", output_col=f'Precision_sk_{k}', k=k)\n",
    "df_rag.head(2)"
   ]
  },
  {
   "cell_type": "code",
   "execution_count": 20,
   "id": "b1b94f58",
   "metadata": {
    "ExecuteTime": {
     "end_time": "2024-09-02T15:41:36.016624Z",
     "start_time": "2024-09-02T15:41:36.012055Z"
    }
   },
   "outputs": [
    {
     "name": "stdout",
     "output_type": "stream",
     "text": [
      "precision_sk_20 = 0.356\n",
      "precision_sk_10 = 0.356\n",
      "precision_sk_5 = 0.354\n",
      "precision_sk_3 = 0.353\n"
     ]
    }
   ],
   "source": [
    "for k in [20, 10, 5, 3]:\n",
    "    print(f\"precision_sk_{k} = {df_rag[f'Precision_sk_{k}'].mean().round(3)}\")"
   ]
  },
  {
   "cell_type": "code",
   "execution_count": 21,
   "id": "7b97454f",
   "metadata": {
    "ExecuteTime": {
     "end_time": "2024-09-02T15:41:51.830464Z",
     "start_time": "2024-09-02T15:41:36.017627Z"
    }
   },
   "outputs": [
    {
     "data": {
      "application/vnd.jupyter.widget-view+json": {
       "model_id": "a262a3dc4a1b488e913c2c7ccdea2293",
       "version_major": 2,
       "version_minor": 0
      },
      "text/plain": [
       "  0%|          | 0/4012 [00:00<?, ?it/s]"
      ]
     },
     "metadata": {},
     "output_type": "display_data"
    },
    {
     "data": {
      "application/vnd.jupyter.widget-view+json": {
       "model_id": "be6bb8cfb85343f3a84c582301aa1b98",
       "version_major": 2,
       "version_minor": 0
      },
      "text/plain": [
       "  0%|          | 0/4012 [00:00<?, ?it/s]"
      ]
     },
     "metadata": {},
     "output_type": "display_data"
    },
    {
     "data": {
      "application/vnd.jupyter.widget-view+json": {
       "model_id": "9c82935b0a2a4d5482d23bbbb95b3ba8",
       "version_major": 2,
       "version_minor": 0
      },
      "text/plain": [
       "  0%|          | 0/4012 [00:00<?, ?it/s]"
      ]
     },
     "metadata": {},
     "output_type": "display_data"
    },
    {
     "data": {
      "application/vnd.jupyter.widget-view+json": {
       "model_id": "5e2642d277634be689ea0231f9ba9b00",
       "version_major": 2,
       "version_minor": 0
      },
      "text/plain": [
       "  0%|          | 0/4012 [00:00<?, ?it/s]"
      ]
     },
     "metadata": {},
     "output_type": "display_data"
    },
    {
     "data": {
      "text/html": [
       "<div>\n",
       "<style scoped>\n",
       "    .dataframe tbody tr th:only-of-type {\n",
       "        vertical-align: middle;\n",
       "    }\n",
       "\n",
       "    .dataframe tbody tr th {\n",
       "        vertical-align: top;\n",
       "    }\n",
       "\n",
       "    .dataframe thead th {\n",
       "        text-align: right;\n",
       "    }\n",
       "</style>\n",
       "<table border=\"1\" class=\"dataframe\">\n",
       "  <thead>\n",
       "    <tr style=\"text-align: right;\">\n",
       "      <th></th>\n",
       "      <th>question</th>\n",
       "      <th>answer</th>\n",
       "      <th>id</th>\n",
       "      <th>relevant_passage_ids</th>\n",
       "      <th>from_retriever</th>\n",
       "      <th>from_ranker</th>\n",
       "      <th>Precision</th>\n",
       "      <th>Precision_sk</th>\n",
       "      <th>Precision_sk_20</th>\n",
       "      <th>Precision_sk_10</th>\n",
       "      <th>Precision_sk_5</th>\n",
       "      <th>Precision_sk_3</th>\n",
       "      <th>Precision_rank20</th>\n",
       "      <th>Precision_rank10</th>\n",
       "      <th>Precision_rank5</th>\n",
       "      <th>Precision_rank3</th>\n",
       "    </tr>\n",
       "  </thead>\n",
       "  <tbody>\n",
       "    <tr>\n",
       "      <th>0</th>\n",
       "      <td>What is the implication of histone lysine meth...</td>\n",
       "      <td>Aberrant patterns of H3K4, H3K9, and H3K27 his...</td>\n",
       "      <td>1682</td>\n",
       "      <td>[23179372, 19270706, 23184418]</td>\n",
       "      <td>[11973307, 21562564, 22959745, 24462468, 10037...</td>\n",
       "      <td>[23184418, 11973307, 21562564, 22959745, 24462...</td>\n",
       "      <td>0.15</td>\n",
       "      <td>0.15</td>\n",
       "      <td>0.15</td>\n",
       "      <td>0.1</td>\n",
       "      <td>0.0</td>\n",
       "      <td>0.000000</td>\n",
       "      <td>0.15</td>\n",
       "      <td>0.2</td>\n",
       "      <td>0.2</td>\n",
       "      <td>0.333333</td>\n",
       "    </tr>\n",
       "    <tr>\n",
       "      <th>1</th>\n",
       "      <td>What is the role of STAG1/STAG2 proteins in di...</td>\n",
       "      <td>STAG1/STAG2 proteins are tumour suppressor pro...</td>\n",
       "      <td>3722</td>\n",
       "      <td>[26997282, 21589869, 19822671, 29867216, 15361...</td>\n",
       "      <td>[19822671, 16005652, 10881785, 23651670, 28430...</td>\n",
       "      <td>[27298259, 21589869, 19822671, 26997282, 16005...</td>\n",
       "      <td>0.40</td>\n",
       "      <td>0.40</td>\n",
       "      <td>0.40</td>\n",
       "      <td>0.3</td>\n",
       "      <td>0.4</td>\n",
       "      <td>0.333333</td>\n",
       "      <td>0.40</td>\n",
       "      <td>0.5</td>\n",
       "      <td>0.8</td>\n",
       "      <td>1.000000</td>\n",
       "    </tr>\n",
       "  </tbody>\n",
       "</table>\n",
       "</div>"
      ],
      "text/plain": [
       "                                            question  \\\n",
       "0  What is the implication of histone lysine meth...   \n",
       "1  What is the role of STAG1/STAG2 proteins in di...   \n",
       "\n",
       "                                              answer    id  \\\n",
       "0  Aberrant patterns of H3K4, H3K9, and H3K27 his...  1682   \n",
       "1  STAG1/STAG2 proteins are tumour suppressor pro...  3722   \n",
       "\n",
       "                                relevant_passage_ids  \\\n",
       "0                     [23179372, 19270706, 23184418]   \n",
       "1  [26997282, 21589869, 19822671, 29867216, 15361...   \n",
       "\n",
       "                                      from_retriever  \\\n",
       "0  [11973307, 21562564, 22959745, 24462468, 10037...   \n",
       "1  [19822671, 16005652, 10881785, 23651670, 28430...   \n",
       "\n",
       "                                         from_ranker  Precision  Precision_sk  \\\n",
       "0  [23184418, 11973307, 21562564, 22959745, 24462...       0.15          0.15   \n",
       "1  [27298259, 21589869, 19822671, 26997282, 16005...       0.40          0.40   \n",
       "\n",
       "   Precision_sk_20  Precision_sk_10  Precision_sk_5  Precision_sk_3  \\\n",
       "0             0.15              0.1             0.0        0.000000   \n",
       "1             0.40              0.3             0.4        0.333333   \n",
       "\n",
       "   Precision_rank20  Precision_rank10  Precision_rank5  Precision_rank3  \n",
       "0              0.15               0.2              0.2         0.333333  \n",
       "1              0.40               0.5              0.8         1.000000  "
      ]
     },
     "execution_count": 21,
     "metadata": {},
     "output_type": "execute_result"
    }
   ],
   "source": [
    "for k in [20, 10, 5, 3]:\n",
    "    df_rag = precision_sklearn(df_rag, \"from_ranker\", \"relevant_passage_ids\", output_col=f'Precision_rank{k}', k=k)\n",
    "df_rag.head(2)"
   ]
  },
  {
   "cell_type": "code",
   "execution_count": 22,
   "id": "71d7c9bb",
   "metadata": {
    "ExecuteTime": {
     "end_time": "2024-09-02T15:41:51.834724Z",
     "start_time": "2024-09-02T15:41:51.831466Z"
    }
   },
   "outputs": [
    {
     "name": "stdout",
     "output_type": "stream",
     "text": [
      "precision_20 = 0.356\n",
      "precision_10 = 0.457\n",
      "precision_5 = 0.595\n",
      "precision_3 = 0.695\n"
     ]
    }
   ],
   "source": [
    "for k in [20, 10, 5, 3]:\n",
    "    print(f\"precision_{k} = {df_rag[f'Precision_rank{k}'].mean().round(3)}\")"
   ]
  },
  {
   "cell_type": "markdown",
   "id": "0458c128",
   "metadata": {},
   "source": [
    "## RECALL@K"
   ]
  },
  {
   "cell_type": "code",
   "execution_count": 23,
   "id": "39fc2da4",
   "metadata": {
    "ExecuteTime": {
     "end_time": "2024-09-02T15:42:07.625009Z",
     "start_time": "2024-09-02T15:41:51.835726Z"
    }
   },
   "outputs": [
    {
     "data": {
      "application/vnd.jupyter.widget-view+json": {
       "model_id": "2e41f994deb246f2a7b62e70f957ace1",
       "version_major": 2,
       "version_minor": 0
      },
      "text/plain": [
       "  0%|          | 0/4012 [00:00<?, ?it/s]"
      ]
     },
     "metadata": {},
     "output_type": "display_data"
    },
    {
     "name": "stdout",
     "output_type": "stream",
     "text": [
      "recall_rank20 = 0.837\n"
     ]
    },
    {
     "data": {
      "application/vnd.jupyter.widget-view+json": {
       "model_id": "df09231183ee4034b3838c03007215cd",
       "version_major": 2,
       "version_minor": 0
      },
      "text/plain": [
       "  0%|          | 0/4012 [00:00<?, ?it/s]"
      ]
     },
     "metadata": {},
     "output_type": "display_data"
    },
    {
     "name": "stdout",
     "output_type": "stream",
     "text": [
      "recall_rank10 = 0.634\n"
     ]
    },
    {
     "data": {
      "application/vnd.jupyter.widget-view+json": {
       "model_id": "1a8738610a1943e09a53e593426938ec",
       "version_major": 2,
       "version_minor": 0
      },
      "text/plain": [
       "  0%|          | 0/4012 [00:00<?, ?it/s]"
      ]
     },
     "metadata": {},
     "output_type": "display_data"
    },
    {
     "name": "stdout",
     "output_type": "stream",
     "text": [
      "recall_rank5 = 0.488\n"
     ]
    },
    {
     "data": {
      "application/vnd.jupyter.widget-view+json": {
       "model_id": "07f98796cb3547fa8bab2aab4bb0a66f",
       "version_major": 2,
       "version_minor": 0
      },
      "text/plain": [
       "  0%|          | 0/4012 [00:00<?, ?it/s]"
      ]
     },
     "metadata": {},
     "output_type": "display_data"
    },
    {
     "name": "stdout",
     "output_type": "stream",
     "text": [
      "recall_rank3 = 0.393\n"
     ]
    }
   ],
   "source": [
    "for k in [20, 10, 5, 3]:\n",
    "    df_rag = recall_sklearn(df_rag, \"from_ranker\", \"relevant_passage_ids\", output_col=f'recall_rank{k}', k=k)\n",
    "    print(f\"recall_rank{k} = {df_rag[f'recall_rank{k}'].mean().round(3)}\")"
   ]
  },
  {
   "cell_type": "code",
   "execution_count": 24,
   "id": "c6c2eb9c",
   "metadata": {
    "ExecuteTime": {
     "end_time": "2024-09-02T15:42:07.807122Z",
     "start_time": "2024-09-02T15:42:07.626013Z"
    }
   },
   "outputs": [
    {
     "data": {
      "application/vnd.jupyter.widget-view+json": {
       "model_id": "fc5e052d83cc4ecfa87b458634224008",
       "version_major": 2,
       "version_minor": 0
      },
      "text/plain": [
       "  0%|          | 0/4012 [00:00<?, ?it/s]"
      ]
     },
     "metadata": {},
     "output_type": "display_data"
    },
    {
     "name": "stdout",
     "output_type": "stream",
     "text": [
      "recall_rank20 = 0.837\n"
     ]
    },
    {
     "data": {
      "application/vnd.jupyter.widget-view+json": {
       "model_id": "049530ada4334ee18846acf192a549c0",
       "version_major": 2,
       "version_minor": 0
      },
      "text/plain": [
       "  0%|          | 0/4012 [00:00<?, ?it/s]"
      ]
     },
     "metadata": {},
     "output_type": "display_data"
    },
    {
     "name": "stdout",
     "output_type": "stream",
     "text": [
      "recall_rank10 = 0.634\n"
     ]
    },
    {
     "data": {
      "application/vnd.jupyter.widget-view+json": {
       "model_id": "668cc9ee240c4ba7bd33e209cc457770",
       "version_major": 2,
       "version_minor": 0
      },
      "text/plain": [
       "  0%|          | 0/4012 [00:00<?, ?it/s]"
      ]
     },
     "metadata": {},
     "output_type": "display_data"
    },
    {
     "name": "stdout",
     "output_type": "stream",
     "text": [
      "recall_rank5 = 0.488\n"
     ]
    },
    {
     "data": {
      "application/vnd.jupyter.widget-view+json": {
       "model_id": "69171fbe4d964ab8a3affcbd136c8094",
       "version_major": 2,
       "version_minor": 0
      },
      "text/plain": [
       "  0%|          | 0/4012 [00:00<?, ?it/s]"
      ]
     },
     "metadata": {},
     "output_type": "display_data"
    },
    {
     "name": "stdout",
     "output_type": "stream",
     "text": [
      "recall_rank3 = 0.393\n"
     ]
    }
   ],
   "source": [
    "for k in [20, 10, 5, 3]:\n",
    "    df_rag =calculate_recall(df_rag, \"from_ranker\", \"relevant_passage_ids\", output_col=f'recall_rank{k}', k=k)\n",
    "    print(f\"recall_rank{k} = {df_rag[f'recall_rank{k}'].mean().round(3)}\")"
   ]
  },
  {
   "cell_type": "markdown",
   "id": "e0d4a9af",
   "metadata": {
    "ExecuteTime": {
     "end_time": "2024-09-02T13:11:25.349989Z",
     "start_time": "2024-09-02T13:11:25.347213Z"
    }
   },
   "source": [
    "## F1@K"
   ]
  },
  {
   "cell_type": "code",
   "execution_count": 25,
   "id": "a024afc2",
   "metadata": {
    "ExecuteTime": {
     "end_time": "2024-09-02T15:42:23.785530Z",
     "start_time": "2024-09-02T15:42:07.808126Z"
    }
   },
   "outputs": [
    {
     "data": {
      "application/vnd.jupyter.widget-view+json": {
       "model_id": "faafbb99cf1b4123b1ced3a2609accc8",
       "version_major": 2,
       "version_minor": 0
      },
      "text/plain": [
       "  0%|          | 0/4012 [00:00<?, ?it/s]"
      ]
     },
     "metadata": {},
     "output_type": "display_data"
    },
    {
     "name": "stdout",
     "output_type": "stream",
     "text": [
      "f1@20 = 0.89\n"
     ]
    },
    {
     "data": {
      "application/vnd.jupyter.widget-view+json": {
       "model_id": "f11f25f382614b7b9ff539f6ec3edc0c",
       "version_major": 2,
       "version_minor": 0
      },
      "text/plain": [
       "  0%|          | 0/4012 [00:00<?, ?it/s]"
      ]
     },
     "metadata": {},
     "output_type": "display_data"
    },
    {
     "name": "stdout",
     "output_type": "stream",
     "text": [
      "f1@10 = 0.539\n"
     ]
    },
    {
     "data": {
      "application/vnd.jupyter.widget-view+json": {
       "model_id": "e74c5ddb879440838441510afa6decb5",
       "version_major": 2,
       "version_minor": 0
      },
      "text/plain": [
       "  0%|          | 0/4012 [00:00<?, ?it/s]"
      ]
     },
     "metadata": {},
     "output_type": "display_data"
    },
    {
     "name": "stdout",
     "output_type": "stream",
     "text": [
      "f1@5 = 0.295\n"
     ]
    },
    {
     "data": {
      "application/vnd.jupyter.widget-view+json": {
       "model_id": "e966af7ee80f4eebae51d00a2b55b844",
       "version_major": 2,
       "version_minor": 0
      },
      "text/plain": [
       "  0%|          | 0/4012 [00:00<?, ?it/s]"
      ]
     },
     "metadata": {},
     "output_type": "display_data"
    },
    {
     "name": "stdout",
     "output_type": "stream",
     "text": [
      "f1@3 = 0.186\n"
     ]
    }
   ],
   "source": [
    "for k in [20, 10, 5, 3]:\n",
    "    df_rag =fbeta_sklearn(df_rag, \"from_retriever\", \"relevant_passage_ids\", output_col=f'f1@{k}', k=k)\n",
    "    print(f\"f1@{k} = {df_rag[f'f1@{k}'].mean().round(3)}\")"
   ]
  },
  {
   "cell_type": "markdown",
   "id": "081ff5fb",
   "metadata": {},
   "source": [
    "======================================================================================================================="
   ]
  },
  {
   "cell_type": "markdown",
   "id": "6e22c7cb",
   "metadata": {},
   "source": [
    "# МЕТРИКИ, УЧИТЫВАЮЩИЕ РАНЖИРОВАНИЕ"
   ]
  },
  {
   "cell_type": "markdown",
   "id": "d0afc1da",
   "metadata": {},
   "source": [
    "## MRR"
   ]
  },
  {
   "cell_type": "code",
   "execution_count": 26,
   "id": "ba3439c3",
   "metadata": {
    "ExecuteTime": {
     "end_time": "2024-09-02T15:42:23.822131Z",
     "start_time": "2024-09-02T15:42:23.786536Z"
    }
   },
   "outputs": [
    {
     "name": "stdout",
     "output_type": "stream",
     "text": [
      "MRR = 0.505\n"
     ]
    }
   ],
   "source": [
    "df_rag, mrr = calculate_mrr(df_rag, \"from_retriever\", \"relevant_passage_ids\", output_col=\"RR_ret\")"
   ]
  },
  {
   "cell_type": "code",
   "execution_count": 27,
   "id": "38f448bc",
   "metadata": {
    "ExecuteTime": {
     "end_time": "2024-09-02T15:42:23.859351Z",
     "start_time": "2024-09-02T15:42:23.826139Z"
    }
   },
   "outputs": [
    {
     "name": "stdout",
     "output_type": "stream",
     "text": [
      "MRR = 0.881\n"
     ]
    }
   ],
   "source": [
    "df_rag, mrr = calculate_mrr(df_rag, \"from_ranker\", \"relevant_passage_ids\", output_col=\"RR_ran\")"
   ]
  },
  {
   "cell_type": "markdown",
   "id": "03d40bdb",
   "metadata": {},
   "source": [
    "## AP/MAP"
   ]
  },
  {
   "cell_type": "code",
   "execution_count": 28,
   "id": "16e8980a",
   "metadata": {
    "ExecuteTime": {
     "end_time": "2024-09-02T15:42:23.997048Z",
     "start_time": "2024-09-02T15:42:23.860359Z"
    }
   },
   "outputs": [
    {
     "name": "stdout",
     "output_type": "stream",
     "text": [
      "MAP@20 = 0.366\n",
      "MAP@10 = 0.216\n",
      "MAP@5 = 0.13\n",
      "MAP@3 = 0.091\n"
     ]
    }
   ],
   "source": [
    "for k in [20, 10, 5, 3]:\n",
    "    df_rag, _map =calculate_map(df_rag, \"from_retriever\", \"relevant_passage_ids\", output_col=f'AP@{k}', k=k)"
   ]
  },
  {
   "cell_type": "code",
   "execution_count": 30,
   "id": "acb835ed",
   "metadata": {
    "ExecuteTime": {
     "end_time": "2024-09-02T15:44:08.057846Z",
     "start_time": "2024-09-02T15:44:07.926866Z"
    }
   },
   "outputs": [
    {
     "name": "stdout",
     "output_type": "stream",
     "text": [
      "MAP@20 = 0.647\n",
      "MAP@10 = 0.534\n",
      "MAP@5 = 0.439\n",
      "MAP@3 = 0.366\n"
     ]
    }
   ],
   "source": [
    "for k in [20, 10, 5, 3]:\n",
    "    df_rag, _map =calculate_map(df_rag, \"from_ranker\", \"relevant_passage_ids\", output_col=f'_AP@{k}', k=k)"
   ]
  },
  {
   "cell_type": "code",
   "execution_count": null,
   "id": "7c5b007d",
   "metadata": {},
   "outputs": [],
   "source": []
  }
 ],
 "metadata": {
  "kernelspec": {
   "display_name": "Python 3 (ipykernel)",
   "language": "python",
   "name": "python3"
  },
  "language_info": {
   "codemirror_mode": {
    "name": "ipython",
    "version": 3
   },
   "file_extension": ".py",
   "mimetype": "text/x-python",
   "name": "python",
   "nbconvert_exporter": "python",
   "pygments_lexer": "ipython3",
   "version": "3.11.5"
  },
  "toc": {
   "base_numbering": 1,
   "nav_menu": {},
   "number_sections": true,
   "sideBar": true,
   "skip_h1_title": false,
   "title_cell": "Table of Contents",
   "title_sidebar": "Contents",
   "toc_cell": false,
   "toc_position": {},
   "toc_section_display": true,
   "toc_window_display": false
  },
  "varInspector": {
   "cols": {
    "lenName": 16,
    "lenType": 16,
    "lenVar": 40
   },
   "kernels_config": {
    "python": {
     "delete_cmd_postfix": "",
     "delete_cmd_prefix": "del ",
     "library": "var_list.py",
     "varRefreshCmd": "print(var_dic_list())"
    },
    "r": {
     "delete_cmd_postfix": ") ",
     "delete_cmd_prefix": "rm(",
     "library": "var_list.r",
     "varRefreshCmd": "cat(var_dic_list()) "
    }
   },
   "types_to_exclude": [
    "module",
    "function",
    "builtin_function_or_method",
    "instance",
    "_Feature"
   ],
   "window_display": false
  }
 },
 "nbformat": 4,
 "nbformat_minor": 5
}
